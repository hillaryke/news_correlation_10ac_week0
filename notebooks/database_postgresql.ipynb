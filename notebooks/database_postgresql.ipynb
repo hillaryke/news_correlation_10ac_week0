{
 "cells": [
  {
   "cell_type": "markdown",
   "source": [
    "# Integrate postgresql database"
   ],
   "metadata": {
    "collapsed": false
   },
   "id": "72a9cce09d25a266"
  },
  {
   "cell_type": "code",
   "outputs": [],
   "source": [],
   "metadata": {
    "collapsed": false,
    "ExecuteTime": {
     "end_time": "2024-04-12T08:49:15.218535Z",
     "start_time": "2024-04-12T08:49:15.216371Z"
    }
   },
   "id": "21ee5f5bdd969187",
   "execution_count": 0
  },
  {
   "cell_type": "code",
   "outputs": [],
   "source": [
    "import psycopg2"
   ],
   "metadata": {
    "collapsed": false,
    "ExecuteTime": {
     "end_time": "2024-04-12T08:49:15.243322Z",
     "start_time": "2024-04-12T08:49:15.231080Z"
    }
   },
   "id": "9056125b61000c47",
   "execution_count": 1
  },
  {
   "cell_type": "code",
   "outputs": [],
   "source": [
    "conn = psycopg2.connect(\n",
    "    host=\"localhost\",\n",
    "    database=\"postgres\",\n",
    "    user=\"postgres\",    \n",
    "    password=\"\")\n"
   ],
   "metadata": {
    "collapsed": false,
    "is_executing": true,
    "ExecuteTime": {
     "start_time": "2024-04-12T08:49:16.066709Z"
    }
   },
   "id": "e192df4449aa06b2",
   "execution_count": null
  },
  {
   "cell_type": "code",
   "outputs": [
    {
     "ename": "NameError",
     "evalue": "name 'conn' is not defined",
     "output_type": "error",
     "traceback": [
      "\u001B[0;31m---------------------------------------------------------------------------\u001B[0m",
      "\u001B[0;31mNameError\u001B[0m                                 Traceback (most recent call last)",
      "Cell \u001B[0;32mIn[1], line 2\u001B[0m\n\u001B[1;32m      1\u001B[0m \u001B[38;5;66;03m# Create a cursor object using the cursor() method\u001B[39;00m\n\u001B[0;32m----> 2\u001B[0m cursor \u001B[38;5;241m=\u001B[39m conn\u001B[38;5;241m.\u001B[39mcursor()\n",
      "\u001B[0;31mNameError\u001B[0m: name 'conn' is not defined"
     ]
    }
   ],
   "source": [
    "# Create a cursor object using the cursor() method\n",
    "cursor = conn.cursor()\n"
   ],
   "metadata": {
    "collapsed": false,
    "ExecuteTime": {
     "end_time": "2024-04-12T07:43:40.490584Z",
     "start_time": "2024-04-12T07:43:39.122155Z"
    }
   },
   "id": "d83efc92aaad519d",
   "execution_count": 1
  },
  {
   "cell_type": "code",
   "outputs": [],
   "source": [],
   "metadata": {
    "collapsed": false
   },
   "id": "7f4f3ff219247ba7"
  }
 ],
 "metadata": {
  "kernelspec": {
   "name": "10academyw0",
   "language": "python",
   "display_name": "Python (10academyw0)"
  },
  "language_info": {
   "codemirror_mode": {
    "name": "ipython",
    "version": 2
   },
   "file_extension": ".py",
   "mimetype": "text/x-python",
   "name": "python",
   "nbconvert_exporter": "python",
   "pygments_lexer": "ipython2",
   "version": "2.7.6"
  }
 },
 "nbformat": 4,
 "nbformat_minor": 5
}

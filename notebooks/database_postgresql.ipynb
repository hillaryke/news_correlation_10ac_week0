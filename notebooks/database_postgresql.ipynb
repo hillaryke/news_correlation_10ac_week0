{
 "cells": [
  {
   "cell_type": "markdown",
   "source": [
    "# Integrate postgresql database"
   ],
   "metadata": {
    "collapsed": false
   },
   "id": "72a9cce09d25a266"
  },
  {
   "cell_type": "code",
   "outputs": [],
   "source": [],
   "metadata": {
    "collapsed": false,
    "ExecuteTime": {
     "end_time": "2024-04-12T08:49:15.218535Z",
     "start_time": "2024-04-12T08:49:15.216371Z"
    }
   },
   "id": "21ee5f5bdd969187",
   "execution_count": 0
  },
  {
   "cell_type": "code",
   "outputs": [],
   "source": [
    "import psycopg2"
   ],
   "metadata": {
    "collapsed": false,
    "ExecuteTime": {
     "end_time": "2024-04-22T11:48:23.173926Z",
     "start_time": "2024-04-22T11:48:23.163542Z"
    }
   },
   "id": "9056125b61000c47",
   "execution_count": 1
  },
  {
   "cell_type": "code",
   "outputs": [],
   "source": [
    "conn = psycopg2.connect(\n",
    "    host=\"localhost\",\n",
    "    database=\"postgres\",\n",
    "    user=\"postgres\",    \n",
    "    password=\"tele1234\")\n"
   ],
   "metadata": {
    "collapsed": false,
    "ExecuteTime": {
     "end_time": "2024-04-22T11:48:43.657455Z",
     "start_time": "2024-04-22T11:48:43.649862Z"
    }
   },
   "id": "e192df4449aa06b2",
   "execution_count": 5
  },
  {
   "cell_type": "code",
   "outputs": [],
   "source": [
    "# Create a cursor object using the cursor() method\n",
    "cursor = conn.cursor()\n"
   ],
   "metadata": {
    "collapsed": false,
    "ExecuteTime": {
     "end_time": "2024-04-22T11:48:44.870119Z",
     "start_time": "2024-04-22T11:48:44.867366Z"
    }
   },
   "id": "d83efc92aaad519d",
   "execution_count": 6
  },
  {
   "cell_type": "code",
   "outputs": [],
   "source": [],
   "metadata": {
    "collapsed": false
   },
   "id": "7f4f3ff219247ba7"
  }
 ],
 "metadata": {
  "kernelspec": {
   "name": "10academyw0",
   "language": "python",
   "display_name": "Python (10academyw0)"
  },
  "language_info": {
   "codemirror_mode": {
    "name": "ipython",
    "version": 2
   },
   "file_extension": ".py",
   "mimetype": "text/x-python",
   "name": "python",
   "nbconvert_exporter": "python",
   "pygments_lexer": "ipython2",
   "version": "2.7.6"
  }
 },
 "nbformat": 4,
 "nbformat_minor": 5
}

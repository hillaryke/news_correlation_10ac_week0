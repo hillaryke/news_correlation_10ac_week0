{
 "nbformat": 4,
 "nbformat_minor": 0,
 "metadata": {
  "colab": {
   "provenance": []
  },
  "kernelspec": {
   "name": "python3",
   "language": "python",
   "display_name": "Python 3 (ipykernel)"
  },
  "language_info": {
   "name": "python"
  }
 },
 "cells": [
  {
   "cell_type": "markdown",
   "source": [
    "# **Initialization**"
   ],
   "metadata": {
    "id": "EHJZmNu79yo1"
   }
  },
  {
   "cell_type": "markdown",
   "source": [],
   "metadata": {
    "collapsed": false
   }
  },
  {
   "cell_type": "code",
   "execution_count": 19,
   "metadata": {
    "id": "CwF9-uPxqq9H",
    "ExecuteTime": {
     "end_time": "2024-04-13T04:44:18.313646Z",
     "start_time": "2024-04-13T04:44:18.300990Z"
    }
   },
   "outputs": [],
   "source": [
    "import pandas as pd\n",
    "# from textblob import TextBlob\n",
    "import re\n",
    "import spacy\n",
    "from collections import Counter\n",
    "# from google.colab import drive"
   ]
  },
  {
   "cell_type": "markdown",
   "source": [
    " #### Mount google drive where the csv files are stored"
   ],
   "metadata": {
    "id": "V1-noCOLGrM-"
   }
  },
  {
   "cell_type": "code",
   "source": [
    "# Mount Google Drive\n",
    "# drive.mount('/content/drive', force_remount=True)"
   ],
   "metadata": {
    "colab": {
     "base_uri": "https://localhost:8080/"
    },
    "id": "ufJgt1IKGp-R",
    "outputId": "70f890a0-7b81-4ee9-d857-2324a5a1c571",
    "ExecuteTime": {
     "end_time": "2024-04-13T04:44:18.603197Z",
     "start_time": "2024-04-13T04:44:18.599267Z"
    }
   },
   "execution_count": 20,
   "outputs": []
  },
  {
   "cell_type": "markdown",
   "source": [
    "### Confirm if drive is mounted by listing the drive contents"
   ],
   "metadata": {
    "id": "SNwiOsie-Rwj"
   }
  },
  {
   "cell_type": "code",
   "source": [
    "# !ls \"/content/drive/My Drive\""
   ],
   "metadata": {
    "id": "-kDJtseNLTkv",
    "ExecuteTime": {
     "end_time": "2024-04-13T04:44:18.656980Z",
     "start_time": "2024-04-13T04:44:18.649673Z"
    }
   },
   "execution_count": 21,
   "outputs": []
  },
  {
   "cell_type": "markdown",
   "source": [
    "##### Read the CSV files into pandas DataFrames"
   ],
   "metadata": {
    "id": "tIjkXVL7s8wb"
   }
  },
  {
   "cell_type": "code",
   "source": [
    "# news_data = pd.read_csv('/content/drive/My Drive/all_news_data/data.csv')\n",
    "# traffic_data = pd.read_csv('/content/drive/My Drive/all_news_data/traffic.csv')\n",
    "# domains_location_data = pd.read_csv('/content/drive/My Drive/all_news_data/domains_location.csv')"
   ],
   "metadata": {
    "id": "J8ulL16loykm",
    "ExecuteTime": {
     "end_time": "2024-04-13T04:44:18.731992Z",
     "start_time": "2024-04-13T04:44:18.729600Z"
    }
   },
   "execution_count": 22,
   "outputs": []
  },
  {
   "cell_type": "markdown",
   "source": [],
   "metadata": {
    "collapsed": false
   }
  },
  {
   "cell_type": "code",
   "outputs": [],
   "source": [],
   "metadata": {
    "collapsed": false,
    "ExecuteTime": {
     "end_time": "2024-04-13T04:44:18.741784Z",
     "start_time": "2024-04-13T04:44:18.737623Z"
    }
   },
   "execution_count": 22
  },
  {
   "cell_type": "code",
   "outputs": [],
   "source": [
    "news_data = pd.read_csv('../data/data.csv')\n",
    "traffic_data = pd.read_csv('../data/traffic.csv')\n",
    "domains_location_data = pd.read_csv('../data/domains_location.csv')"
   ],
   "metadata": {
    "collapsed": false,
    "ExecuteTime": {
     "end_time": "2024-04-13T04:44:39.871733Z",
     "start_time": "2024-04-13T04:44:18.768912Z"
    }
   },
   "execution_count": 23
  },
  {
   "cell_type": "code",
   "source": [
    "news_data.columns"
   ],
   "metadata": {
    "colab": {
     "base_uri": "https://localhost:8080/"
    },
    "id": "JKg5Fb43MThF",
    "outputId": "01944be1-6429-441e-bd58-a03f64cd6085",
    "ExecuteTime": {
     "end_time": "2024-04-13T04:44:39.878408Z",
     "start_time": "2024-04-13T04:44:39.873732Z"
    }
   },
   "execution_count": 24,
   "outputs": [
    {
     "data": {
      "text/plain": "Index(['article_id', 'source_id', 'source_name', 'author', 'title',\n       'description', 'url', 'url_to_image', 'published_at', 'content',\n       'category', 'full_content'],\n      dtype='object')"
     },
     "execution_count": 24,
     "metadata": {},
     "output_type": "execute_result"
    }
   ]
  },
  {
   "cell_type": "code",
   "source": [
    "news_data.head()"
   ],
   "metadata": {
    "colab": {
     "base_uri": "https://localhost:8080/",
     "height": 538
    },
    "id": "r2ns2ieqR7eM",
    "outputId": "3e4442ae-cb3a-4f69-8dda-e02786ac67c9",
    "ExecuteTime": {
     "end_time": "2024-04-13T04:44:39.887949Z",
     "start_time": "2024-04-13T04:44:39.879127Z"
    }
   },
   "execution_count": 25,
   "outputs": [
    {
     "data": {
      "text/plain": "   article_id source_id                   source_name  \\\n0       89541       NaN  International Business Times   \n1       89542       NaN                    Prtimes.jp   \n2       89543       NaN                      VOA News   \n3       89545       NaN            The Indian Express   \n4       89547       NaN           The Times of Israel   \n\n                                       author  \\\n0                              Paavan MATHEMA   \n1                                         NaN   \n2  webdesk@voanews.com (Agence France-Presse)   \n3                                   Editorial   \n4                                 Jacob Magid   \n\n                                               title  \\\n0  UN Chief Urges World To 'Stop The Madness' Of ...   \n1              RANDEBOOよりワンランク上の大人っぽさが漂うニットとベストが新登場。   \n2  UN Chief Urges World to 'Stop the Madness' of ...   \n3  Sikkim warning: Hydroelectricity push must be ...   \n4  200 foreigners, dual nationals cut down in Ham...   \n\n                                         description  \\\n0  UN Secretary-General Antonio Guterres urged th...   \n1  [株式会社Ainer]\\nRANDEBOO（ランデブー）では2023年7月18日(火)より公...   \n2  UN Secretary-General Antonio Guterres urged th...   \n3  Ecologists caution against the adverse effects...   \n4  France lost 35 citizens, Thailand 33, US 31, U...   \n\n                                                 url  \\\n0  https://www.ibtimes.com/un-chief-urges-world-s...   \n1  https://prtimes.jp/main/html/rd/p/000000147.00...   \n2  https://www.voanews.com/a/un-chief-urges-world...   \n3  https://indianexpress.com/article/opinion/edit...   \n4  https://www.timesofisrael.com/200-foreigners-d...   \n\n                                        url_to_image  \\\n0  https://d.ibtimes.com/en/full/4496078/nepals-g...   \n1  https://prtimes.jp/i/32220/147/ogp/d32220-147-...   \n2  https://gdb.voanews.com/01000000-0a00-0242-60f...   \n3  https://images.indianexpress.com/2023/10/edit-...   \n4  https://static.timesofisrael.com/www/uploads/2...   \n\n                 published_at  \\\n0  2023-10-30 10:12:35.000000   \n1  2023-10-06 04:40:02.000000   \n2  2023-10-30 10:53:30.000000   \n3  2023-10-06 01:20:24.000000   \n4  2023-10-27 01:08:34.000000   \n\n                                             content category  \\\n0  UN Secretary-General Antonio Guterres urged th...    Nepal   \n1  RANDEBOO2023718()WEB2023 Autumn Winter \\n\"Nepa...    Nepal   \n2  Kathmandu, Nepal  UN Secretary-General Antonio...    Nepal   \n3  At least 14 persons lost their lives and more ...    Nepal   \n4  Scores of foreign citizens were killed, taken ...    Nepal   \n\n                                        full_content  \n0  UN Secretary-General Antonio Guterres urged th...  \n1                                                NaN  \n2                                                NaN  \n3  At least 14 persons lost their lives and more ...  \n4                                                NaN  ",
      "text/html": "<div>\n<style scoped>\n    .dataframe tbody tr th:only-of-type {\n        vertical-align: middle;\n    }\n\n    .dataframe tbody tr th {\n        vertical-align: top;\n    }\n\n    .dataframe thead th {\n        text-align: right;\n    }\n</style>\n<table border=\"1\" class=\"dataframe\">\n  <thead>\n    <tr style=\"text-align: right;\">\n      <th></th>\n      <th>article_id</th>\n      <th>source_id</th>\n      <th>source_name</th>\n      <th>author</th>\n      <th>title</th>\n      <th>description</th>\n      <th>url</th>\n      <th>url_to_image</th>\n      <th>published_at</th>\n      <th>content</th>\n      <th>category</th>\n      <th>full_content</th>\n    </tr>\n  </thead>\n  <tbody>\n    <tr>\n      <th>0</th>\n      <td>89541</td>\n      <td>NaN</td>\n      <td>International Business Times</td>\n      <td>Paavan MATHEMA</td>\n      <td>UN Chief Urges World To 'Stop The Madness' Of ...</td>\n      <td>UN Secretary-General Antonio Guterres urged th...</td>\n      <td>https://www.ibtimes.com/un-chief-urges-world-s...</td>\n      <td>https://d.ibtimes.com/en/full/4496078/nepals-g...</td>\n      <td>2023-10-30 10:12:35.000000</td>\n      <td>UN Secretary-General Antonio Guterres urged th...</td>\n      <td>Nepal</td>\n      <td>UN Secretary-General Antonio Guterres urged th...</td>\n    </tr>\n    <tr>\n      <th>1</th>\n      <td>89542</td>\n      <td>NaN</td>\n      <td>Prtimes.jp</td>\n      <td>NaN</td>\n      <td>RANDEBOOよりワンランク上の大人っぽさが漂うニットとベストが新登場。</td>\n      <td>[株式会社Ainer]\\nRANDEBOO（ランデブー）では2023年7月18日(火)より公...</td>\n      <td>https://prtimes.jp/main/html/rd/p/000000147.00...</td>\n      <td>https://prtimes.jp/i/32220/147/ogp/d32220-147-...</td>\n      <td>2023-10-06 04:40:02.000000</td>\n      <td>RANDEBOO2023718()WEB2023 Autumn Winter \\n\"Nepa...</td>\n      <td>Nepal</td>\n      <td>NaN</td>\n    </tr>\n    <tr>\n      <th>2</th>\n      <td>89543</td>\n      <td>NaN</td>\n      <td>VOA News</td>\n      <td>webdesk@voanews.com (Agence France-Presse)</td>\n      <td>UN Chief Urges World to 'Stop the Madness' of ...</td>\n      <td>UN Secretary-General Antonio Guterres urged th...</td>\n      <td>https://www.voanews.com/a/un-chief-urges-world...</td>\n      <td>https://gdb.voanews.com/01000000-0a00-0242-60f...</td>\n      <td>2023-10-30 10:53:30.000000</td>\n      <td>Kathmandu, Nepal  UN Secretary-General Antonio...</td>\n      <td>Nepal</td>\n      <td>NaN</td>\n    </tr>\n    <tr>\n      <th>3</th>\n      <td>89545</td>\n      <td>NaN</td>\n      <td>The Indian Express</td>\n      <td>Editorial</td>\n      <td>Sikkim warning: Hydroelectricity push must be ...</td>\n      <td>Ecologists caution against the adverse effects...</td>\n      <td>https://indianexpress.com/article/opinion/edit...</td>\n      <td>https://images.indianexpress.com/2023/10/edit-...</td>\n      <td>2023-10-06 01:20:24.000000</td>\n      <td>At least 14 persons lost their lives and more ...</td>\n      <td>Nepal</td>\n      <td>At least 14 persons lost their lives and more ...</td>\n    </tr>\n    <tr>\n      <th>4</th>\n      <td>89547</td>\n      <td>NaN</td>\n      <td>The Times of Israel</td>\n      <td>Jacob Magid</td>\n      <td>200 foreigners, dual nationals cut down in Ham...</td>\n      <td>France lost 35 citizens, Thailand 33, US 31, U...</td>\n      <td>https://www.timesofisrael.com/200-foreigners-d...</td>\n      <td>https://static.timesofisrael.com/www/uploads/2...</td>\n      <td>2023-10-27 01:08:34.000000</td>\n      <td>Scores of foreign citizens were killed, taken ...</td>\n      <td>Nepal</td>\n      <td>NaN</td>\n    </tr>\n  </tbody>\n</table>\n</div>"
     },
     "execution_count": 25,
     "metadata": {},
     "output_type": "execute_result"
    }
   ]
  },
  {
   "cell_type": "markdown",
   "source": [
    "# **Data preprocessing**"
   ],
   "metadata": {
    "id": "Bs1lhMGJOWSr"
   }
  },
  {
   "cell_type": "code",
   "source": [
    "# Function to preprocess source_name into source_id\n",
    "def preprocess_source_id(source_name):\n",
    "    # Convert to lowercase\n",
    "    source_id = source_name.lower()\n",
    "    # Replace spaces with hyphens\n",
    "    source_id = source_id.replace(\" \", \"-\")\n",
    "    # Keep only alphanumeric characters, hyphens, brackets and full stops\n",
    "    source_id = re.sub(r'[^\\w\\-.()]+', '', source_id)\n",
    "    return source_id\n",
    "\n",
    "# Apply the function to the source_name column to create the source_id column\n",
    "news_data['source_id'] = news_data['source_name'].apply(preprocess_source_id)"
   ],
   "metadata": {
    "id": "3hVEzuAdmIWZ",
    "ExecuteTime": {
     "end_time": "2024-04-13T04:44:40.058196Z",
     "start_time": "2024-04-13T04:44:39.890855Z"
    }
   },
   "execution_count": 26,
   "outputs": []
  },
  {
   "cell_type": "code",
   "source": [
    "# Preprocessing for author column missing values\n",
    "news_data['author'].fillna('Unknown', inplace=True)\n",
    "\n",
    "# Deal with full_content\n",
    "news_data.dropna(subset=['full_content'], inplace=True)\n",
    "\n",
    "# Since url_to_image is not important we can fill with placeholder\n",
    "news_data['url_to_image'].fillna('http://example.com/placeholder.jpg', inplace=True)\n",
    "\n",
    "# same with description column, use placeholder, unless otherwise important\n",
    "news_data['description'].fillna('No description provided', inplace=True)\n",
    "\n",
    "# Replace missing values in 'category' with 'Unknown'\n",
    "news_data['category'].fillna('Unknown', inplace=True)\n",
    "\n",
    "# Replace missing values in 'title' with 'No title provided'\n",
    "news_data['title'].fillna('No title provided', inplace=True)"
   ],
   "metadata": {
    "id": "joe7r84GnkXa",
    "ExecuteTime": {
     "end_time": "2024-04-13T04:44:40.184235Z",
     "start_time": "2024-04-13T04:44:40.059443Z"
    }
   },
   "execution_count": 27,
   "outputs": []
  },
  {
   "cell_type": "code",
   "source": [
    "# Perform preprocessing and clean missing values on the domains_info dataset\n",
    "domains_location_data.dropna(subset=['Country'], inplace=True)"
   ],
   "metadata": {
    "id": "ulw2ymm0qT-4",
    "ExecuteTime": {
     "end_time": "2024-04-13T04:44:40.205120Z",
     "start_time": "2024-04-13T04:44:40.185696Z"
    }
   },
   "execution_count": 28,
   "outputs": []
  },
  {
   "cell_type": "markdown",
   "source": [
    "### More Preprocessing, on date fields"
   ],
   "metadata": {
    "id": "I_jAlpZm3rqr"
   }
  },
  {
   "cell_type": "code",
   "source": [
    "# prompt: Using dataframe news_data: perform data preprocessing and cleaning\n",
    "\n",
    "# Check for missing values\n",
    "news_data.isnull().sum()\n",
    "\n",
    "# Drop rows with missing values\n",
    "news_data.dropna(inplace=True)\n",
    "\n",
    "# Remove duplicate rows\n",
    "news_data.drop_duplicates(inplace=True)\n",
    "\n",
    "# Convert the 'published_at' column to datetime format\n",
    "news_data['published_at'] = pd.to_datetime(news_data['published_at'], format='ISO8601')\n",
    "# news_data['published_at'] = pd.to_datetime(news_data['published_at'])\n",
    "\n",
    "# Extract the year from the 'published_at' column\n",
    "news_data['year'] = news_data['published_at'].dt.year\n",
    "\n",
    "# Group the data by year and calculate"
   ],
   "metadata": {
    "id": "NwIWpCawiG0S",
    "ExecuteTime": {
     "end_time": "2024-04-13T04:45:26.259918Z",
     "start_time": "2024-04-13T04:45:25.402665Z"
    }
   },
   "execution_count": 30,
   "outputs": [
    {
     "ename": "ValueError",
     "evalue": "time data '2023-10-30 10:12:35.000000' does not match format 'ISO8601' (match)",
     "output_type": "error",
     "traceback": [
      "\u001B[0;31m---------------------------------------------------------------------------\u001B[0m",
      "\u001B[0;31mValueError\u001B[0m                                Traceback (most recent call last)",
      "Cell \u001B[0;32mIn[30], line 13\u001B[0m\n\u001B[1;32m     10\u001B[0m news_data\u001B[38;5;241m.\u001B[39mdrop_duplicates(inplace\u001B[38;5;241m=\u001B[39m\u001B[38;5;28;01mTrue\u001B[39;00m)\n\u001B[1;32m     12\u001B[0m \u001B[38;5;66;03m# Convert the 'published_at' column to datetime format\u001B[39;00m\n\u001B[0;32m---> 13\u001B[0m news_data[\u001B[38;5;124m'\u001B[39m\u001B[38;5;124mpublished_at\u001B[39m\u001B[38;5;124m'\u001B[39m] \u001B[38;5;241m=\u001B[39m pd\u001B[38;5;241m.\u001B[39mto_datetime(news_data[\u001B[38;5;124m'\u001B[39m\u001B[38;5;124mpublished_at\u001B[39m\u001B[38;5;124m'\u001B[39m], \u001B[38;5;28mformat\u001B[39m\u001B[38;5;241m=\u001B[39m\u001B[38;5;124m'\u001B[39m\u001B[38;5;124mISO8601\u001B[39m\u001B[38;5;124m'\u001B[39m)\n\u001B[1;32m     14\u001B[0m \u001B[38;5;66;03m# news_data['published_at'] = pd.to_datetime(news_data['published_at'])\u001B[39;00m\n\u001B[1;32m     15\u001B[0m \n\u001B[1;32m     16\u001B[0m \u001B[38;5;66;03m# Extract the year from the 'published_at' column\u001B[39;00m\n\u001B[1;32m     17\u001B[0m news_data[\u001B[38;5;124m'\u001B[39m\u001B[38;5;124myear\u001B[39m\u001B[38;5;124m'\u001B[39m] \u001B[38;5;241m=\u001B[39m news_data[\u001B[38;5;124m'\u001B[39m\u001B[38;5;124mpublished_at\u001B[39m\u001B[38;5;124m'\u001B[39m]\u001B[38;5;241m.\u001B[39mdt\u001B[38;5;241m.\u001B[39myear\n",
      "File \u001B[0;32m~/anaconda3/envs/10academyw0/lib/python3.12/site-packages/pandas/core/tools/datetimes.py:1068\u001B[0m, in \u001B[0;36mto_datetime\u001B[0;34m(arg, errors, dayfirst, yearfirst, utc, format, exact, unit, infer_datetime_format, origin, cache)\u001B[0m\n\u001B[1;32m   1066\u001B[0m         result \u001B[38;5;241m=\u001B[39m arg\u001B[38;5;241m.\u001B[39mmap(cache_array)\n\u001B[1;32m   1067\u001B[0m     \u001B[38;5;28;01melse\u001B[39;00m:\n\u001B[0;32m-> 1068\u001B[0m         values \u001B[38;5;241m=\u001B[39m convert_listlike(arg\u001B[38;5;241m.\u001B[39m_values, \u001B[38;5;28mformat\u001B[39m)\n\u001B[1;32m   1069\u001B[0m         result \u001B[38;5;241m=\u001B[39m arg\u001B[38;5;241m.\u001B[39m_constructor(values, index\u001B[38;5;241m=\u001B[39marg\u001B[38;5;241m.\u001B[39mindex, name\u001B[38;5;241m=\u001B[39marg\u001B[38;5;241m.\u001B[39mname)\n\u001B[1;32m   1070\u001B[0m \u001B[38;5;28;01melif\u001B[39;00m \u001B[38;5;28misinstance\u001B[39m(arg, (ABCDataFrame, abc\u001B[38;5;241m.\u001B[39mMutableMapping)):\n",
      "File \u001B[0;32m~/anaconda3/envs/10academyw0/lib/python3.12/site-packages/pandas/core/tools/datetimes.py:430\u001B[0m, in \u001B[0;36m_convert_listlike_datetimes\u001B[0;34m(arg, format, name, tz, unit, errors, infer_datetime_format, dayfirst, yearfirst, exact)\u001B[0m\n\u001B[1;32m    427\u001B[0m         \u001B[38;5;28mformat\u001B[39m \u001B[38;5;241m=\u001B[39m \u001B[38;5;28;01mNone\u001B[39;00m\n\u001B[1;32m    429\u001B[0m \u001B[38;5;28;01mif\u001B[39;00m \u001B[38;5;28mformat\u001B[39m \u001B[38;5;129;01mis\u001B[39;00m \u001B[38;5;129;01mnot\u001B[39;00m \u001B[38;5;28;01mNone\u001B[39;00m:\n\u001B[0;32m--> 430\u001B[0m     res \u001B[38;5;241m=\u001B[39m _to_datetime_with_format(\n\u001B[1;32m    431\u001B[0m         arg, orig_arg, name, tz, \u001B[38;5;28mformat\u001B[39m, exact, errors, infer_datetime_format\n\u001B[1;32m    432\u001B[0m     )\n\u001B[1;32m    433\u001B[0m     \u001B[38;5;28;01mif\u001B[39;00m res \u001B[38;5;129;01mis\u001B[39;00m \u001B[38;5;129;01mnot\u001B[39;00m \u001B[38;5;28;01mNone\u001B[39;00m:\n\u001B[1;32m    434\u001B[0m         \u001B[38;5;28;01mreturn\u001B[39;00m res\n",
      "File \u001B[0;32m~/anaconda3/envs/10academyw0/lib/python3.12/site-packages/pandas/core/tools/datetimes.py:538\u001B[0m, in \u001B[0;36m_to_datetime_with_format\u001B[0;34m(arg, orig_arg, name, tz, fmt, exact, errors, infer_datetime_format)\u001B[0m\n\u001B[1;32m    535\u001B[0m         \u001B[38;5;28;01mreturn\u001B[39;00m _box_as_indexlike(result, utc\u001B[38;5;241m=\u001B[39mutc, name\u001B[38;5;241m=\u001B[39mname)\n\u001B[1;32m    537\u001B[0m \u001B[38;5;66;03m# fallback\u001B[39;00m\n\u001B[0;32m--> 538\u001B[0m res \u001B[38;5;241m=\u001B[39m _array_strptime_with_fallback(\n\u001B[1;32m    539\u001B[0m     arg, name, tz, fmt, exact, errors, infer_datetime_format\n\u001B[1;32m    540\u001B[0m )\n\u001B[1;32m    541\u001B[0m \u001B[38;5;28;01mreturn\u001B[39;00m res\n",
      "File \u001B[0;32m~/anaconda3/envs/10academyw0/lib/python3.12/site-packages/pandas/core/tools/datetimes.py:473\u001B[0m, in \u001B[0;36m_array_strptime_with_fallback\u001B[0;34m(arg, name, tz, fmt, exact, errors, infer_datetime_format)\u001B[0m\n\u001B[1;32m    470\u001B[0m utc \u001B[38;5;241m=\u001B[39m tz \u001B[38;5;241m==\u001B[39m \u001B[38;5;124m\"\u001B[39m\u001B[38;5;124mutc\u001B[39m\u001B[38;5;124m\"\u001B[39m\n\u001B[1;32m    472\u001B[0m \u001B[38;5;28;01mtry\u001B[39;00m:\n\u001B[0;32m--> 473\u001B[0m     result, timezones \u001B[38;5;241m=\u001B[39m array_strptime(arg, fmt, exact\u001B[38;5;241m=\u001B[39mexact, errors\u001B[38;5;241m=\u001B[39merrors)\n\u001B[1;32m    474\u001B[0m \u001B[38;5;28;01mexcept\u001B[39;00m OutOfBoundsDatetime:\n\u001B[1;32m    475\u001B[0m     \u001B[38;5;28;01mif\u001B[39;00m errors \u001B[38;5;241m==\u001B[39m \u001B[38;5;124m\"\u001B[39m\u001B[38;5;124mraise\u001B[39m\u001B[38;5;124m\"\u001B[39m:\n",
      "File \u001B[0;32m~/anaconda3/envs/10academyw0/lib/python3.12/site-packages/pandas/_libs/tslibs/strptime.pyx:150\u001B[0m, in \u001B[0;36mpandas._libs.tslibs.strptime.array_strptime\u001B[0;34m()\u001B[0m\n",
      "\u001B[0;31mValueError\u001B[0m: time data '2023-10-30 10:12:35.000000' does not match format 'ISO8601' (match)"
     ]
    }
   ]
  },
  {
   "cell_type": "code",
   "source": [
    "news_data.head()"
   ],
   "metadata": {
    "colab": {
     "base_uri": "https://localhost:8080/",
     "height": 643
    },
    "id": "SlHyrPjRmTdm",
    "outputId": "fa7fb325-1a1d-47c7-f6a6-f686dc5b5484",
    "ExecuteTime": {
     "end_time": "2024-04-13T04:45:26.933922Z",
     "start_time": "2024-04-13T04:45:26.925113Z"
    }
   },
   "execution_count": 31,
   "outputs": [
    {
     "data": {
      "text/plain": "    article_id                     source_id                   source_name  \\\n0        89541  international-business-times  International Business Times   \n3        89545            the-indian-express            The Indian Express   \n6        89551            al-jazeera-english            Al Jazeera English   \n7        89555            the-indian-express            The Indian Express   \n12       89563            the-times-of-india            The Times of India   \n\n                author                                              title  \\\n0       Paavan MATHEMA  UN Chief Urges World To 'Stop The Madness' Of ...   \n3            Editorial  Sikkim warning: Hydroelectricity push must be ...   \n6          Kaushik Raj  Pro-Israel rallies allowed in India but Palest...   \n7       New York Times  No nation in the world is buying more planes t...   \n12  Durgesh Nandan Jha  PM Hasina’s war on terror gets daughter India’...   \n\n                                          description  \\\n0   UN Secretary-General Antonio Guterres urged th...   \n3   Ecologists caution against the adverse effects...   \n6   India, the first non-Arab country to recognise...   \n7   India's largest airlines have ordered nearly 1...   \n12  India News: NEW DELHI: India preferred Banglad...   \n\n                                                  url  \\\n0   https://www.ibtimes.com/un-chief-urges-world-s...   \n3   https://indianexpress.com/article/opinion/edit...   \n6   https://www.aljazeera.com/news/2023/10/25/pro-...   \n7   https://indianexpress.com/article/business/avi...   \n12  https://timesofindia.indiatimes.com/india/pm-h...   \n\n                                         url_to_image  \\\n0   https://d.ibtimes.com/en/full/4496078/nepals-g...   \n3   https://images.indianexpress.com/2023/10/edit-...   \n6   https://www.aljazeera.com/wp-content/uploads/2...   \n7   https://images.indianexpress.com/2023/11/igiai...   \n12  https://static.toiimg.com/thumb/msid-47529300,...   \n\n                  published_at  \\\n0   2023-10-30 10:12:35.000000   \n3   2023-10-06 01:20:24.000000   \n6   2023-10-25 09:58:17.000000   \n7   2023-11-02 05:48:58.000000   \n12  2023-11-02 01:12:47.000000   \n\n                                              content category  \\\n0   UN Secretary-General Antonio Guterres urged th...    Nepal   \n3   At least 14 persons lost their lives and more ...    Nepal   \n6   New Delhi, India Israels relentless bombing of...    Nepal   \n7   No nation in the world is buying as many airpl...    Nepal   \n12  Ranked! Worlds most loved landmarks; Taj Mahal...    Nepal   \n\n                                         full_content  \n0   UN Secretary-General Antonio Guterres urged th...  \n3   At least 14 persons lost their lives and more ...  \n6   India, the first non-Arab country to recognise...  \n7   Written by Alex Travelli and Hari Kumar No nat...  \n12  NEW DELHI: India preferred Bangladesh over Nep...  ",
      "text/html": "<div>\n<style scoped>\n    .dataframe tbody tr th:only-of-type {\n        vertical-align: middle;\n    }\n\n    .dataframe tbody tr th {\n        vertical-align: top;\n    }\n\n    .dataframe thead th {\n        text-align: right;\n    }\n</style>\n<table border=\"1\" class=\"dataframe\">\n  <thead>\n    <tr style=\"text-align: right;\">\n      <th></th>\n      <th>article_id</th>\n      <th>source_id</th>\n      <th>source_name</th>\n      <th>author</th>\n      <th>title</th>\n      <th>description</th>\n      <th>url</th>\n      <th>url_to_image</th>\n      <th>published_at</th>\n      <th>content</th>\n      <th>category</th>\n      <th>full_content</th>\n    </tr>\n  </thead>\n  <tbody>\n    <tr>\n      <th>0</th>\n      <td>89541</td>\n      <td>international-business-times</td>\n      <td>International Business Times</td>\n      <td>Paavan MATHEMA</td>\n      <td>UN Chief Urges World To 'Stop The Madness' Of ...</td>\n      <td>UN Secretary-General Antonio Guterres urged th...</td>\n      <td>https://www.ibtimes.com/un-chief-urges-world-s...</td>\n      <td>https://d.ibtimes.com/en/full/4496078/nepals-g...</td>\n      <td>2023-10-30 10:12:35.000000</td>\n      <td>UN Secretary-General Antonio Guterres urged th...</td>\n      <td>Nepal</td>\n      <td>UN Secretary-General Antonio Guterres urged th...</td>\n    </tr>\n    <tr>\n      <th>3</th>\n      <td>89545</td>\n      <td>the-indian-express</td>\n      <td>The Indian Express</td>\n      <td>Editorial</td>\n      <td>Sikkim warning: Hydroelectricity push must be ...</td>\n      <td>Ecologists caution against the adverse effects...</td>\n      <td>https://indianexpress.com/article/opinion/edit...</td>\n      <td>https://images.indianexpress.com/2023/10/edit-...</td>\n      <td>2023-10-06 01:20:24.000000</td>\n      <td>At least 14 persons lost their lives and more ...</td>\n      <td>Nepal</td>\n      <td>At least 14 persons lost their lives and more ...</td>\n    </tr>\n    <tr>\n      <th>6</th>\n      <td>89551</td>\n      <td>al-jazeera-english</td>\n      <td>Al Jazeera English</td>\n      <td>Kaushik Raj</td>\n      <td>Pro-Israel rallies allowed in India but Palest...</td>\n      <td>India, the first non-Arab country to recognise...</td>\n      <td>https://www.aljazeera.com/news/2023/10/25/pro-...</td>\n      <td>https://www.aljazeera.com/wp-content/uploads/2...</td>\n      <td>2023-10-25 09:58:17.000000</td>\n      <td>New Delhi, India Israels relentless bombing of...</td>\n      <td>Nepal</td>\n      <td>India, the first non-Arab country to recognise...</td>\n    </tr>\n    <tr>\n      <th>7</th>\n      <td>89555</td>\n      <td>the-indian-express</td>\n      <td>The Indian Express</td>\n      <td>New York Times</td>\n      <td>No nation in the world is buying more planes t...</td>\n      <td>India's largest airlines have ordered nearly 1...</td>\n      <td>https://indianexpress.com/article/business/avi...</td>\n      <td>https://images.indianexpress.com/2023/11/igiai...</td>\n      <td>2023-11-02 05:48:58.000000</td>\n      <td>No nation in the world is buying as many airpl...</td>\n      <td>Nepal</td>\n      <td>Written by Alex Travelli and Hari Kumar No nat...</td>\n    </tr>\n    <tr>\n      <th>12</th>\n      <td>89563</td>\n      <td>the-times-of-india</td>\n      <td>The Times of India</td>\n      <td>Durgesh Nandan Jha</td>\n      <td>PM Hasina’s war on terror gets daughter India’...</td>\n      <td>India News: NEW DELHI: India preferred Banglad...</td>\n      <td>https://timesofindia.indiatimes.com/india/pm-h...</td>\n      <td>https://static.toiimg.com/thumb/msid-47529300,...</td>\n      <td>2023-11-02 01:12:47.000000</td>\n      <td>Ranked! Worlds most loved landmarks; Taj Mahal...</td>\n      <td>Nepal</td>\n      <td>NEW DELHI: India preferred Bangladesh over Nep...</td>\n    </tr>\n  </tbody>\n</table>\n</div>"
     },
     "execution_count": 31,
     "metadata": {},
     "output_type": "execute_result"
    }
   ]
  },
  {
   "cell_type": "markdown",
   "source": [
    "## Check for any left missing values"
   ],
   "metadata": {
    "id": "0bS3Yv4FPJcV"
   }
  },
  {
   "cell_type": "code",
   "source": [
    "missing_values_news_data = news_data.isnull().sum()\n",
    "print(missing_values_news_data)"
   ],
   "metadata": {
    "colab": {
     "base_uri": "https://localhost:8080/"
    },
    "id": "CqYRkuRMPI0j",
    "outputId": "4ee6aa29-e3ab-47c3-8210-4c546f69117c",
    "ExecuteTime": {
     "end_time": "2024-04-13T04:45:28.467733Z",
     "start_time": "2024-04-13T04:45:28.351788Z"
    }
   },
   "execution_count": 32,
   "outputs": [
    {
     "name": "stdout",
     "output_type": "stream",
     "text": [
      "article_id      0\n",
      "source_id       0\n",
      "source_name     0\n",
      "author          0\n",
      "title           0\n",
      "description     0\n",
      "url             0\n",
      "url_to_image    0\n",
      "published_at    0\n",
      "content         0\n",
      "category        0\n",
      "full_content    0\n",
      "dtype: int64\n"
     ]
    }
   ]
  },
  {
   "cell_type": "code",
   "source": [
    "missing_values_domains_location_data = domains_location_data.isnull().sum()\n",
    "print(missing_values_domains_location_data)\n",
    "\n"
   ],
   "metadata": {
    "colab": {
     "base_uri": "https://localhost:8080/"
    },
    "id": "x5UAEg61QeDm",
    "outputId": "bef10ba5-8483-4fec-c8e4-907d0baa1c78",
    "ExecuteTime": {
     "end_time": "2024-04-13T04:45:28.945557Z",
     "start_time": "2024-04-13T04:45:28.922412Z"
    }
   },
   "execution_count": 33,
   "outputs": [
    {
     "name": "stdout",
     "output_type": "stream",
     "text": [
      "SourceCommonName    0\n",
      "location            0\n",
      "Country             0\n",
      "dtype: int64\n"
     ]
    }
   ]
  },
  {
   "cell_type": "code",
   "source": [
    "missing_values_traffic_data = traffic_data.isnull().sum()\n",
    "print(missing_values_traffic_data)"
   ],
   "metadata": {
    "colab": {
     "base_uri": "https://localhost:8080/"
    },
    "id": "f-23hlE5Qkir",
    "outputId": "a295a00e-25b4-4a28-d8fd-050b160bbac1",
    "ExecuteTime": {
     "end_time": "2024-04-13T04:45:30.430034Z",
     "start_time": "2024-04-13T04:45:29.589614Z"
    }
   },
   "execution_count": 34,
   "outputs": [
    {
     "name": "stdout",
     "output_type": "stream",
     "text": [
      "GlobalRank        0\n",
      "TldRank           0\n",
      "Domain            0\n",
      "TLD               0\n",
      "RefSubNets        0\n",
      "RefIPs            0\n",
      "IDN_Domain        0\n",
      "IDN_TLD           0\n",
      "PrevGlobalRank    0\n",
      "PrevTldRank       0\n",
      "PrevRefSubNets    0\n",
      "PrevRefIPs        0\n",
      "dtype: int64\n"
     ]
    }
   ]
  },
  {
   "cell_type": "code",
   "source": [
    "domains_location_data.columns"
   ],
   "metadata": {
    "colab": {
     "base_uri": "https://localhost:8080/"
    },
    "id": "TAERvg3tOFQi",
    "outputId": "68eb9c88-1e80-4082-b049-44b331a42184",
    "ExecuteTime": {
     "end_time": "2024-04-13T04:45:30.438036Z",
     "start_time": "2024-04-13T04:45:30.433270Z"
    }
   },
   "execution_count": 35,
   "outputs": [
    {
     "data": {
      "text/plain": "Index(['SourceCommonName', 'location', 'Country'], dtype='object')"
     },
     "execution_count": 35,
     "metadata": {},
     "output_type": "execute_result"
    }
   ]
  },
  {
   "cell_type": "markdown",
   "source": [
    "### Fix missing values"
   ],
   "metadata": {
    "id": "dpXwKG8EQ1nv"
   }
  },
  {
   "cell_type": "code",
   "source": [
    "traffic_data.columns"
   ],
   "metadata": {
    "colab": {
     "base_uri": "https://localhost:8080/"
    },
    "id": "Ajb41xNgOCXI",
    "outputId": "370d2635-e732-4b1c-c141-3439101b61ad",
    "ExecuteTime": {
     "end_time": "2024-04-13T04:45:31.556748Z",
     "start_time": "2024-04-13T04:45:31.550671Z"
    }
   },
   "execution_count": 36,
   "outputs": [
    {
     "data": {
      "text/plain": "Index(['GlobalRank', 'TldRank', 'Domain', 'TLD', 'RefSubNets', 'RefIPs',\n       'IDN_Domain', 'IDN_TLD', 'PrevGlobalRank', 'PrevTldRank',\n       'PrevRefSubNets', 'PrevRefIPs'],\n      dtype='object')"
     },
     "execution_count": 36,
     "metadata": {},
     "output_type": "execute_result"
    }
   ]
  },
  {
   "cell_type": "code",
   "source": [
    "news_data = news_data.dropna()\n",
    "missing_values_news_data = news_data.isnull().sum()\n",
    "print(missing_values_news_data)"
   ],
   "metadata": {
    "colab": {
     "base_uri": "https://localhost:8080/"
    },
    "id": "6B-6yWtuQ1J8",
    "outputId": "4d0b4100-4f70-4ea4-feaf-bbecc63f9ae9",
    "ExecuteTime": {
     "end_time": "2024-04-13T04:45:32.137818Z",
     "start_time": "2024-04-13T04:45:31.885859Z"
    }
   },
   "execution_count": 37,
   "outputs": [
    {
     "name": "stdout",
     "output_type": "stream",
     "text": [
      "article_id      0\n",
      "source_id       0\n",
      "source_name     0\n",
      "author          0\n",
      "title           0\n",
      "description     0\n",
      "url             0\n",
      "url_to_image    0\n",
      "published_at    0\n",
      "content         0\n",
      "category        0\n",
      "full_content    0\n",
      "dtype: int64\n"
     ]
    }
   ]
  },
  {
   "cell_type": "code",
   "source": [
    "news_data.head()"
   ],
   "metadata": {
    "colab": {
     "base_uri": "https://localhost:8080/",
     "height": 643
    },
    "id": "Ow7UFUdORliz",
    "outputId": "424745a7-a13d-431c-ad8f-034d5813a9b6",
    "ExecuteTime": {
     "end_time": "2024-04-13T04:45:32.372336Z",
     "start_time": "2024-04-13T04:45:32.359763Z"
    }
   },
   "execution_count": 38,
   "outputs": [
    {
     "data": {
      "text/plain": "    article_id                     source_id                   source_name  \\\n0        89541  international-business-times  International Business Times   \n3        89545            the-indian-express            The Indian Express   \n6        89551            al-jazeera-english            Al Jazeera English   \n7        89555            the-indian-express            The Indian Express   \n12       89563            the-times-of-india            The Times of India   \n\n                author                                              title  \\\n0       Paavan MATHEMA  UN Chief Urges World To 'Stop The Madness' Of ...   \n3            Editorial  Sikkim warning: Hydroelectricity push must be ...   \n6          Kaushik Raj  Pro-Israel rallies allowed in India but Palest...   \n7       New York Times  No nation in the world is buying more planes t...   \n12  Durgesh Nandan Jha  PM Hasina’s war on terror gets daughter India’...   \n\n                                          description  \\\n0   UN Secretary-General Antonio Guterres urged th...   \n3   Ecologists caution against the adverse effects...   \n6   India, the first non-Arab country to recognise...   \n7   India's largest airlines have ordered nearly 1...   \n12  India News: NEW DELHI: India preferred Banglad...   \n\n                                                  url  \\\n0   https://www.ibtimes.com/un-chief-urges-world-s...   \n3   https://indianexpress.com/article/opinion/edit...   \n6   https://www.aljazeera.com/news/2023/10/25/pro-...   \n7   https://indianexpress.com/article/business/avi...   \n12  https://timesofindia.indiatimes.com/india/pm-h...   \n\n                                         url_to_image  \\\n0   https://d.ibtimes.com/en/full/4496078/nepals-g...   \n3   https://images.indianexpress.com/2023/10/edit-...   \n6   https://www.aljazeera.com/wp-content/uploads/2...   \n7   https://images.indianexpress.com/2023/11/igiai...   \n12  https://static.toiimg.com/thumb/msid-47529300,...   \n\n                  published_at  \\\n0   2023-10-30 10:12:35.000000   \n3   2023-10-06 01:20:24.000000   \n6   2023-10-25 09:58:17.000000   \n7   2023-11-02 05:48:58.000000   \n12  2023-11-02 01:12:47.000000   \n\n                                              content category  \\\n0   UN Secretary-General Antonio Guterres urged th...    Nepal   \n3   At least 14 persons lost their lives and more ...    Nepal   \n6   New Delhi, India Israels relentless bombing of...    Nepal   \n7   No nation in the world is buying as many airpl...    Nepal   \n12  Ranked! Worlds most loved landmarks; Taj Mahal...    Nepal   \n\n                                         full_content  \n0   UN Secretary-General Antonio Guterres urged th...  \n3   At least 14 persons lost their lives and more ...  \n6   India, the first non-Arab country to recognise...  \n7   Written by Alex Travelli and Hari Kumar No nat...  \n12  NEW DELHI: India preferred Bangladesh over Nep...  ",
      "text/html": "<div>\n<style scoped>\n    .dataframe tbody tr th:only-of-type {\n        vertical-align: middle;\n    }\n\n    .dataframe tbody tr th {\n        vertical-align: top;\n    }\n\n    .dataframe thead th {\n        text-align: right;\n    }\n</style>\n<table border=\"1\" class=\"dataframe\">\n  <thead>\n    <tr style=\"text-align: right;\">\n      <th></th>\n      <th>article_id</th>\n      <th>source_id</th>\n      <th>source_name</th>\n      <th>author</th>\n      <th>title</th>\n      <th>description</th>\n      <th>url</th>\n      <th>url_to_image</th>\n      <th>published_at</th>\n      <th>content</th>\n      <th>category</th>\n      <th>full_content</th>\n    </tr>\n  </thead>\n  <tbody>\n    <tr>\n      <th>0</th>\n      <td>89541</td>\n      <td>international-business-times</td>\n      <td>International Business Times</td>\n      <td>Paavan MATHEMA</td>\n      <td>UN Chief Urges World To 'Stop The Madness' Of ...</td>\n      <td>UN Secretary-General Antonio Guterres urged th...</td>\n      <td>https://www.ibtimes.com/un-chief-urges-world-s...</td>\n      <td>https://d.ibtimes.com/en/full/4496078/nepals-g...</td>\n      <td>2023-10-30 10:12:35.000000</td>\n      <td>UN Secretary-General Antonio Guterres urged th...</td>\n      <td>Nepal</td>\n      <td>UN Secretary-General Antonio Guterres urged th...</td>\n    </tr>\n    <tr>\n      <th>3</th>\n      <td>89545</td>\n      <td>the-indian-express</td>\n      <td>The Indian Express</td>\n      <td>Editorial</td>\n      <td>Sikkim warning: Hydroelectricity push must be ...</td>\n      <td>Ecologists caution against the adverse effects...</td>\n      <td>https://indianexpress.com/article/opinion/edit...</td>\n      <td>https://images.indianexpress.com/2023/10/edit-...</td>\n      <td>2023-10-06 01:20:24.000000</td>\n      <td>At least 14 persons lost their lives and more ...</td>\n      <td>Nepal</td>\n      <td>At least 14 persons lost their lives and more ...</td>\n    </tr>\n    <tr>\n      <th>6</th>\n      <td>89551</td>\n      <td>al-jazeera-english</td>\n      <td>Al Jazeera English</td>\n      <td>Kaushik Raj</td>\n      <td>Pro-Israel rallies allowed in India but Palest...</td>\n      <td>India, the first non-Arab country to recognise...</td>\n      <td>https://www.aljazeera.com/news/2023/10/25/pro-...</td>\n      <td>https://www.aljazeera.com/wp-content/uploads/2...</td>\n      <td>2023-10-25 09:58:17.000000</td>\n      <td>New Delhi, India Israels relentless bombing of...</td>\n      <td>Nepal</td>\n      <td>India, the first non-Arab country to recognise...</td>\n    </tr>\n    <tr>\n      <th>7</th>\n      <td>89555</td>\n      <td>the-indian-express</td>\n      <td>The Indian Express</td>\n      <td>New York Times</td>\n      <td>No nation in the world is buying more planes t...</td>\n      <td>India's largest airlines have ordered nearly 1...</td>\n      <td>https://indianexpress.com/article/business/avi...</td>\n      <td>https://images.indianexpress.com/2023/11/igiai...</td>\n      <td>2023-11-02 05:48:58.000000</td>\n      <td>No nation in the world is buying as many airpl...</td>\n      <td>Nepal</td>\n      <td>Written by Alex Travelli and Hari Kumar No nat...</td>\n    </tr>\n    <tr>\n      <th>12</th>\n      <td>89563</td>\n      <td>the-times-of-india</td>\n      <td>The Times of India</td>\n      <td>Durgesh Nandan Jha</td>\n      <td>PM Hasina’s war on terror gets daughter India’...</td>\n      <td>India News: NEW DELHI: India preferred Banglad...</td>\n      <td>https://timesofindia.indiatimes.com/india/pm-h...</td>\n      <td>https://static.toiimg.com/thumb/msid-47529300,...</td>\n      <td>2023-11-02 01:12:47.000000</td>\n      <td>Ranked! Worlds most loved landmarks; Taj Mahal...</td>\n      <td>Nepal</td>\n      <td>NEW DELHI: India preferred Bangladesh over Nep...</td>\n    </tr>\n  </tbody>\n</table>\n</div>"
     },
     "execution_count": 38,
     "metadata": {},
     "output_type": "execute_result"
    }
   ]
  },
  {
   "cell_type": "markdown",
   "source": [
    "### Check outliers"
   ],
   "metadata": {
    "id": "TMAjSrk-PnT6"
   }
  },
  {
   "cell_type": "code",
   "source": [
    "# Check for missing values\n",
    "news_data.isnull().all()"
   ],
   "metadata": {
    "colab": {
     "base_uri": "https://localhost:8080/"
    },
    "id": "JabKCySD2Wxt",
    "outputId": "bcbcd39a-b8ff-4134-8d73-64deda5815f7",
    "ExecuteTime": {
     "end_time": "2024-04-13T04:45:33.385452Z",
     "start_time": "2024-04-13T04:45:33.272425Z"
    }
   },
   "execution_count": 39,
   "outputs": [
    {
     "data": {
      "text/plain": "article_id      False\nsource_id       False\nsource_name     False\nauthor          False\ntitle           False\ndescription     False\nurl             False\nurl_to_image    False\npublished_at    False\ncontent         False\ncategory        False\nfull_content    False\ndtype: bool"
     },
     "execution_count": 39,
     "metadata": {},
     "output_type": "execute_result"
    }
   ]
  },
  {
   "cell_type": "code",
   "source": [
    "len(news_data)"
   ],
   "metadata": {
    "colab": {
     "base_uri": "https://localhost:8080/"
    },
    "id": "zz_uLmTG2Au3",
    "outputId": "2113a6f9-fd58-427d-cd95-aedb0f50e42c",
    "ExecuteTime": {
     "end_time": "2024-04-13T04:45:33.669664Z",
     "start_time": "2024-04-13T04:45:33.665538Z"
    }
   },
   "execution_count": 40,
   "outputs": [
    {
     "data": {
      "text/plain": "54889"
     },
     "execution_count": 40,
     "metadata": {},
     "output_type": "execute_result"
    }
   ]
  },
  {
   "cell_type": "code",
   "source": [
    "import seaborn as sns\n",
    "\n",
    "sns.boxplot(data=news_data)"
   ],
   "metadata": {
    "colab": {
     "base_uri": "https://localhost:8080/",
     "height": 448
    },
    "id": "-LUxndgsPnCb",
    "outputId": "a6ffad8c-f9c1-43c2-fd6c-3907a793b99a",
    "ExecuteTime": {
     "end_time": "2024-04-13T04:45:35.443373Z",
     "start_time": "2024-04-13T04:45:34.040554Z"
    }
   },
   "execution_count": 41,
   "outputs": [
    {
     "data": {
      "text/plain": "<Axes: >"
     },
     "execution_count": 41,
     "metadata": {},
     "output_type": "execute_result"
    },
    {
     "data": {
      "text/plain": "<Figure size 640x480 with 1 Axes>",
      "image/png": "[encoded data removed]"
     },
     "metadata": {},
     "output_type": "display_data"
    }
   ]
  },
  {
   "cell_type": "code",
   "source": [
    "domains_location_data.isnull().all()"
   ],
   "metadata": {
    "colab": {
     "base_uri": "https://localhost:8080/"
    },
    "id": "TEcWLyWp2i8Z",
    "outputId": "82ace199-9c5d-4db8-cac1-45323459f00c",
    "ExecuteTime": {
     "end_time": "2024-04-13T04:45:35.476355Z",
     "start_time": "2024-04-13T04:45:35.445423Z"
    }
   },
   "execution_count": 42,
   "outputs": [
    {
     "data": {
      "text/plain": "SourceCommonName    False\nlocation            False\nCountry             False\ndtype: bool"
     },
     "execution_count": 42,
     "metadata": {},
     "output_type": "execute_result"
    }
   ]
  },
  {
   "cell_type": "code",
   "source": [
    "domains_location_data.empty"
   ],
   "metadata": {
    "colab": {
     "base_uri": "https://localhost:8080/"
    },
    "id": "H-gE94WN2oCm",
    "outputId": "1c14a23e-4d0a-4c3f-c7c8-4a5ca784dcfc",
    "ExecuteTime": {
     "end_time": "2024-04-13T04:45:35.482174Z",
     "start_time": "2024-04-13T04:45:35.478231Z"
    }
   },
   "execution_count": 43,
   "outputs": [
    {
     "data": {
      "text/plain": "False"
     },
     "execution_count": 43,
     "metadata": {},
     "output_type": "execute_result"
    }
   ]
  },
  {
   "cell_type": "code",
   "source": [
    "\n",
    "sns.boxplot(data=traffic_data)"
   ],
   "metadata": {
    "colab": {
     "base_uri": "https://localhost:8080/",
     "height": 463
    },
    "id": "OkWGEGEE1pbA",
    "outputId": "4852ce01-a69b-4287-f0ff-7630a1a24b53",
    "ExecuteTime": {
     "end_time": "2024-04-13T04:46:09.999151Z",
     "start_time": "2024-04-13T04:45:40.195688Z"
    }
   },
   "execution_count": 44,
   "outputs": [
    {
     "data": {
      "text/plain": "<Axes: >"
     },
     "execution_count": 44,
     "metadata": {},
     "output_type": "execute_result"
    },
    {
     "data": {
      "text/plain": "<Figure size 640x480 with 1 Axes>",
      "image/png": "[encoded data removed]"
     },
     "metadata": {},
     "output_type": "display_data"
    }
   ]
  },
  {
   "cell_type": "markdown",
   "source": [
    "Clean the data:\n",
    "* Remove duplicate rows:"
   ],
   "metadata": {
    "id": "1LzSHNZlm_tP"
   }
  },
  {
   "cell_type": "markdown",
   "source": [],
   "metadata": {
    "id": "ktA_e9SJr3Kj"
   }
  },
  {
   "cell_type": "markdown",
   "source": [],
   "metadata": {
    "id": "91ep82_b9tUk"
   }
  },
  {
   "cell_type": "markdown",
   "source": [
    "## **Exploratory Data Analysis (EDA)**"
   ],
   "metadata": {
    "id": "q1x1KDps9jS6"
   }
  },
  {
   "cell_type": "code",
   "source": [
    "news_data.columns"
   ],
   "metadata": {
    "colab": {
     "base_uri": "https://localhost:8080/"
    },
    "id": "yLRUkzgn9ro_",
    "outputId": "ad08ab89-91fc-4b37-f996-35c1bd077376",
    "ExecuteTime": {
     "end_time": "2024-04-13T04:46:10.004433Z",
     "start_time": "2024-04-13T04:46:10.001116Z"
    }
   },
   "execution_count": 45,
   "outputs": [
    {
     "data": {
      "text/plain": "Index(['article_id', 'source_id', 'source_name', 'author', 'title',\n       'description', 'url', 'url_to_image', 'published_at', 'content',\n       'category', 'full_content'],\n      dtype='object')"
     },
     "execution_count": 45,
     "metadata": {},
     "output_type": "execute_result"
    }
   ]
  },
  {
   "cell_type": "code",
   "source": [
    "news_data.info()"
   ],
   "metadata": {
    "colab": {
     "base_uri": "https://localhost:8080/"
    },
    "id": "cBw8UILY94f4",
    "outputId": "971454dd-27a2-487a-e1b9-d19591488b72",
    "ExecuteTime": {
     "end_time": "2024-04-13T04:46:10.101468Z",
     "start_time": "2024-04-13T04:46:10.006926Z"
    }
   },
   "execution_count": 46,
   "outputs": [
    {
     "name": "stdout",
     "output_type": "stream",
     "text": [
      "<class 'pandas.core.frame.DataFrame'>\n",
      "Int64Index: 54889 entries, 0 to 105374\n",
      "Data columns (total 12 columns):\n",
      " #   Column        Non-Null Count  Dtype \n",
      "---  ------        --------------  ----- \n",
      " 0   article_id    54889 non-null  int64 \n",
      " 1   source_id     54889 non-null  object\n",
      " 2   source_name   54889 non-null  object\n",
      " 3   author        54889 non-null  object\n",
      " 4   title         54889 non-null  object\n",
      " 5   description   54889 non-null  object\n",
      " 6   url           54889 non-null  object\n",
      " 7   url_to_image  54889 non-null  object\n",
      " 8   published_at  54889 non-null  object\n",
      " 9   content       54889 non-null  object\n",
      " 10  category      54889 non-null  object\n",
      " 11  full_content  54889 non-null  object\n",
      "dtypes: int64(1), object(11)\n",
      "memory usage: 5.4+ MB\n"
     ]
    }
   ]
  },
  {
   "cell_type": "code",
   "source": [
    "news_data.describe()"
   ],
   "metadata": {
    "colab": {
     "base_uri": "https://localhost:8080/",
     "height": 300
    },
    "id": "c4uoVetA99Aw",
    "outputId": "c90ef46f-bc3b-45a3-ac0d-66f91f2cd0c6",
    "ExecuteTime": {
     "end_time": "2024-04-13T04:46:10.113317Z",
     "start_time": "2024-04-13T04:46:10.102455Z"
    }
   },
   "execution_count": 47,
   "outputs": [
    {
     "data": {
      "text/plain": "          article_id\ncount   54889.000000\nmean   305940.568019\nstd    220864.360813\nmin       418.000000\n25%    105821.000000\n50%    271035.000000\n75%    469868.000000\nmax    781308.000000",
      "text/html": "<div>\n<style scoped>\n    .dataframe tbody tr th:only-of-type {\n        vertical-align: middle;\n    }\n\n    .dataframe tbody tr th {\n        vertical-align: top;\n    }\n\n    .dataframe thead th {\n        text-align: right;\n    }\n</style>\n<table border=\"1\" class=\"dataframe\">\n  <thead>\n    <tr style=\"text-align: right;\">\n      <th></th>\n      <th>article_id</th>\n    </tr>\n  </thead>\n  <tbody>\n    <tr>\n      <th>count</th>\n      <td>54889.000000</td>\n    </tr>\n    <tr>\n      <th>mean</th>\n      <td>305940.568019</td>\n    </tr>\n    <tr>\n      <th>std</th>\n      <td>220864.360813</td>\n    </tr>\n    <tr>\n      <th>min</th>\n      <td>418.000000</td>\n    </tr>\n    <tr>\n      <th>25%</th>\n      <td>105821.000000</td>\n    </tr>\n    <tr>\n      <th>50%</th>\n      <td>271035.000000</td>\n    </tr>\n    <tr>\n      <th>75%</th>\n      <td>469868.000000</td>\n    </tr>\n    <tr>\n      <th>max</th>\n      <td>781308.000000</td>\n    </tr>\n  </tbody>\n</table>\n</div>"
     },
     "execution_count": 47,
     "metadata": {},
     "output_type": "execute_result"
    }
   ]
  },
  {
   "cell_type": "code",
   "source": [
    "top_N = 10"
   ],
   "metadata": {
    "id": "Tel7csJHDmU_",
    "ExecuteTime": {
     "end_time": "2024-04-13T04:46:10.141326Z",
     "start_time": "2024-04-13T04:46:10.139020Z"
    }
   },
   "execution_count": 48,
   "outputs": []
  },
  {
   "cell_type": "code",
   "source": [
    "\"\"\"Get the top N countries with the highest number of articles written about them\"\"\"\n",
    "# !pip install spacy-transformers\n",
    "\n",
    "# Load the SpaCy model\n",
    "import en_core_web_sm\n",
    "nlp = en_core_web_sm.load()\n",
    "\n",
    "# nlp.max_length = 3500000  # Increase the maximum length limit\n",
    "\n",
    "# Concantenating all the news articles into a single string\n",
    "all_articles = \" \".join(news_data['title'].dropna())\n",
    "\n",
    "# Split the text into chunks of 1,000,000 characters\n",
    "chunks = [all_articles[i:i + 1000000] for i in range(0, len(all_articles), 1000000)]\n",
    "\n",
    "\n",
    "# Initialize a Counter object to store the country counts\n",
    "country_counts = Counter()\n",
    "\n",
    "# Process each chunk separately\n",
    "for chunk in chunks:\n",
    "    doc = nlp(chunk)\n",
    "    # Extracting the countries mentioned in the articles\n",
    "    countries = [ent.text for ent in doc.ents if ent.label_ == \"GPE\"]\n",
    "    # Update the country counts\n",
    "    country_counts.update(countries)\n",
    "\n",
    "# Print the top N countries\n",
    "print(country_counts.most_common(top_N))\n",
    "\n",
    "# Print the bottom N countries\n",
    "print(country_counts.most_common()[:-top_N-1:-1])"
   ],
   "metadata": {
    "id": "0LavaaG8O7XO",
    "ExecuteTime": {
     "end_time": "2024-04-13T04:48:31.020862Z",
     "start_time": "2024-04-13T04:46:10.144293Z"
    }
   },
   "execution_count": 49,
   "outputs": [
    {
     "name": "stdout",
     "output_type": "stream",
     "text": [
      "[('Israel', 1382), ('US', 1168), ('Gaza', 1144), ('India', 1024), ('China', 706), ('Russia', 594), ('Ukraine', 538), ('UK', 385), ('U.S.', 261), ('Australia', 261)]\n",
      "[('West Village', 1), ('Homecoming', 1), ('Clear', 1), ('Europe Country', 1), ('Videos', 1), ('Berkshire', 1), ('Firms', 1), ('Tasmania', 1), ('Benelux', 1), ('Ukraine Citizens', 1)]\n"
     ]
    }
   ]
  },
  {
   "cell_type": "code",
   "source": [
    "def get_websites_reporting_on_regions(news_data, regions):\n",
    "    \"\"\"Get the websites that reported about specific regions\"\"\"\n",
    "\n",
    "    # Load the SpaCy model\n",
    "    nlp = spacy.load(\"en_core_web_sm\")\n",
    "\n",
    "    # Initialize a dictionary to store the results\n",
    "    region_counts = {region: Counter() for region in regions}\n",
    "\n",
    "    # Process each article\n",
    "    for _, row in news_data.iterrows():\n",
    "        doc = nlp(row['title'])\n",
    "\n",
    "        # Extract country names\n",
    "        countries = [ent.text for ent in doc.ents if ent.label_ == 'GPE']\n",
    "\n",
    "        # Check if the country belongs to one of the regions\n",
    "        for country in countries:\n",
    "            for region, region_countries in regions.items():\n",
    "                if country in region_countries:\n",
    "                    region_counts[region][row['source_name']] += 1\n",
    "\n",
    "    return region_counts"
   ],
   "metadata": {
    "id": "f2RjP6CkPD2m",
    "ExecuteTime": {
     "end_time": "2024-04-13T04:48:31.197766Z",
     "start_time": "2024-04-13T04:48:31.067206Z"
    }
   },
   "execution_count": 50,
   "outputs": []
  },
  {
   "cell_type": "code",
   "source": [
    "# Define the regions\n",
    "\n",
    "AFRICA = ['Algeria', 'Angola', 'Benin', 'Botswana', 'Burkina Faso', 'Burundi', 'Cabo Verde', 'Cameroon', 'Central African Republic', 'Chad', 'Comoros', 'Congo', 'Djibouti', 'Egypt', 'Equatorial Guinea', 'Eritrea', 'Eswatini', 'Ethiopia', 'Gabon', 'Gambia', 'Ghana', 'Guinea', 'Guinea-Bissau', 'Ivory Coast', 'Kenya', 'Lesotho', 'Liberia', 'Libya', 'Madagascar', 'Malawi', 'Mali', 'Mauritania', 'Mauritius', 'Morocco', 'Mozambique', 'Namibia', 'Niger', 'Nigeria', 'Rwanda', 'Sao Tome and Principe', 'Senegal', 'Seychelles', 'Sierra Leone', 'Somalia', 'South Africa', 'South Sudan', 'Sudan', 'Tanzania', 'Togo', 'Tunisia', 'Uganda', 'Zambia', 'Zimbabwe']\n",
    "EU = ['Austria', 'Belgium', 'Bulgaria', 'Croatia', 'Cyprus', 'Czech Republic', 'Denmark', 'Estonia', 'Finland', 'France', 'Germany', 'Greece', 'Hungary', 'Ireland', 'Italy', 'Latvia', 'Lithuania', 'Luxembourg', 'Malta', 'Netherlands', 'Poland', 'Portugal', 'Romania', 'Slovakia', 'Slovenia', 'Spain', 'Sweden']\n",
    "MIDDLE_EAST = ['Bahrain', 'Cyprus', 'Egypt', 'Iran', 'Iraq', 'Israel', 'Jordan', 'Kuwait', 'Lebanon', 'Oman', 'Palestine', 'Qatar', 'Saudi Arabia', 'Syria', 'Turkey', 'United Arab Emirates', 'Yemen']\n",
    "\n",
    "regions = {\n",
    "    'Africa': AFRICA,\n",
    "    'EU': EU,\n",
    "    'Middle East': MIDDLE_EAST,\n",
    "    'US': ['United States'],\n",
    "    'China': ['China'],\n",
    "    'Russia': ['Russia'],\n",
    "    'Ukraine': ['Ukraine']\n",
    "}"
   ],
   "metadata": {
    "id": "BqsxQXUzS-1G",
    "ExecuteTime": {
     "end_time": "2024-04-13T04:48:31.246107Z",
     "start_time": "2024-04-13T04:48:31.219168Z"
    }
   },
   "execution_count": 51,
   "outputs": []
  },
  {
   "cell_type": "code",
   "source": [
    "# Get the websites that reported about the specified regions\n",
    "region_counts = get_websites_reporting_on_regions(news_data, regions)\n",
    "\n",
    "# Print the results\n",
    "for region, counts in region_counts.items():\n",
    "    print(f\"Websites that reported about {region}:\")\n",
    "    print(counts.most_common(10))\n",
    "    print()"
   ],
   "metadata": {
    "colab": {
     "base_uri": "https://localhost:8080/",
     "height": 390
    },
    "id": "QukkwUR6Qf_w",
    "outputId": "f69c5c3b-c078-40b2-871a-89cf718475fc",
    "ExecuteTime": {
     "end_time": "2024-04-13T04:54:08.255513Z",
     "start_time": "2024-04-13T04:48:31.249562Z"
    }
   },
   "execution_count": 52,
   "outputs": [
    {
     "name": "stdout",
     "output_type": "stream",
     "text": [
      "Websites that reported about Africa:\n",
      "[('The Punch', 146), ('Globalsecurity.org', 134), ('BBC News', 104), ('Al Jazeera English', 102), ('ABC News', 85), ('The Times of India', 78), ('RT', 61), ('Marketscreener.com', 52), ('International Business Times', 35), ('CNA', 23)]\n",
      "\n",
      "Websites that reported about EU:\n",
      "[('Globalsecurity.org', 130), ('ABC News', 103), ('The Times of India', 100), ('Euronews', 85), ('CNA', 75), ('Al Jazeera English', 71), ('RT', 56), ('BBC News', 56), ('GlobeNewswire', 55), ('International Business Times', 53)]\n",
      "\n",
      "Websites that reported about Middle East:\n",
      "[('Globalsecurity.org', 581), ('Al Jazeera English', 542), ('The Times of India', 239), ('Business Insider', 185), ('BBC News', 142), ('ABC News', 140), ('RT', 131), ('International Business Times', 105), ('NPR', 105), ('CNA', 47)]\n",
      "\n",
      "Websites that reported about US:\n",
      "[('GlobeNewswire', 6), ('Globalsecurity.org', 5), ('ETF Daily News', 2), ('ABC News', 1), ('International Business Times', 1), ('The Times of India', 1)]\n",
      "\n",
      "Websites that reported about China:\n",
      "[('Globalsecurity.org', 168), ('The Times of India', 162), ('ABC News', 71), ('CNA', 58), ('Business Insider', 46), ('Al Jazeera English', 41), ('International Business Times', 35), ('RT', 31), ('BBC News', 28), ('NPR', 17)]\n",
      "\n",
      "Websites that reported about Russia:\n",
      "[('Globalsecurity.org', 130), ('RT', 127), ('Business Insider', 92), ('Al Jazeera English', 85), ('The Times of India', 51), ('ABC News', 46), ('International Business Times', 20), ('BBC News', 19), ('Euronews', 13), ('NPR', 10)]\n",
      "\n",
      "Websites that reported about Ukraine:\n",
      "[('Globalsecurity.org', 225), ('Business Insider', 121), ('RT', 110), ('ABC News', 49), ('Al Jazeera English', 44), ('BBC News', 40), ('The Times of India', 37), ('Euronews', 14), ('NPR', 12), ('International Business Times', 10)]\n"
     ]
    }
   ]
  },
  {
   "cell_type": "code",
   "source": [],
   "metadata": {
    "id": "qe0Pi3jiVJ0b",
    "ExecuteTime": {
     "end_time": "2024-04-13T04:54:08.259288Z",
     "start_time": "2024-04-13T04:54:08.257097Z"
    }
   },
   "execution_count": 52,
   "outputs": []
  },
  {
   "cell_type": "markdown",
   "source": [
    "#  top 10 and bottom 10 websites by mean sentiment"
   ],
   "metadata": {
    "id": "54LDU-tMLjVK"
   }
  },
  {
   "cell_type": "code",
   "source": [
    "from textblob import TextBlob\n",
    "\n",
    "def calculate_sentiment(text):\n",
    "    \"\"\"Calculate sentiment score using TextBlob\"\"\"\n",
    "    return TextBlob(text).sentiment.polarity"
   ],
   "metadata": {
    "id": "SYGNLpnmMUnf",
    "ExecuteTime": {
     "end_time": "2024-04-13T04:55:00.054980Z",
     "start_time": "2024-04-13T04:54:58.933900Z"
    }
   },
   "execution_count": 54,
   "outputs": []
  },
  {
   "cell_type": "code",
   "source": [
    "def sentiment_statistics(news_data):\n",
    "    \"\"\"Calculate sentiment statistics for each website\"\"\"\n",
    "    # Calculate sentiment scores\n",
    "    news_data['sentiment'] = news_data['content'].apply(calculate_sentiment)\n",
    "\n",
    "    # Create columns for positive, neutral, and negative sentiment counts\n",
    "    news_data['positive_sentiment'] = (news_data['sentiment'] > 0).astype(int)\n",
    "    news_data['neutral_sentiment'] = (news_data['sentiment'] == 0).astype(int)\n",
    "    news_data['negative_sentiment'] = (news_data['sentiment'] < 0).astype(int)\n",
    "\n",
    "    # Group by 'source_name' and calculate mean, median, variance, and sentiment counts\n",
    "    grouped = news_data.groupby('source_name')\n",
    "    mean_sentiment = grouped['sentiment'].mean()\n",
    "    median_sentiment = grouped['sentiment'].median()\n",
    "    variance_sentiment = grouped['sentiment'].var()\n",
    "    positive_sentiment = grouped['positive_sentiment'].sum()\n",
    "    neutral_sentiment = grouped['neutral_sentiment'].sum()\n",
    "    negative_sentiment = grouped['negative_sentiment'].sum()\n",
    "\n",
    "    # Return the results as a DataFrame\n",
    "    return pd.DataFrame({\n",
    "        'mean_sentiment': mean_sentiment,\n",
    "        'median_sentiment': median_sentiment,\n",
    "        'variance_sentiment': variance_sentiment,\n",
    "        'positive_sentiment': positive_sentiment,\n",
    "        'neutral_sentiment': neutral_sentiment,\n",
    "        'negative_sentiment': negative_sentiment\n",
    "    })"
   ],
   "metadata": {
    "id": "tsLrxAxVLr6r",
    "ExecuteTime": {
     "end_time": "2024-04-13T04:55:02.112583Z",
     "start_time": "2024-04-13T04:55:02.107484Z"
    }
   },
   "execution_count": 55,
   "outputs": []
  },
  {
   "cell_type": "code",
   "source": [
    "news_data.head()"
   ],
   "metadata": {
    "colab": {
     "base_uri": "https://localhost:8080/",
     "height": 643
    },
    "id": "VG_m0IfRuNCg",
    "outputId": "bd32408c-c6f2-4654-d654-0eef441b6c9a",
    "ExecuteTime": {
     "end_time": "2024-04-13T04:55:04.529382Z",
     "start_time": "2024-04-13T04:55:04.519214Z"
    }
   },
   "execution_count": 56,
   "outputs": [
    {
     "data": {
      "text/plain": "    article_id                     source_id                   source_name  \\\n0        89541  international-business-times  International Business Times   \n3        89545            the-indian-express            The Indian Express   \n6        89551            al-jazeera-english            Al Jazeera English   \n7        89555            the-indian-express            The Indian Express   \n12       89563            the-times-of-india            The Times of India   \n\n                author                                              title  \\\n0       Paavan MATHEMA  UN Chief Urges World To 'Stop The Madness' Of ...   \n3            Editorial  Sikkim warning: Hydroelectricity push must be ...   \n6          Kaushik Raj  Pro-Israel rallies allowed in India but Palest...   \n7       New York Times  No nation in the world is buying more planes t...   \n12  Durgesh Nandan Jha  PM Hasina’s war on terror gets daughter India’...   \n\n                                          description  \\\n0   UN Secretary-General Antonio Guterres urged th...   \n3   Ecologists caution against the adverse effects...   \n6   India, the first non-Arab country to recognise...   \n7   India's largest airlines have ordered nearly 1...   \n12  India News: NEW DELHI: India preferred Banglad...   \n\n                                                  url  \\\n0   https://www.ibtimes.com/un-chief-urges-world-s...   \n3   https://indianexpress.com/article/opinion/edit...   \n6   https://www.aljazeera.com/news/2023/10/25/pro-...   \n7   https://indianexpress.com/article/business/avi...   \n12  https://timesofindia.indiatimes.com/india/pm-h...   \n\n                                         url_to_image  \\\n0   https://d.ibtimes.com/en/full/4496078/nepals-g...   \n3   https://images.indianexpress.com/2023/10/edit-...   \n6   https://www.aljazeera.com/wp-content/uploads/2...   \n7   https://images.indianexpress.com/2023/11/igiai...   \n12  https://static.toiimg.com/thumb/msid-47529300,...   \n\n                  published_at  \\\n0   2023-10-30 10:12:35.000000   \n3   2023-10-06 01:20:24.000000   \n6   2023-10-25 09:58:17.000000   \n7   2023-11-02 05:48:58.000000   \n12  2023-11-02 01:12:47.000000   \n\n                                              content category  \\\n0   UN Secretary-General Antonio Guterres urged th...    Nepal   \n3   At least 14 persons lost their lives and more ...    Nepal   \n6   New Delhi, India Israels relentless bombing of...    Nepal   \n7   No nation in the world is buying as many airpl...    Nepal   \n12  Ranked! Worlds most loved landmarks; Taj Mahal...    Nepal   \n\n                                         full_content  \n0   UN Secretary-General Antonio Guterres urged th...  \n3   At least 14 persons lost their lives and more ...  \n6   India, the first non-Arab country to recognise...  \n7   Written by Alex Travelli and Hari Kumar No nat...  \n12  NEW DELHI: India preferred Bangladesh over Nep...  ",
      "text/html": "<div>\n<style scoped>\n    .dataframe tbody tr th:only-of-type {\n        vertical-align: middle;\n    }\n\n    .dataframe tbody tr th {\n        vertical-align: top;\n    }\n\n    .dataframe thead th {\n        text-align: right;\n    }\n</style>\n<table border=\"1\" class=\"dataframe\">\n  <thead>\n    <tr style=\"text-align: right;\">\n      <th></th>\n      <th>article_id</th>\n      <th>source_id</th>\n      <th>source_name</th>\n      <th>author</th>\n      <th>title</th>\n      <th>description</th>\n      <th>url</th>\n      <th>url_to_image</th>\n      <th>published_at</th>\n      <th>content</th>\n      <th>category</th>\n      <th>full_content</th>\n    </tr>\n  </thead>\n  <tbody>\n    <tr>\n      <th>0</th>\n      <td>89541</td>\n      <td>international-business-times</td>\n      <td>International Business Times</td>\n      <td>Paavan MATHEMA</td>\n      <td>UN Chief Urges World To 'Stop The Madness' Of ...</td>\n      <td>UN Secretary-General Antonio Guterres urged th...</td>\n      <td>https://www.ibtimes.com/un-chief-urges-world-s...</td>\n      <td>https://d.ibtimes.com/en/full/4496078/nepals-g...</td>\n      <td>2023-10-30 10:12:35.000000</td>\n      <td>UN Secretary-General Antonio Guterres urged th...</td>\n      <td>Nepal</td>\n      <td>UN Secretary-General Antonio Guterres urged th...</td>\n    </tr>\n    <tr>\n      <th>3</th>\n      <td>89545</td>\n      <td>the-indian-express</td>\n      <td>The Indian Express</td>\n      <td>Editorial</td>\n      <td>Sikkim warning: Hydroelectricity push must be ...</td>\n      <td>Ecologists caution against the adverse effects...</td>\n      <td>https://indianexpress.com/article/opinion/edit...</td>\n      <td>https://images.indianexpress.com/2023/10/edit-...</td>\n      <td>2023-10-06 01:20:24.000000</td>\n      <td>At least 14 persons lost their lives and more ...</td>\n      <td>Nepal</td>\n      <td>At least 14 persons lost their lives and more ...</td>\n    </tr>\n    <tr>\n      <th>6</th>\n      <td>89551</td>\n      <td>al-jazeera-english</td>\n      <td>Al Jazeera English</td>\n      <td>Kaushik Raj</td>\n      <td>Pro-Israel rallies allowed in India but Palest...</td>\n      <td>India, the first non-Arab country to recognise...</td>\n      <td>https://www.aljazeera.com/news/2023/10/25/pro-...</td>\n      <td>https://www.aljazeera.com/wp-content/uploads/2...</td>\n      <td>2023-10-25 09:58:17.000000</td>\n      <td>New Delhi, India Israels relentless bombing of...</td>\n      <td>Nepal</td>\n      <td>India, the first non-Arab country to recognise...</td>\n    </tr>\n    <tr>\n      <th>7</th>\n      <td>89555</td>\n      <td>the-indian-express</td>\n      <td>The Indian Express</td>\n      <td>New York Times</td>\n      <td>No nation in the world is buying more planes t...</td>\n      <td>India's largest airlines have ordered nearly 1...</td>\n      <td>https://indianexpress.com/article/business/avi...</td>\n      <td>https://images.indianexpress.com/2023/11/igiai...</td>\n      <td>2023-11-02 05:48:58.000000</td>\n      <td>No nation in the world is buying as many airpl...</td>\n      <td>Nepal</td>\n      <td>Written by Alex Travelli and Hari Kumar No nat...</td>\n    </tr>\n    <tr>\n      <th>12</th>\n      <td>89563</td>\n      <td>the-times-of-india</td>\n      <td>The Times of India</td>\n      <td>Durgesh Nandan Jha</td>\n      <td>PM Hasina’s war on terror gets daughter India’...</td>\n      <td>India News: NEW DELHI: India preferred Banglad...</td>\n      <td>https://timesofindia.indiatimes.com/india/pm-h...</td>\n      <td>https://static.toiimg.com/thumb/msid-47529300,...</td>\n      <td>2023-11-02 01:12:47.000000</td>\n      <td>Ranked! Worlds most loved landmarks; Taj Mahal...</td>\n      <td>Nepal</td>\n      <td>NEW DELHI: India preferred Bangladesh over Nep...</td>\n    </tr>\n  </tbody>\n</table>\n</div>"
     },
     "execution_count": 56,
     "metadata": {},
     "output_type": "execute_result"
    }
   ]
  },
  {
   "cell_type": "markdown",
   "source": [
    "# Calculate sentiment statistics and save to a DataFrame"
   ],
   "metadata": {
    "collapsed": false
   }
  },
  {
   "cell_type": "code",
   "outputs": [],
   "source": [
    "\n",
    "# Apply function to calculate sentiment\n",
    "news_data['title_sentiment'] = news_data['title'].apply(calculate_sentiment)\n",
    "\n",
    "# Group by source_name and calculate mean sentiment\n",
    "title_sentiment_stats = news_data.groupby('source_name')['title_sentiment'].mean().reset_index()"
   ],
   "metadata": {
    "collapsed": false,
    "ExecuteTime": {
     "end_time": "2024-04-13T04:59:33.228653Z",
     "start_time": "2024-04-13T04:59:24.384883Z"
    }
   },
   "execution_count": 58
  },
  {
   "cell_type": "code",
   "outputs": [
    {
     "name": "stdout",
     "output_type": "stream",
     "text": [
      "                     source_name  title_sentiment\n",
      "0                       ABC News         0.032829\n",
      "1             Al Jazeera English         0.013220\n",
      "2    AllAfrica - Top Africa News        -0.001599\n",
      "3                Android Central         0.161627\n",
      "4                       BBC News        -0.001080\n",
      "5                    Boing Boing         0.060459\n",
      "6               Business Insider         0.046616\n",
      "7                            CNA         0.052112\n",
      "8                            CNN         0.016447\n",
      "9                       Deadline         0.062693\n",
      "10                Digital Trends         0.206723\n",
      "11                ETF Daily News         0.015479\n",
      "12                      Euronews         0.039194\n",
      "13                        Forbes         0.113641\n",
      "14                   Gizmodo.com         0.057141\n",
      "15            Globalsecurity.org         0.010380\n",
      "16                 GlobeNewswire         0.061334\n",
      "17  International Business Times         0.019454\n",
      "18            Marketscreener.com         0.038020\n",
      "19                           NPR         0.042619\n",
      "20                      Phys.Org         0.047509\n",
      "21                            RT         0.004013\n",
      "22                     ReadWrite         0.073590\n",
      "23            The Indian Express         0.047975\n",
      "24                     The Punch         0.023048\n",
      "25            The Times of India         0.048196\n",
      "26                     The Verge         0.082733\n",
      "27                          Time         0.019458\n",
      "28                         Wired         0.135366\n"
     ]
    }
   ],
   "source": [
    "# Print the DataFrame\n",
    "print(title_sentiment_stats)"
   ],
   "metadata": {
    "collapsed": false,
    "ExecuteTime": {
     "end_time": "2024-04-13T04:59:47.553684Z",
     "start_time": "2024-04-13T04:59:47.549027Z"
    }
   },
   "execution_count": 59
  },
  {
   "cell_type": "code",
   "outputs": [
    {
     "data": {
      "text/html": "\n<style>\n  #altair-viz-a882cb4f4af8434e87a18db3bd3fafea.vega-embed {\n    width: 100%;\n    display: flex;\n  }\n\n  #altair-viz-a882cb4f4af8434e87a18db3bd3fafea.vega-embed details,\n  #altair-viz-a882cb4f4af8434e87a18db3bd3fafea.vega-embed details summary {\n    position: relative;\n  }\n</style>\n<div id=\"altair-viz-a882cb4f4af8434e87a18db3bd3fafea\"></div>\n<script type=\"text/javascript\">\n  var VEGA_DEBUG = (typeof VEGA_DEBUG == \"undefined\") ? {} : VEGA_DEBUG;\n  (function(spec, embedOpt){\n    let outputDiv = document.currentScript.previousElementSibling;\n    if (outputDiv.id !== \"altair-viz-a882cb4f4af8434e87a18db3bd3fafea\") {\n      outputDiv = document.getElementById(\"altair-viz-a882cb4f4af8434e87a18db3bd3fafea\");\n    }\n    const paths = {\n      \"vega\": \"https://cdn.jsdelivr.net/npm/vega@5?noext\",\n      \"vega-lib\": \"https://cdn.jsdelivr.net/npm/vega-lib?noext\",\n      \"vega-lite\": \"https://cdn.jsdelivr.net/npm/vega-lite@5.17.0?noext\",\n      \"vega-embed\": \"https://cdn.jsdelivr.net/npm/vega-embed@6?noext\",\n    };\n\n    function maybeLoadScript(lib, version) {\n      var key = `${lib.replace(\"-\", \"\")}_version`;\n      return (VEGA_DEBUG[key] == version) ?\n        Promise.resolve(paths[lib]) :\n        new Promise(function(resolve, reject) {\n          var s = document.createElement('script');\n          document.getElementsByTagName(\"head\")[0].appendChild(s);\n          s.async = true;\n          s.onload = () => {\n            VEGA_DEBUG[key] = version;\n            return resolve(paths[lib]);\n          };\n          s.onerror = () => reject(`Error loading script: ${paths[lib]}`);\n          s.src = paths[lib];\n        });\n    }\n\n    function showError(err) {\n      outputDiv.innerHTML = `<div class=\"error\" style=\"color:red;\">${err}</div>`;\n      throw err;\n    }\n\n    function displayChart(vegaEmbed) {\n      vegaEmbed(outputDiv, spec, embedOpt)\n        .catch(err => showError(`Javascript Error: ${err.message}<br>This usually means there's a typo in your chart specification. See the javascript console for the full traceback.`));\n    }\n\n    if(typeof define === \"function\" && define.amd) {\n      requirejs.config({paths});\n      require([\"vega-embed\"], displayChart, err => showError(`Error loading script: ${err.message}`));\n    } else {\n      maybeLoadScript(\"vega\", \"5\")\n        .then(() => maybeLoadScript(\"vega-lite\", \"5.17.0\"))\n        .then(() => maybeLoadScript(\"vega-embed\", \"6\"))\n        .catch(showError)\n        .then(() => displayChart(vegaEmbed));\n    }\n  })({\"config\": {\"view\": {\"continuousWidth\": 300, \"continuousHeight\": 300}}, \"data\": {\"name\": \"data-238867aa91ee32add61eaa6c5cc7b845\"}, \"mark\": {\"type\": \"bar\"}, \"encoding\": {\"color\": {\"condition\": {\"test\": \"(datum.title_sentiment > 0)\", \"value\": \"steelblue\"}, \"value\": \"orange\"}, \"x\": {\"field\": \"source_name\", \"type\": \"nominal\"}, \"y\": {\"field\": \"title_sentiment\", \"type\": \"quantitative\"}}, \"width\": 600, \"$schema\": \"https://vega.github.io/schema/vega-lite/v5.17.0.json\", \"datasets\": {\"data-238867aa91ee32add61eaa6c5cc7b845\": [{\"source_name\": \"ABC News\", \"title_sentiment\": 0.03282928331407893}, {\"source_name\": \"Al Jazeera English\", \"title_sentiment\": 0.013220399807301572}, {\"source_name\": \"AllAfrica - Top Africa News\", \"title_sentiment\": -0.0015993265993266004}, {\"source_name\": \"Android Central\", \"title_sentiment\": 0.16162741116016646}, {\"source_name\": \"BBC News\", \"title_sentiment\": -0.0010803881512562246}, {\"source_name\": \"Boing Boing\", \"title_sentiment\": 0.06045855292802132}, {\"source_name\": \"Business Insider\", \"title_sentiment\": 0.046616083049509024}, {\"source_name\": \"CNA\", \"title_sentiment\": 0.05211207343777766}, {\"source_name\": \"CNN\", \"title_sentiment\": 0.01644741922573954}, {\"source_name\": \"Deadline\", \"title_sentiment\": 0.0626925008481928}, {\"source_name\": \"Digital Trends\", \"title_sentiment\": 0.20672272586720639}, {\"source_name\": \"ETF Daily News\", \"title_sentiment\": 0.015479043148228266}, {\"source_name\": \"Euronews\", \"title_sentiment\": 0.039194268408185934}, {\"source_name\": \"Forbes\", \"title_sentiment\": 0.11364112762444155}, {\"source_name\": \"Gizmodo.com\", \"title_sentiment\": 0.05714131446039341}, {\"source_name\": \"Globalsecurity.org\", \"title_sentiment\": 0.010380150734188269}, {\"source_name\": \"GlobeNewswire\", \"title_sentiment\": 0.06133361141692848}, {\"source_name\": \"International Business Times\", \"title_sentiment\": 0.01945438781196357}, {\"source_name\": \"Marketscreener.com\", \"title_sentiment\": 0.03801973184139619}, {\"source_name\": \"NPR\", \"title_sentiment\": 0.042619061631243835}, {\"source_name\": \"Phys.Org\", \"title_sentiment\": 0.0475094009084316}, {\"source_name\": \"RT\", \"title_sentiment\": 0.004013090795030133}, {\"source_name\": \"ReadWrite\", \"title_sentiment\": 0.07358992418516229}, {\"source_name\": \"The Indian Express\", \"title_sentiment\": 0.04797480480657004}, {\"source_name\": \"The Punch\", \"title_sentiment\": 0.023048280291137434}, {\"source_name\": \"The Times of India\", \"title_sentiment\": 0.048196328852846256}, {\"source_name\": \"The Verge\", \"title_sentiment\": 0.08273327790096083}, {\"source_name\": \"Time\", \"title_sentiment\": 0.0194582565934034}, {\"source_name\": \"Wired\", \"title_sentiment\": 0.13536581904314463}]}}, {\"mode\": \"vega-lite\"});\n</script>",
      "text/plain": "alt.Chart(...)"
     },
     "metadata": {},
     "output_type": "display_data"
    }
   ],
   "source": [
    "import altair as alt\n",
    "\n",
    "# Assuming the DataFrame is named as 'title_sentiment_stats'\n",
    "chart = alt.Chart(title_sentiment_stats).mark_bar().encode(\n",
    "    x='source_name:N',\n",
    "    y='title_sentiment:Q',\n",
    "    color=alt.condition(\n",
    "        alt.datum.title_sentiment > 0,\n",
    "        alt.value(\"steelblue\"),  # The positive color\n",
    "        alt.value(\"orange\")  # The negative color\n",
    "    )\n",
    ").properties(width=600)\n",
    "\n",
    "chart.display()"
   ],
   "metadata": {
    "collapsed": false,
    "ExecuteTime": {
     "end_time": "2024-04-13T05:02:49.049854Z",
     "start_time": "2024-04-13T05:02:48.641902Z"
    }
   },
   "execution_count": 61
  },
  {
   "cell_type": "code",
   "outputs": [],
   "source": [],
   "metadata": {
    "collapsed": false
   }
  },
  {
   "cell_type": "code",
   "source": [
    "# Calculate sentiment statistics\n",
    "sentiment_stats2 = sentiment_statistics(news_data)\n",
    "\n",
    "# Sort the DataFrame by mean sentiment and get the top 10 and bottom 10 websites\n",
    "top_10_websites = sentiment_stats2.sort_values(by='mean_sentiment', ascending=False).head(10)\n",
    "bottom_10_websites = sentiment_stats2.sort_values(by='mean_sentiment', ascending=True).head(10)\n",
    "\n",
    "# Print the top 10 and bottom 10 websites\n",
    "print(\"Top 10 websites by mean sentiment:\")\n",
    "print(top_10_websites)\n",
    "print(\"\\nBottom 10 websites by mean sentiment:\")\n",
    "print(bottom_10_websites)"
   ],
   "metadata": {
    "colab": {
     "base_uri": "https://localhost:8080/"
    },
    "id": "_LLEL9oBMWGa",
    "outputId": "11a5f9d4-ed9d-459f-e23a-90dd5d587c18"
   },
   "execution_count": null,
   "outputs": []
  },
  {
   "cell_type": "markdown",
   "source": [
    "### Median sentiment, top and bottom 10"
   ],
   "metadata": {
    "id": "nzJv8SvyNLB7"
   }
  },
  {
   "cell_type": "code",
   "source": [
    "# Sort the DataFrame by median sentiment and get the top 10 and bottom 10 websites\n",
    "top_10_websites_median = sentiment_stats.sort_values(by='median_sentiment', ascending=False).head(10)\n",
    "bottom_10_websites_median = sentiment_stats.sort_values(by='median_sentiment', ascending=True).head(10)\n",
    "\n",
    "# Print the top 10 and bottom 10 websites by median sentiment\n",
    "print(\"\\nTop 10 websites by median sentiment:\")\n",
    "print(top_10_websites_median)\n",
    "print(\"\\nBottom 10 websites by median sentiment:\")\n",
    "print(bottom_10_websites_median)"
   ],
   "metadata": {
    "colab": {
     "base_uri": "https://localhost:8080/"
    },
    "id": "xcTrrawDMa9w",
    "outputId": "e85c1e40-14fe-4195-9250-f8b4fb7736bc"
   },
   "execution_count": null,
   "outputs": []
  },
  {
   "cell_type": "markdown",
   "source": [
    "# Compare metadata across sites"
   ],
   "metadata": {
    "id": "w_hycXZlN6O2"
   }
  },
  {
   "cell_type": "markdown",
   "source": [
    "## Compare similarity of raw message length across sites and their distribution\n",
    "\n"
   ],
   "metadata": {
    "id": "WizJEHF78nG5"
   }
  },
  {
   "cell_type": "code",
   "source": [
    "def calculate_message_length(news_data):\n",
    "    \"\"\"Calculate the length of raw messages for each article\"\"\"\n",
    "    news_data['message_length'] = news_data['content'].apply(len)\n",
    "    return news_data"
   ],
   "metadata": {
    "id": "NR-Imij_NI8R"
   },
   "execution_count": null,
   "outputs": []
  },
  {
   "cell_type": "code",
   "source": [
    "# Calculate message length and title word count\n",
    "news_data = calculate_message_length(news_data)\n",
    "news_data = calculate_title_word_count(news_data)\n",
    "\n",
    "# Group by 'source_name' and calculate descriptive statistics for message length\n",
    "message_length_stats = news_data.groupby('source_name')['message_length'].describe()\n",
    "\n",
    "# Print the descriptive statistics\n",
    "print(\"Message length statistics:\")\n",
    "print(message_length_stats)"
   ],
   "metadata": {
    "id": "BZ0HenIVN_fl"
   },
   "execution_count": null,
   "outputs": []
  },
  {
   "cell_type": "markdown",
   "source": [
    "## Compare similarity of number of words in the title across sites and their distribution"
   ],
   "metadata": {
    "id": "8FVQF-f-9Eqz"
   }
  },
  {
   "cell_type": "code",
   "source": [
    "\n",
    "def calculate_title_word_count(news_data):\n",
    "    \"\"\"Calculate the number of words in the title for each article\"\"\"\n",
    "    news_data['title_word_count'] = news_data['title'].apply(lambda x: len(str(x).split()))\n",
    "    return news_data"
   ],
   "metadata": {
    "id": "wrtAf0lU9D9C"
   },
   "execution_count": null,
   "outputs": []
  },
  {
   "cell_type": "code",
   "source": [
    "# Group by 'source_name' and calculate descriptive statistics title word count\n",
    "title_word_count_stats = news_data.groupby('source_name')['title_word_count'].describe()"
   ],
   "metadata": {
    "id": "63mnbaxF83gt"
   },
   "execution_count": null,
   "outputs": []
  },
  {
   "cell_type": "code",
   "source": [
    "# Print the descriptive statistics\n",
    "print(\"\\nTitle word count statistics:\")\n",
    "print(title_word_count_stats)"
   ],
   "metadata": {
    "id": "xuIYxapd81B_",
    "outputId": "8272fe70-81b6-48e7-a251-750f434765f3",
    "colab": {
     "base_uri": "https://localhost:8080/"
    }
   },
   "execution_count": null,
   "outputs": []
  },
  {
   "cell_type": "markdown",
   "source": [
    "#### Manually create dictionary mapping for news websites with source names to their domains"
   ],
   "metadata": {
    "id": "k5VBz1i_7Zdj"
   }
  },
  {
   "cell_type": "code",
   "source": [
    "# Manually create a dictionary mapping source names to their domains\n",
    "source_domain_mapping = {\n",
    "    'ETF Daily News': 'etfdailynews.com',\n",
    "    'The Times of India': 'timesofindia.indiatimes.com',\n",
    "    'GlobeNewswire': 'globenewswire.com',\n",
    "    'Globalsecurity.org': 'globalsecurity.org',\n",
    "    'Forbes': 'forbes.com',\n",
    "    'BBC News': 'bbc.co.uk',\n",
    "    'ABC News': 'abcnews.go.com',\n",
    "    'Business Insider': 'businessinsider.com',\n",
    "    'The Punch': 'punchng.com',\n",
    "    'Al Jazeera English': 'aljazeera.com',\n",
    "    'Marketscreener.com': 'marketscreener.com',\n",
    "    'Phys.Org': 'phys.org',\n",
    "    'International Business Times': 'ibtimes.com',\n",
    "    'The Indian Express': 'indianexpress.com',\n",
    "    'RT': 'rt.com',\n",
    "    'NPR': 'npr.org',\n",
    "    'Deadline': 'deadline.com',\n",
    "    'Digital Trends': 'digitaltrends.com',\n",
    "    'CNA': 'channelnewsasia.com',\n",
    "    'Boing Boing': 'boingboing.net',\n",
    "    'Time': 'time.com',\n",
    "    'Android Central': 'androidcentral.com',\n",
    "    'Gizmodo.com': 'gizmodo.com',\n",
    "    'ReadWrite': 'readwrite.com',\n",
    "    'Euronews': 'euronews.com',\n",
    "    'Wired': 'wired.com',\n",
    "    'CNN': 'cnn.com',\n",
    "    'The Verge': 'theverge.com',\n",
    "    'AllAfrica - Top Africa News': 'allafrica.com'\n",
    "}"
   ],
   "metadata": {
    "id": "RPv0gs4w1i8X"
   },
   "execution_count": null,
   "outputs": []
  },
  {
   "cell_type": "code",
   "source": [
    "# Add a new column 'url' to the DataFrame\n",
    "news_data['url'] = news_data['source_name'].map(source_domain_mapping)"
   ],
   "metadata": {
    "id": "uCGs56dLvmeF"
   },
   "execution_count": null,
   "outputs": []
  },
  {
   "cell_type": "code",
   "source": [
    "import matplotlib.pyplot as plt\n",
    "import seaborn as sns\n",
    "\n",
    "# Step 1: Calculate total number of reports by each website\n",
    "total_reports = news_data['source_name'].value_counts().reset_index()\n",
    "total_reports.columns = ['source_name', 'total_reports']\n",
    "\n",
    "# Step 2: Add a new column 'url' to the DataFrame\n",
    "total_reports['url'] = total_reports['source_name'].map(source_domain_mapping)"
   ],
   "metadata": {
    "id": "Zr2lApMrw4Gx"
   },
   "execution_count": null,
   "outputs": []
  },
  {
   "cell_type": "markdown",
   "source": [
    "# Impact of frequent news reporting and sentiment to the website’s global ranking. 2D Scatter plot graph"
   ],
   "metadata": {
    "id": "Ns39cKKd4AtE"
   }
  },
  {
   "cell_type": "code",
   "source": [
    "import matplotlib.pyplot as plt\n",
    "import seaborn as sns\n",
    "\n",
    "# Merge total_reports with traffic_data on 'url'\n",
    "merged_data = pd.merge(total_reports, traffic_data, left_on='url', right_on='Domain')\n",
    "\n",
    "# Merge merged_data with sentiment_stats on 'source_name'\n",
    "final_data = pd.merge(merged_data, sentiment_stats, on='source_name')\n",
    "\n",
    "# Create a scatter plot\n",
    "plt.figure(figsize=(10, 8))\n",
    "scatter = sns.scatterplot(data=final_data, x='total_reports', y='GlobalRank', hue='mean_sentiment', palette='coolwarm')\n",
    "plt.title('Impact of Frequent News Reporting and Sentiment on Website\\'s Global Ranking')\n",
    "plt.xlabel('Total Number of Reports')\n",
    "plt.ylabel('Global Ranking')\n",
    "plt.show()"
   ],
   "metadata": {
    "colab": {
     "base_uri": "https://localhost:8080/",
     "height": 707
    },
    "id": "QKmpIYdaUaXD",
    "outputId": "cb21e9c7-f92a-42a1-b74d-2cb4320d101d"
   },
   "execution_count": null,
   "outputs": []
  },
  {
   "cell_type": "code",
   "source": [],
   "metadata": {
    "id": "i7xflJGb4MHp"
   },
   "execution_count": null,
   "outputs": []
  }
 ]
}

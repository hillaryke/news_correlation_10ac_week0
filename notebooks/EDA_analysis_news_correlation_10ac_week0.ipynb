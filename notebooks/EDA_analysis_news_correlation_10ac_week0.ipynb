{
 "nbformat": 4,
 "nbformat_minor": 0,
 "metadata": {
  "colab": {
   "provenance": []
  },
  "kernelspec": {
   "name": "python3",
   "language": "python",
   "display_name": "Python 3 (ipykernel)"
  },
  "language_info": {
   "name": "python"
  }
 },
 "cells": [
  {
   "cell_type": "markdown",
   "source": [
    "# **Initialization**"
   ],
   "metadata": {
    "id": "EHJZmNu79yo1"
   }
  },
  {
   "cell_type": "markdown",
   "source": [],
   "metadata": {
    "collapsed": false
   }
  },
  {
   "cell_type": "code",
   "execution_count": 1,
   "metadata": {
    "id": "CwF9-uPxqq9H",
    "ExecuteTime": {
     "end_time": "2024-04-12T17:58:30.114080Z",
     "start_time": "2024-04-12T17:58:27.547766Z"
    }
   },
   "outputs": [],
   "source": [
    "import pandas as pd\n",
    "# from textblob import TextBlob\n",
    "import re\n",
    "import spacy\n",
    "from collections import Counter\n",
    "# from google.colab import drive"
   ]
  },
  {
   "cell_type": "markdown",
   "source": [
    " #### Mount google drive where the csv files are stored"
   ],
   "metadata": {
    "id": "V1-noCOLGrM-"
   }
  },
  {
   "cell_type": "code",
   "source": [
    "# Mount Google Drive\n",
    "# drive.mount('/content/drive', force_remount=True)"
   ],
   "metadata": {
    "colab": {
     "base_uri": "https://localhost:8080/"
    },
    "id": "ufJgt1IKGp-R",
    "outputId": "70f890a0-7b81-4ee9-d857-2324a5a1c571",
    "ExecuteTime": {
     "end_time": "2024-04-12T17:58:30.118067Z",
     "start_time": "2024-04-12T17:58:30.115329Z"
    }
   },
   "execution_count": 2,
   "outputs": []
  },
  {
   "cell_type": "markdown",
   "source": [
    "### Confirm if drive is mounted by listing the drive contents"
   ],
   "metadata": {
    "id": "SNwiOsie-Rwj"
   }
  },
  {
   "cell_type": "code",
   "source": [
    "# !ls \"/content/drive/My Drive\""
   ],
   "metadata": {
    "id": "-kDJtseNLTkv",
    "ExecuteTime": {
     "end_time": "2024-04-12T17:58:30.122640Z",
     "start_time": "2024-04-12T17:58:30.119328Z"
    }
   },
   "execution_count": 3,
   "outputs": []
  },
  {
   "cell_type": "markdown",
   "source": [
    "##### Read the CSV files into pandas DataFrames"
   ],
   "metadata": {
    "id": "tIjkXVL7s8wb"
   }
  },
  {
   "cell_type": "code",
   "source": [
    "# news_data = pd.read_csv('/content/drive/My Drive/all_news_data/data.csv')\n",
    "# traffic_data = pd.read_csv('/content/drive/My Drive/all_news_data/traffic.csv')\n",
    "# domains_location_data = pd.read_csv('/content/drive/My Drive/all_news_data/domains_location.csv')"
   ],
   "metadata": {
    "id": "J8ulL16loykm",
    "ExecuteTime": {
     "end_time": "2024-04-12T17:58:30.132948Z",
     "start_time": "2024-04-12T17:58:30.123857Z"
    }
   },
   "execution_count": 4,
   "outputs": []
  },
  {
   "cell_type": "markdown",
   "source": [],
   "metadata": {
    "collapsed": false
   }
  },
  {
   "cell_type": "code",
   "outputs": [],
   "source": [],
   "metadata": {
    "collapsed": false,
    "ExecuteTime": {
     "end_time": "2024-04-12T17:58:30.136615Z",
     "start_time": "2024-04-12T17:58:30.134323Z"
    }
   },
   "execution_count": 4
  },
  {
   "cell_type": "code",
   "outputs": [],
   "source": [
    "news_data = pd.read_csv('../data/data.csv')\n",
    "traffic_data = pd.read_csv('../data/traffic.csv')\n",
    "domains_location_data = pd.read_csv('../data/domains_location.csv')"
   ],
   "metadata": {
    "collapsed": false,
    "ExecuteTime": {
     "end_time": "2024-04-12T17:58:39.113296Z",
     "start_time": "2024-04-12T17:58:30.139084Z"
    }
   },
   "execution_count": 5
  },
  {
   "cell_type": "code",
   "source": [
    "news_data.columns"
   ],
   "metadata": {
    "colab": {
     "base_uri": "https://localhost:8080/"
    },
    "id": "JKg5Fb43MThF",
    "outputId": "01944be1-6429-441e-bd58-a03f64cd6085",
    "ExecuteTime": {
     "end_time": "2024-04-12T17:58:39.126218Z",
     "start_time": "2024-04-12T17:58:39.116008Z"
    }
   },
   "execution_count": 6,
   "outputs": [
    {
     "data": {
      "text/plain": "Index(['article_id', 'source_id', 'source_name', 'author', 'title',\n       'description', 'url', 'url_to_image', 'published_at', 'content',\n       'category', 'full_content'],\n      dtype='object')"
     },
     "execution_count": 6,
     "metadata": {},
     "output_type": "execute_result"
    }
   ]
  },
  {
   "cell_type": "code",
   "source": [
    "news_data.head()"
   ],
   "metadata": {
    "colab": {
     "base_uri": "https://localhost:8080/",
     "height": 538
    },
    "id": "r2ns2ieqR7eM",
    "outputId": "3e4442ae-cb3a-4f69-8dda-e02786ac67c9",
    "ExecuteTime": {
     "end_time": "2024-04-12T17:58:39.152736Z",
     "start_time": "2024-04-12T17:58:39.128067Z"
    }
   },
   "execution_count": 7,
   "outputs": [
    {
     "data": {
      "text/plain": "   article_id source_id                   source_name  \\\n0       89541       NaN  International Business Times   \n1       89542       NaN                    Prtimes.jp   \n2       89543       NaN                      VOA News   \n3       89545       NaN            The Indian Express   \n4       89547       NaN           The Times of Israel   \n\n                                       author  \\\n0                              Paavan MATHEMA   \n1                                         NaN   \n2  webdesk@voanews.com (Agence France-Presse)   \n3                                   Editorial   \n4                                 Jacob Magid   \n\n                                               title  \\\n0  UN Chief Urges World To 'Stop The Madness' Of ...   \n1              RANDEBOOよりワンランク上の大人っぽさが漂うニットとベストが新登場。   \n2  UN Chief Urges World to 'Stop the Madness' of ...   \n3  Sikkim warning: Hydroelectricity push must be ...   \n4  200 foreigners, dual nationals cut down in Ham...   \n\n                                         description  \\\n0  UN Secretary-General Antonio Guterres urged th...   \n1  [株式会社Ainer]\\nRANDEBOO（ランデブー）では2023年7月18日(火)より公...   \n2  UN Secretary-General Antonio Guterres urged th...   \n3  Ecologists caution against the adverse effects...   \n4  France lost 35 citizens, Thailand 33, US 31, U...   \n\n                                                 url  \\\n0  https://www.ibtimes.com/un-chief-urges-world-s...   \n1  https://prtimes.jp/main/html/rd/p/000000147.00...   \n2  https://www.voanews.com/a/un-chief-urges-world...   \n3  https://indianexpress.com/article/opinion/edit...   \n4  https://www.timesofisrael.com/200-foreigners-d...   \n\n                                        url_to_image  \\\n0  https://d.ibtimes.com/en/full/4496078/nepals-g...   \n1  https://prtimes.jp/i/32220/147/ogp/d32220-147-...   \n2  https://gdb.voanews.com/01000000-0a00-0242-60f...   \n3  https://images.indianexpress.com/2023/10/edit-...   \n4  https://static.timesofisrael.com/www/uploads/2...   \n\n                 published_at  \\\n0  2023-10-30 10:12:35.000000   \n1  2023-10-06 04:40:02.000000   \n2  2023-10-30 10:53:30.000000   \n3  2023-10-06 01:20:24.000000   \n4  2023-10-27 01:08:34.000000   \n\n                                             content category  \\\n0  UN Secretary-General Antonio Guterres urged th...    Nepal   \n1  RANDEBOO2023718()WEB2023 Autumn Winter \\n\"Nepa...    Nepal   \n2  Kathmandu, Nepal  UN Secretary-General Antonio...    Nepal   \n3  At least 14 persons lost their lives and more ...    Nepal   \n4  Scores of foreign citizens were killed, taken ...    Nepal   \n\n                                        full_content  \n0  UN Secretary-General Antonio Guterres urged th...  \n1                                                NaN  \n2                                                NaN  \n3  At least 14 persons lost their lives and more ...  \n4                                                NaN  ",
      "text/html": "<div>\n<style scoped>\n    .dataframe tbody tr th:only-of-type {\n        vertical-align: middle;\n    }\n\n    .dataframe tbody tr th {\n        vertical-align: top;\n    }\n\n    .dataframe thead th {\n        text-align: right;\n    }\n</style>\n<table border=\"1\" class=\"dataframe\">\n  <thead>\n    <tr style=\"text-align: right;\">\n      <th></th>\n      <th>article_id</th>\n      <th>source_id</th>\n      <th>source_name</th>\n      <th>author</th>\n      <th>title</th>\n      <th>description</th>\n      <th>url</th>\n      <th>url_to_image</th>\n      <th>published_at</th>\n      <th>content</th>\n      <th>category</th>\n      <th>full_content</th>\n    </tr>\n  </thead>\n  <tbody>\n    <tr>\n      <th>0</th>\n      <td>89541</td>\n      <td>NaN</td>\n      <td>International Business Times</td>\n      <td>Paavan MATHEMA</td>\n      <td>UN Chief Urges World To 'Stop The Madness' Of ...</td>\n      <td>UN Secretary-General Antonio Guterres urged th...</td>\n      <td>https://www.ibtimes.com/un-chief-urges-world-s...</td>\n      <td>https://d.ibtimes.com/en/full/4496078/nepals-g...</td>\n      <td>2023-10-30 10:12:35.000000</td>\n      <td>UN Secretary-General Antonio Guterres urged th...</td>\n      <td>Nepal</td>\n      <td>UN Secretary-General Antonio Guterres urged th...</td>\n    </tr>\n    <tr>\n      <th>1</th>\n      <td>89542</td>\n      <td>NaN</td>\n      <td>Prtimes.jp</td>\n      <td>NaN</td>\n      <td>RANDEBOOよりワンランク上の大人っぽさが漂うニットとベストが新登場。</td>\n      <td>[株式会社Ainer]\\nRANDEBOO（ランデブー）では2023年7月18日(火)より公...</td>\n      <td>https://prtimes.jp/main/html/rd/p/000000147.00...</td>\n      <td>https://prtimes.jp/i/32220/147/ogp/d32220-147-...</td>\n      <td>2023-10-06 04:40:02.000000</td>\n      <td>RANDEBOO2023718()WEB2023 Autumn Winter \\n\"Nepa...</td>\n      <td>Nepal</td>\n      <td>NaN</td>\n    </tr>\n    <tr>\n      <th>2</th>\n      <td>89543</td>\n      <td>NaN</td>\n      <td>VOA News</td>\n      <td>webdesk@voanews.com (Agence France-Presse)</td>\n      <td>UN Chief Urges World to 'Stop the Madness' of ...</td>\n      <td>UN Secretary-General Antonio Guterres urged th...</td>\n      <td>https://www.voanews.com/a/un-chief-urges-world...</td>\n      <td>https://gdb.voanews.com/01000000-0a00-0242-60f...</td>\n      <td>2023-10-30 10:53:30.000000</td>\n      <td>Kathmandu, Nepal  UN Secretary-General Antonio...</td>\n      <td>Nepal</td>\n      <td>NaN</td>\n    </tr>\n    <tr>\n      <th>3</th>\n      <td>89545</td>\n      <td>NaN</td>\n      <td>The Indian Express</td>\n      <td>Editorial</td>\n      <td>Sikkim warning: Hydroelectricity push must be ...</td>\n      <td>Ecologists caution against the adverse effects...</td>\n      <td>https://indianexpress.com/article/opinion/edit...</td>\n      <td>https://images.indianexpress.com/2023/10/edit-...</td>\n      <td>2023-10-06 01:20:24.000000</td>\n      <td>At least 14 persons lost their lives and more ...</td>\n      <td>Nepal</td>\n      <td>At least 14 persons lost their lives and more ...</td>\n    </tr>\n    <tr>\n      <th>4</th>\n      <td>89547</td>\n      <td>NaN</td>\n      <td>The Times of Israel</td>\n      <td>Jacob Magid</td>\n      <td>200 foreigners, dual nationals cut down in Ham...</td>\n      <td>France lost 35 citizens, Thailand 33, US 31, U...</td>\n      <td>https://www.timesofisrael.com/200-foreigners-d...</td>\n      <td>https://static.timesofisrael.com/www/uploads/2...</td>\n      <td>2023-10-27 01:08:34.000000</td>\n      <td>Scores of foreign citizens were killed, taken ...</td>\n      <td>Nepal</td>\n      <td>NaN</td>\n    </tr>\n  </tbody>\n</table>\n</div>"
     },
     "execution_count": 7,
     "metadata": {},
     "output_type": "execute_result"
    }
   ]
  },
  {
   "cell_type": "markdown",
   "source": [
    "# **Data preprocessing**"
   ],
   "metadata": {
    "id": "Bs1lhMGJOWSr"
   }
  },
  {
   "cell_type": "code",
   "source": [
    "# Function to preprocess source_name into source_id\n",
    "def preprocess_source_id(source_name):\n",
    "    # Convert to lowercase\n",
    "    source_id = source_name.lower()\n",
    "    # Replace spaces with hyphens\n",
    "    source_id = source_id.replace(\" \", \"-\")\n",
    "    # Keep only alphanumeric characters, hyphens, brackets and full stops\n",
    "    source_id = re.sub(r'[^\\w\\-.()]+', '', source_id)\n",
    "    return source_id\n",
    "\n",
    "# Apply the function to the source_name column to create the source_id column\n",
    "news_data['source_id'] = news_data['source_name'].apply(preprocess_source_id)"
   ],
   "metadata": {
    "id": "3hVEzuAdmIWZ",
    "ExecuteTime": {
     "end_time": "2024-04-12T17:58:39.425670Z",
     "start_time": "2024-04-12T17:58:39.155731Z"
    }
   },
   "execution_count": 8,
   "outputs": []
  },
  {
   "cell_type": "code",
   "source": [
    "# Preprocessing for author column missing values\n",
    "news_data['author'].fillna('Unknown', inplace=True)\n",
    "\n",
    "# Deal with full_content\n",
    "news_data.dropna(subset=['full_content'], inplace=True)\n",
    "\n",
    "# Since url_to_image is not important we can fill with placeholder\n",
    "news_data['url_to_image'].fillna('http://example.com/placeholder.jpg', inplace=True)\n",
    "\n",
    "# same with description column, use placeholder, unless otherwise important\n",
    "news_data['description'].fillna('No description provided', inplace=True)\n",
    "\n",
    "# Replace missing values in 'category' with 'Unknown'\n",
    "news_data['category'].fillna('Unknown', inplace=True)\n",
    "\n",
    "# Replace missing values in 'title' with 'No title provided'\n",
    "news_data['title'].fillna('No title provided', inplace=True)"
   ],
   "metadata": {
    "id": "joe7r84GnkXa",
    "ExecuteTime": {
     "end_time": "2024-04-12T17:58:39.581859Z",
     "start_time": "2024-04-12T17:58:39.427309Z"
    }
   },
   "execution_count": 9,
   "outputs": []
  },
  {
   "cell_type": "code",
   "source": [
    "# Perform preprocessing and clean missing values on the domains_info dataset\n",
    "domains_location_data.dropna(subset=['Country'], inplace=True)"
   ],
   "metadata": {
    "id": "ulw2ymm0qT-4",
    "ExecuteTime": {
     "end_time": "2024-04-12T17:58:39.600125Z",
     "start_time": "2024-04-12T17:58:39.583207Z"
    }
   },
   "execution_count": 10,
   "outputs": []
  },
  {
   "cell_type": "markdown",
   "source": [
    "### More Preprocessing, on date fields"
   ],
   "metadata": {
    "id": "I_jAlpZm3rqr"
   }
  },
  {
   "cell_type": "code",
   "source": [
    "# prompt: Using dataframe news_data: perform data preprocessing and cleaning\n",
    "\n",
    "# Check for missing values\n",
    "news_data.isnull().sum()\n",
    "\n",
    "# Drop rows with missing values\n",
    "news_data.dropna(inplace=True)\n",
    "\n",
    "# Remove duplicate rows\n",
    "news_data.drop_duplicates(inplace=True)\n",
    "\n",
    "# Convert the 'published_at' column to datetime format\n",
    "news_data['published_at'] = pd.to_datetime(news_data['published_at'], format='ISO8601')\n",
    "# news_data['published_at'] = pd.to_datetime(news_data['published_at'])\n",
    "\n",
    "# Extract the year from the 'published_at' column\n",
    "news_data['year'] = news_data['published_at'].dt.year\n",
    "\n",
    "# Group the data by year and calculate"
   ],
   "metadata": {
    "id": "NwIWpCawiG0S",
    "ExecuteTime": {
     "end_time": "2024-04-12T17:58:43.139419Z",
     "start_time": "2024-04-12T17:58:39.601538Z"
    }
   },
   "execution_count": 11,
   "outputs": [
    {
     "ename": "ValueError",
     "evalue": "time data '2023-10-30 10:12:35.000000' does not match format 'ISO8601' (match)",
     "output_type": "error",
     "traceback": [
      "\u001B[0;31m---------------------------------------------------------------------------\u001B[0m",
      "\u001B[0;31mValueError\u001B[0m                                Traceback (most recent call last)",
      "Cell \u001B[0;32mIn[11], line 13\u001B[0m\n\u001B[1;32m     10\u001B[0m news_data\u001B[38;5;241m.\u001B[39mdrop_duplicates(inplace\u001B[38;5;241m=\u001B[39m\u001B[38;5;28;01mTrue\u001B[39;00m)\n\u001B[1;32m     12\u001B[0m \u001B[38;5;66;03m# Convert the 'published_at' column to datetime format\u001B[39;00m\n\u001B[0;32m---> 13\u001B[0m news_data[\u001B[38;5;124m'\u001B[39m\u001B[38;5;124mpublished_at\u001B[39m\u001B[38;5;124m'\u001B[39m] \u001B[38;5;241m=\u001B[39m pd\u001B[38;5;241m.\u001B[39mto_datetime(news_data[\u001B[38;5;124m'\u001B[39m\u001B[38;5;124mpublished_at\u001B[39m\u001B[38;5;124m'\u001B[39m], \u001B[38;5;28mformat\u001B[39m\u001B[38;5;241m=\u001B[39m\u001B[38;5;124m'\u001B[39m\u001B[38;5;124mISO8601\u001B[39m\u001B[38;5;124m'\u001B[39m)\n\u001B[1;32m     14\u001B[0m \u001B[38;5;66;03m# news_data['published_at'] = pd.to_datetime(news_data['published_at'])\u001B[39;00m\n\u001B[1;32m     15\u001B[0m \n\u001B[1;32m     16\u001B[0m \u001B[38;5;66;03m# Extract the year from the 'published_at' column\u001B[39;00m\n\u001B[1;32m     17\u001B[0m news_data[\u001B[38;5;124m'\u001B[39m\u001B[38;5;124myear\u001B[39m\u001B[38;5;124m'\u001B[39m] \u001B[38;5;241m=\u001B[39m news_data[\u001B[38;5;124m'\u001B[39m\u001B[38;5;124mpublished_at\u001B[39m\u001B[38;5;124m'\u001B[39m]\u001B[38;5;241m.\u001B[39mdt\u001B[38;5;241m.\u001B[39myear\n",
      "File \u001B[0;32m~/anaconda3/envs/10academyw0/lib/python3.12/site-packages/pandas/core/tools/datetimes.py:1068\u001B[0m, in \u001B[0;36mto_datetime\u001B[0;34m(arg, errors, dayfirst, yearfirst, utc, format, exact, unit, infer_datetime_format, origin, cache)\u001B[0m\n\u001B[1;32m   1066\u001B[0m         result \u001B[38;5;241m=\u001B[39m arg\u001B[38;5;241m.\u001B[39mmap(cache_array)\n\u001B[1;32m   1067\u001B[0m     \u001B[38;5;28;01melse\u001B[39;00m:\n\u001B[0;32m-> 1068\u001B[0m         values \u001B[38;5;241m=\u001B[39m convert_listlike(arg\u001B[38;5;241m.\u001B[39m_values, \u001B[38;5;28mformat\u001B[39m)\n\u001B[1;32m   1069\u001B[0m         result \u001B[38;5;241m=\u001B[39m arg\u001B[38;5;241m.\u001B[39m_constructor(values, index\u001B[38;5;241m=\u001B[39marg\u001B[38;5;241m.\u001B[39mindex, name\u001B[38;5;241m=\u001B[39marg\u001B[38;5;241m.\u001B[39mname)\n\u001B[1;32m   1070\u001B[0m \u001B[38;5;28;01melif\u001B[39;00m \u001B[38;5;28misinstance\u001B[39m(arg, (ABCDataFrame, abc\u001B[38;5;241m.\u001B[39mMutableMapping)):\n",
      "File \u001B[0;32m~/anaconda3/envs/10academyw0/lib/python3.12/site-packages/pandas/core/tools/datetimes.py:430\u001B[0m, in \u001B[0;36m_convert_listlike_datetimes\u001B[0;34m(arg, format, name, tz, unit, errors, infer_datetime_format, dayfirst, yearfirst, exact)\u001B[0m\n\u001B[1;32m    427\u001B[0m         \u001B[38;5;28mformat\u001B[39m \u001B[38;5;241m=\u001B[39m \u001B[38;5;28;01mNone\u001B[39;00m\n\u001B[1;32m    429\u001B[0m \u001B[38;5;28;01mif\u001B[39;00m \u001B[38;5;28mformat\u001B[39m \u001B[38;5;129;01mis\u001B[39;00m \u001B[38;5;129;01mnot\u001B[39;00m \u001B[38;5;28;01mNone\u001B[39;00m:\n\u001B[0;32m--> 430\u001B[0m     res \u001B[38;5;241m=\u001B[39m _to_datetime_with_format(\n\u001B[1;32m    431\u001B[0m         arg, orig_arg, name, tz, \u001B[38;5;28mformat\u001B[39m, exact, errors, infer_datetime_format\n\u001B[1;32m    432\u001B[0m     )\n\u001B[1;32m    433\u001B[0m     \u001B[38;5;28;01mif\u001B[39;00m res \u001B[38;5;129;01mis\u001B[39;00m \u001B[38;5;129;01mnot\u001B[39;00m \u001B[38;5;28;01mNone\u001B[39;00m:\n\u001B[1;32m    434\u001B[0m         \u001B[38;5;28;01mreturn\u001B[39;00m res\n",
      "File \u001B[0;32m~/anaconda3/envs/10academyw0/lib/python3.12/site-packages/pandas/core/tools/datetimes.py:538\u001B[0m, in \u001B[0;36m_to_datetime_with_format\u001B[0;34m(arg, orig_arg, name, tz, fmt, exact, errors, infer_datetime_format)\u001B[0m\n\u001B[1;32m    535\u001B[0m         \u001B[38;5;28;01mreturn\u001B[39;00m _box_as_indexlike(result, utc\u001B[38;5;241m=\u001B[39mutc, name\u001B[38;5;241m=\u001B[39mname)\n\u001B[1;32m    537\u001B[0m \u001B[38;5;66;03m# fallback\u001B[39;00m\n\u001B[0;32m--> 538\u001B[0m res \u001B[38;5;241m=\u001B[39m _array_strptime_with_fallback(\n\u001B[1;32m    539\u001B[0m     arg, name, tz, fmt, exact, errors, infer_datetime_format\n\u001B[1;32m    540\u001B[0m )\n\u001B[1;32m    541\u001B[0m \u001B[38;5;28;01mreturn\u001B[39;00m res\n",
      "File \u001B[0;32m~/anaconda3/envs/10academyw0/lib/python3.12/site-packages/pandas/core/tools/datetimes.py:473\u001B[0m, in \u001B[0;36m_array_strptime_with_fallback\u001B[0;34m(arg, name, tz, fmt, exact, errors, infer_datetime_format)\u001B[0m\n\u001B[1;32m    470\u001B[0m utc \u001B[38;5;241m=\u001B[39m tz \u001B[38;5;241m==\u001B[39m \u001B[38;5;124m\"\u001B[39m\u001B[38;5;124mutc\u001B[39m\u001B[38;5;124m\"\u001B[39m\n\u001B[1;32m    472\u001B[0m \u001B[38;5;28;01mtry\u001B[39;00m:\n\u001B[0;32m--> 473\u001B[0m     result, timezones \u001B[38;5;241m=\u001B[39m array_strptime(arg, fmt, exact\u001B[38;5;241m=\u001B[39mexact, errors\u001B[38;5;241m=\u001B[39merrors)\n\u001B[1;32m    474\u001B[0m \u001B[38;5;28;01mexcept\u001B[39;00m OutOfBoundsDatetime:\n\u001B[1;32m    475\u001B[0m     \u001B[38;5;28;01mif\u001B[39;00m errors \u001B[38;5;241m==\u001B[39m \u001B[38;5;124m\"\u001B[39m\u001B[38;5;124mraise\u001B[39m\u001B[38;5;124m\"\u001B[39m:\n",
      "File \u001B[0;32m~/anaconda3/envs/10academyw0/lib/python3.12/site-packages/pandas/_libs/tslibs/strptime.pyx:150\u001B[0m, in \u001B[0;36mpandas._libs.tslibs.strptime.array_strptime\u001B[0;34m()\u001B[0m\n",
      "\u001B[0;31mValueError\u001B[0m: time data '2023-10-30 10:12:35.000000' does not match format 'ISO8601' (match)"
     ]
    }
   ]
  },
  {
   "cell_type": "code",
   "source": [
    "news_data.head()"
   ],
   "metadata": {
    "colab": {
     "base_uri": "https://localhost:8080/",
     "height": 643
    },
    "id": "SlHyrPjRmTdm",
    "outputId": "fa7fb325-1a1d-47c7-f6a6-f686dc5b5484"
   },
   "execution_count": null,
   "outputs": []
  },
  {
   "cell_type": "markdown",
   "source": [
    "## Check for any left missing values"
   ],
   "metadata": {
    "id": "0bS3Yv4FPJcV"
   }
  },
  {
   "cell_type": "code",
   "source": [
    "missing_values_news_data = news_data.isnull().sum()\n",
    "print(missing_values_news_data)"
   ],
   "metadata": {
    "colab": {
     "base_uri": "https://localhost:8080/"
    },
    "id": "CqYRkuRMPI0j",
    "outputId": "4ee6aa29-e3ab-47c3-8210-4c546f69117c"
   },
   "execution_count": null,
   "outputs": []
  },
  {
   "cell_type": "code",
   "source": [
    "missing_values_domains_location_data = domains_location_data.isnull().sum()\n",
    "print(missing_values_domains_location_data)\n",
    "\n"
   ],
   "metadata": {
    "colab": {
     "base_uri": "https://localhost:8080/"
    },
    "id": "x5UAEg61QeDm",
    "outputId": "bef10ba5-8483-4fec-c8e4-907d0baa1c78"
   },
   "execution_count": null,
   "outputs": []
  },
  {
   "cell_type": "code",
   "source": [
    "missing_values_traffic_data = traffic_data.isnull().sum()\n",
    "print(missing_values_traffic_data)"
   ],
   "metadata": {
    "colab": {
     "base_uri": "https://localhost:8080/"
    },
    "id": "f-23hlE5Qkir",
    "outputId": "a295a00e-25b4-4a28-d8fd-050b160bbac1"
   },
   "execution_count": null,
   "outputs": []
  },
  {
   "cell_type": "code",
   "source": [
    "domains_location_data.columns"
   ],
   "metadata": {
    "colab": {
     "base_uri": "https://localhost:8080/"
    },
    "id": "TAERvg3tOFQi",
    "outputId": "68eb9c88-1e80-4082-b049-44b331a42184"
   },
   "execution_count": null,
   "outputs": []
  },
  {
   "cell_type": "markdown",
   "source": [
    "### Fix missing values"
   ],
   "metadata": {
    "id": "dpXwKG8EQ1nv"
   }
  },
  {
   "cell_type": "code",
   "source": [
    "traffic_data.columns"
   ],
   "metadata": {
    "colab": {
     "base_uri": "https://localhost:8080/"
    },
    "id": "Ajb41xNgOCXI",
    "outputId": "370d2635-e732-4b1c-c141-3439101b61ad"
   },
   "execution_count": null,
   "outputs": []
  },
  {
   "cell_type": "code",
   "source": [
    "news_data = news_data.dropna()\n",
    "missing_values_news_data = news_data.isnull().sum()\n",
    "print(missing_values_news_data)"
   ],
   "metadata": {
    "colab": {
     "base_uri": "https://localhost:8080/"
    },
    "id": "6B-6yWtuQ1J8",
    "outputId": "4d0b4100-4f70-4ea4-feaf-bbecc63f9ae9"
   },
   "execution_count": null,
   "outputs": []
  },
  {
   "cell_type": "code",
   "source": [
    "news_data.head()"
   ],
   "metadata": {
    "colab": {
     "base_uri": "https://localhost:8080/",
     "height": 643
    },
    "id": "Ow7UFUdORliz",
    "outputId": "424745a7-a13d-431c-ad8f-034d5813a9b6"
   },
   "execution_count": null,
   "outputs": []
  },
  {
   "cell_type": "markdown",
   "source": [
    "### Check outliers"
   ],
   "metadata": {
    "id": "TMAjSrk-PnT6"
   }
  },
  {
   "cell_type": "code",
   "source": [
    "# Check for missing values\n",
    "news_data.isnull().all()"
   ],
   "metadata": {
    "colab": {
     "base_uri": "https://localhost:8080/"
    },
    "id": "JabKCySD2Wxt",
    "outputId": "bcbcd39a-b8ff-4134-8d73-64deda5815f7"
   },
   "execution_count": null,
   "outputs": []
  },
  {
   "cell_type": "code",
   "source": [
    "len(news_data)"
   ],
   "metadata": {
    "colab": {
     "base_uri": "https://localhost:8080/"
    },
    "id": "zz_uLmTG2Au3",
    "outputId": "2113a6f9-fd58-427d-cd95-aedb0f50e42c"
   },
   "execution_count": null,
   "outputs": []
  },
  {
   "cell_type": "code",
   "source": [
    "import seaborn as sns\n",
    "\n",
    "sns.boxplot(data=news_data)"
   ],
   "metadata": {
    "colab": {
     "base_uri": "https://localhost:8080/",
     "height": 448
    },
    "id": "-LUxndgsPnCb",
    "outputId": "a6ffad8c-f9c1-43c2-fd6c-3907a793b99a"
   },
   "execution_count": null,
   "outputs": []
  },
  {
   "cell_type": "code",
   "source": [
    "domains_location_data.isnull().all()"
   ],
   "metadata": {
    "colab": {
     "base_uri": "https://localhost:8080/"
    },
    "id": "TEcWLyWp2i8Z",
    "outputId": "82ace199-9c5d-4db8-cac1-45323459f00c"
   },
   "execution_count": null,
   "outputs": []
  },
  {
   "cell_type": "code",
   "source": [
    "domains_location_data.empty"
   ],
   "metadata": {
    "colab": {
     "base_uri": "https://localhost:8080/"
    },
    "id": "H-gE94WN2oCm",
    "outputId": "1c14a23e-4d0a-4c3f-c7c8-4a5ca784dcfc"
   },
   "execution_count": null,
   "outputs": []
  },
  {
   "cell_type": "code",
   "source": [
    "\n",
    "sns.boxplot(data=traffic_data)"
   ],
   "metadata": {
    "colab": {
     "base_uri": "https://localhost:8080/",
     "height": 463
    },
    "id": "OkWGEGEE1pbA",
    "outputId": "4852ce01-a69b-4287-f0ff-7630a1a24b53",
    "ExecuteTime": {
     "end_time": "2024-04-12T17:58:43.306914Z",
     "start_time": "2024-04-12T17:58:43.280368Z"
    }
   },
   "execution_count": 12,
   "outputs": [
    {
     "ename": "NameError",
     "evalue": "name 'sns' is not defined",
     "output_type": "error",
     "traceback": [
      "\u001B[0;31m---------------------------------------------------------------------------\u001B[0m",
      "\u001B[0;31mNameError\u001B[0m                                 Traceback (most recent call last)",
      "Cell \u001B[0;32mIn[12], line 1\u001B[0m\n\u001B[0;32m----> 1\u001B[0m sns\u001B[38;5;241m.\u001B[39mboxplot(data\u001B[38;5;241m=\u001B[39mtraffic_data)\n",
      "\u001B[0;31mNameError\u001B[0m: name 'sns' is not defined"
     ]
    }
   ]
  },
  {
   "cell_type": "markdown",
   "source": [
    "Clean the data:\n",
    "* Remove duplicate rows:"
   ],
   "metadata": {
    "id": "1LzSHNZlm_tP"
   }
  },
  {
   "cell_type": "markdown",
   "source": [],
   "metadata": {
    "id": "ktA_e9SJr3Kj"
   }
  },
  {
   "cell_type": "markdown",
   "source": [],
   "metadata": {
    "id": "91ep82_b9tUk"
   }
  },
  {
   "cell_type": "markdown",
   "source": [
    "## **Exploratory Data Analysis (EDA)**"
   ],
   "metadata": {
    "id": "q1x1KDps9jS6"
   }
  },
  {
   "cell_type": "code",
   "source": [
    "news_data.columns"
   ],
   "metadata": {
    "colab": {
     "base_uri": "https://localhost:8080/"
    },
    "id": "yLRUkzgn9ro_",
    "outputId": "ad08ab89-91fc-4b37-f996-35c1bd077376",
    "ExecuteTime": {
     "end_time": "2024-04-12T17:58:45.500362Z",
     "start_time": "2024-04-12T17:58:45.495367Z"
    }
   },
   "execution_count": 13,
   "outputs": [
    {
     "data": {
      "text/plain": "Index(['article_id', 'source_id', 'source_name', 'author', 'title',\n       'description', 'url', 'url_to_image', 'published_at', 'content',\n       'category', 'full_content'],\n      dtype='object')"
     },
     "execution_count": 13,
     "metadata": {},
     "output_type": "execute_result"
    }
   ]
  },
  {
   "cell_type": "code",
   "source": [
    "news_data.info()"
   ],
   "metadata": {
    "colab": {
     "base_uri": "https://localhost:8080/"
    },
    "id": "cBw8UILY94f4",
    "outputId": "971454dd-27a2-487a-e1b9-d19591488b72",
    "ExecuteTime": {
     "end_time": "2024-04-12T17:58:46.391094Z",
     "start_time": "2024-04-12T17:58:46.235036Z"
    }
   },
   "execution_count": 14,
   "outputs": [
    {
     "name": "stdout",
     "output_type": "stream",
     "text": [
      "<class 'pandas.core.frame.DataFrame'>\n",
      "Int64Index: 54889 entries, 0 to 105374\n",
      "Data columns (total 12 columns):\n",
      " #   Column        Non-Null Count  Dtype \n",
      "---  ------        --------------  ----- \n",
      " 0   article_id    54889 non-null  int64 \n",
      " 1   source_id     54889 non-null  object\n",
      " 2   source_name   54889 non-null  object\n",
      " 3   author        54889 non-null  object\n",
      " 4   title         54889 non-null  object\n",
      " 5   description   54889 non-null  object\n",
      " 6   url           54889 non-null  object\n",
      " 7   url_to_image  54889 non-null  object\n",
      " 8   published_at  54889 non-null  object\n",
      " 9   content       54889 non-null  object\n",
      " 10  category      54889 non-null  object\n",
      " 11  full_content  54889 non-null  object\n",
      "dtypes: int64(1), object(11)\n",
      "memory usage: 5.4+ MB\n"
     ]
    }
   ]
  },
  {
   "cell_type": "code",
   "source": [
    "news_data.describe()"
   ],
   "metadata": {
    "colab": {
     "base_uri": "https://localhost:8080/",
     "height": 300
    },
    "id": "c4uoVetA99Aw",
    "outputId": "c90ef46f-bc3b-45a3-ac0d-66f91f2cd0c6",
    "ExecuteTime": {
     "end_time": "2024-04-12T17:58:46.806738Z",
     "start_time": "2024-04-12T17:58:46.792245Z"
    }
   },
   "execution_count": 15,
   "outputs": [
    {
     "data": {
      "text/plain": "          article_id\ncount   54889.000000\nmean   305940.568019\nstd    220864.360813\nmin       418.000000\n25%    105821.000000\n50%    271035.000000\n75%    469868.000000\nmax    781308.000000",
      "text/html": "<div>\n<style scoped>\n    .dataframe tbody tr th:only-of-type {\n        vertical-align: middle;\n    }\n\n    .dataframe tbody tr th {\n        vertical-align: top;\n    }\n\n    .dataframe thead th {\n        text-align: right;\n    }\n</style>\n<table border=\"1\" class=\"dataframe\">\n  <thead>\n    <tr style=\"text-align: right;\">\n      <th></th>\n      <th>article_id</th>\n    </tr>\n  </thead>\n  <tbody>\n    <tr>\n      <th>count</th>\n      <td>54889.000000</td>\n    </tr>\n    <tr>\n      <th>mean</th>\n      <td>305940.568019</td>\n    </tr>\n    <tr>\n      <th>std</th>\n      <td>220864.360813</td>\n    </tr>\n    <tr>\n      <th>min</th>\n      <td>418.000000</td>\n    </tr>\n    <tr>\n      <th>25%</th>\n      <td>105821.000000</td>\n    </tr>\n    <tr>\n      <th>50%</th>\n      <td>271035.000000</td>\n    </tr>\n    <tr>\n      <th>75%</th>\n      <td>469868.000000</td>\n    </tr>\n    <tr>\n      <th>max</th>\n      <td>781308.000000</td>\n    </tr>\n  </tbody>\n</table>\n</div>"
     },
     "execution_count": 15,
     "metadata": {},
     "output_type": "execute_result"
    }
   ]
  },
  {
   "cell_type": "code",
   "source": [
    "top_N = 10"
   ],
   "metadata": {
    "id": "Tel7csJHDmU_",
    "ExecuteTime": {
     "end_time": "2024-04-12T17:58:49.241510Z",
     "start_time": "2024-04-12T17:58:49.238305Z"
    }
   },
   "execution_count": 16,
   "outputs": []
  },
  {
   "cell_type": "code",
   "source": [
    "\"\"\"Get the top N countries with the highest number of articles written about them\"\"\"\n",
    "# !pip install spacy-transformers\n",
    "\n",
    "# Load the SpaCy model\n",
    "import en_core_web_sm\n",
    "nlp = en_core_web_sm.load()\n",
    "\n",
    "# nlp.max_length = 3500000  # Increase the maximum length limit\n",
    "\n",
    "# Concantenating all the news articles into a single string\n",
    "all_articles = \" \".join(news_data['title'].dropna())\n",
    "\n",
    "# Split the text into chunks of 1,000,000 characters\n",
    "chunks = [all_articles[i:i + 1000000] for i in range(0, len(all_articles), 1000000)]\n",
    "\n",
    "\n",
    "# Initialize a Counter object to store the country counts\n",
    "country_counts = Counter()\n",
    "\n",
    "# Process each chunk separately\n",
    "for chunk in chunks:\n",
    "    doc = nlp(chunk)\n",
    "    # Extracting the countries mentioned in the articles\n",
    "    countries = [ent.text for ent in doc.ents if ent.label_ == \"GPE\"]\n",
    "    # Update the country counts\n",
    "    country_counts.update(countries)\n",
    "\n",
    "# Print the top N countries\n",
    "print(country_counts.most_common(top_N))\n",
    "\n",
    "# Print the bottom N countries\n",
    "print(country_counts.most_common()[:-top_N-1:-1])"
   ],
   "metadata": {
    "id": "0LavaaG8O7XO",
    "ExecuteTime": {
     "end_time": "2024-04-12T18:02:45.171026Z",
     "start_time": "2024-04-12T18:00:39.584225Z"
    }
   },
   "execution_count": 18,
   "outputs": [
    {
     "name": "stdout",
     "output_type": "stream",
     "text": [
      "[('Israel', 1382), ('US', 1168), ('Gaza', 1144), ('India', 1024), ('China', 706), ('Russia', 594), ('Ukraine', 538), ('UK', 385), ('U.S.', 261), ('Australia', 261)]\n",
      "[('West Village', 1), ('Homecoming', 1), ('Clear', 1), ('Europe Country', 1), ('Videos', 1), ('Berkshire', 1), ('Firms', 1), ('Tasmania', 1), ('Benelux', 1), ('Ukraine Citizens', 1)]\n"
     ]
    }
   ]
  },
  {
   "cell_type": "code",
   "source": [
    "def get_websites_reporting_on_regions(news_data, regions):\n",
    "    \"\"\"Get the websites that reported about specific regions\"\"\"\n",
    "\n",
    "    # Load the SpaCy model\n",
    "    nlp = spacy.load(\"en_core_web_sm\")\n",
    "\n",
    "    # Initialize a dictionary to store the results\n",
    "    region_counts = {region: Counter() for region in regions}\n",
    "\n",
    "    # Process each article\n",
    "    for _, row in news_data.iterrows():\n",
    "        doc = nlp(row['title'])\n",
    "\n",
    "        # Extract country names\n",
    "        countries = [ent.text for ent in doc.ents if ent.label_ == 'GPE']\n",
    "\n",
    "        # Check if the country belongs to one of the regions\n",
    "        for country in countries:\n",
    "            for region, region_countries in regions.items():\n",
    "                if country in region_countries:\n",
    "                    region_counts[region][row['source_name']] += 1\n",
    "\n",
    "    return region_counts"
   ],
   "metadata": {
    "id": "f2RjP6CkPD2m",
    "ExecuteTime": {
     "end_time": "2024-04-12T05:50:05.861788Z",
     "start_time": "2024-04-12T05:50:05.858605Z"
    }
   },
   "execution_count": 44,
   "outputs": []
  },
  {
   "cell_type": "code",
   "source": [
    "# Define the regions\n",
    "\n",
    "AFRICA = ['Algeria', 'Angola', 'Benin', 'Botswana', 'Burkina Faso', 'Burundi', 'Cabo Verde', 'Cameroon', 'Central African Republic', 'Chad', 'Comoros', 'Congo', 'Djibouti', 'Egypt', 'Equatorial Guinea', 'Eritrea', 'Eswatini', 'Ethiopia', 'Gabon', 'Gambia', 'Ghana', 'Guinea', 'Guinea-Bissau', 'Ivory Coast', 'Kenya', 'Lesotho', 'Liberia', 'Libya', 'Madagascar', 'Malawi', 'Mali', 'Mauritania', 'Mauritius', 'Morocco', 'Mozambique', 'Namibia', 'Niger', 'Nigeria', 'Rwanda', 'Sao Tome and Principe', 'Senegal', 'Seychelles', 'Sierra Leone', 'Somalia', 'South Africa', 'South Sudan', 'Sudan', 'Tanzania', 'Togo', 'Tunisia', 'Uganda', 'Zambia', 'Zimbabwe']\n",
    "EU = ['Austria', 'Belgium', 'Bulgaria', 'Croatia', 'Cyprus', 'Czech Republic', 'Denmark', 'Estonia', 'Finland', 'France', 'Germany', 'Greece', 'Hungary', 'Ireland', 'Italy', 'Latvia', 'Lithuania', 'Luxembourg', 'Malta', 'Netherlands', 'Poland', 'Portugal', 'Romania', 'Slovakia', 'Slovenia', 'Spain', 'Sweden']\n",
    "MIDDLE_EAST = ['Bahrain', 'Cyprus', 'Egypt', 'Iran', 'Iraq', 'Israel', 'Jordan', 'Kuwait', 'Lebanon', 'Oman', 'Palestine', 'Qatar', 'Saudi Arabia', 'Syria', 'Turkey', 'United Arab Emirates', 'Yemen']\n",
    "\n",
    "regions = {\n",
    "    'Africa': AFRICA,\n",
    "    'EU': EU,\n",
    "    'Middle East': MIDDLE_EAST,\n",
    "    'US': ['United States'],\n",
    "    'China': ['China'],\n",
    "    'Russia': ['Russia'],\n",
    "    'Ukraine': ['Ukraine']\n",
    "}"
   ],
   "metadata": {
    "id": "BqsxQXUzS-1G",
    "ExecuteTime": {
     "end_time": "2024-04-12T05:50:06.699762Z",
     "start_time": "2024-04-12T05:50:06.696082Z"
    }
   },
   "execution_count": 45,
   "outputs": []
  },
  {
   "cell_type": "code",
   "source": [
    "# Get the websites that reported about the specified regions\n",
    "region_counts = get_websites_reporting_on_regions(news_data, regions)\n",
    "\n",
    "# Print the results\n",
    "for region, counts in region_counts.items():\n",
    "    print(f\"Websites that reported about {region}:\")\n",
    "    print(counts.most_common(10))\n",
    "    print()"
   ],
   "metadata": {
    "colab": {
     "base_uri": "https://localhost:8080/",
     "height": 390
    },
    "id": "QukkwUR6Qf_w",
    "outputId": "f69c5c3b-c078-40b2-871a-89cf718475fc",
    "ExecuteTime": {
     "end_time": "2024-04-12T05:55:39.835465Z",
     "start_time": "2024-04-12T05:50:07.579119Z"
    }
   },
   "execution_count": 46,
   "outputs": [
    {
     "name": "stdout",
     "output_type": "stream",
     "text": [
      "Websites that reported about Africa:\n",
      "[('The Punch', 146), ('Globalsecurity.org', 134), ('BBC News', 104), ('Al Jazeera English', 102), ('ABC News', 85), ('The Times of India', 78), ('RT', 61), ('Marketscreener.com', 52), ('International Business Times', 35), ('CNA', 23)]\n",
      "\n",
      "Websites that reported about EU:\n",
      "[('Globalsecurity.org', 130), ('ABC News', 103), ('The Times of India', 100), ('Euronews', 85), ('CNA', 75), ('Al Jazeera English', 71), ('RT', 56), ('BBC News', 56), ('GlobeNewswire', 55), ('International Business Times', 53)]\n",
      "\n",
      "Websites that reported about Middle East:\n",
      "[('Globalsecurity.org', 581), ('Al Jazeera English', 542), ('The Times of India', 239), ('Business Insider', 185), ('BBC News', 142), ('ABC News', 140), ('RT', 131), ('International Business Times', 105), ('NPR', 105), ('CNA', 47)]\n",
      "\n",
      "Websites that reported about US:\n",
      "[('GlobeNewswire', 6), ('Globalsecurity.org', 5), ('ETF Daily News', 2), ('ABC News', 1), ('International Business Times', 1), ('The Times of India', 1)]\n",
      "\n",
      "Websites that reported about China:\n",
      "[('Globalsecurity.org', 168), ('The Times of India', 162), ('ABC News', 71), ('CNA', 58), ('Business Insider', 46), ('Al Jazeera English', 41), ('International Business Times', 35), ('RT', 31), ('BBC News', 28), ('NPR', 17)]\n",
      "\n",
      "Websites that reported about Russia:\n",
      "[('Globalsecurity.org', 130), ('RT', 127), ('Business Insider', 92), ('Al Jazeera English', 85), ('The Times of India', 51), ('ABC News', 46), ('International Business Times', 20), ('BBC News', 19), ('Euronews', 13), ('NPR', 10)]\n",
      "\n",
      "Websites that reported about Ukraine:\n",
      "[('Globalsecurity.org', 225), ('Business Insider', 121), ('RT', 110), ('ABC News', 49), ('Al Jazeera English', 44), ('BBC News', 40), ('The Times of India', 37), ('Euronews', 14), ('NPR', 12), ('International Business Times', 10)]\n"
     ]
    }
   ]
  },
  {
   "cell_type": "code",
   "source": [],
   "metadata": {
    "id": "qe0Pi3jiVJ0b"
   },
   "execution_count": null,
   "outputs": []
  },
  {
   "cell_type": "markdown",
   "source": [
    "#  top 10 and bottom 10 websites by mean sentiment"
   ],
   "metadata": {
    "id": "54LDU-tMLjVK"
   }
  },
  {
   "cell_type": "code",
   "source": [
    "def calculate_sentiment(text):\n",
    "    \"\"\"Calculate sentiment score using TextBlob\"\"\"\n",
    "    return TextBlob(text).sentiment.polarity"
   ],
   "metadata": {
    "id": "SYGNLpnmMUnf"
   },
   "execution_count": 184,
   "outputs": []
  },
  {
   "cell_type": "code",
   "source": [
    "def sentiment_statistics(news_data):\n",
    "    \"\"\"Calculate sentiment statistics for each website\"\"\"\n",
    "    # Calculate sentiment scores\n",
    "    news_data['sentiment'] = news_data['content'].apply(calculate_sentiment)\n",
    "\n",
    "    # Create columns for positive, neutral, and negative sentiment counts\n",
    "    news_data['positive_sentiment'] = (news_data['sentiment'] > 0).astype(int)\n",
    "    news_data['neutral_sentiment'] = (news_data['sentiment'] == 0).astype(int)\n",
    "    news_data['negative_sentiment'] = (news_data['sentiment'] < 0).astype(int)\n",
    "\n",
    "    # Group by 'source_name' and calculate mean, median, variance, and sentiment counts\n",
    "    grouped = news_data.groupby('source_name')\n",
    "    mean_sentiment = grouped['sentiment'].mean()\n",
    "    median_sentiment = grouped['sentiment'].median()\n",
    "    variance_sentiment = grouped['sentiment'].var()\n",
    "    positive_sentiment = grouped['positive_sentiment'].sum()\n",
    "    neutral_sentiment = grouped['neutral_sentiment'].sum()\n",
    "    negative_sentiment = grouped['negative_sentiment'].sum()\n",
    "\n",
    "    # Return the results as a DataFrame\n",
    "    return pd.DataFrame({\n",
    "        'mean_sentiment': mean_sentiment,\n",
    "        'median_sentiment': median_sentiment,\n",
    "        'variance_sentiment': variance_sentiment,\n",
    "        'positive_sentiment': positive_sentiment,\n",
    "        'neutral_sentiment': neutral_sentiment,\n",
    "        'negative_sentiment': negative_sentiment\n",
    "    })"
   ],
   "metadata": {
    "id": "tsLrxAxVLr6r"
   },
   "execution_count": 185,
   "outputs": []
  },
  {
   "cell_type": "code",
   "source": [
    "news_data.head()"
   ],
   "metadata": {
    "colab": {
     "base_uri": "https://localhost:8080/",
     "height": 643
    },
    "id": "VG_m0IfRuNCg",
    "outputId": "bd32408c-c6f2-4654-d654-0eef441b6c9a"
   },
   "execution_count": 188,
   "outputs": [
    {
     "output_type": "execute_result",
     "data": {
      "text/plain": [
       "    article_id                     source_id                   source_name  \\\n",
       "0        89541  international-business-times  International Business Times   \n",
       "3        89545            the-indian-express            The Indian Express   \n",
       "6        89551            al-jazeera-english            Al Jazeera English   \n",
       "7        89555            the-indian-express            The Indian Express   \n",
       "12       89563            the-times-of-india            The Times of India   \n",
       "\n",
       "                author                                              title  \\\n",
       "0       Paavan MATHEMA  UN Chief Urges World To 'Stop The Madness' Of ...   \n",
       "3            Editorial  Sikkim warning: Hydroelectricity push must be ...   \n",
       "6          Kaushik Raj  Pro-Israel rallies allowed in India but Palest...   \n",
       "7       New York Times  No nation in the world is buying more planes t...   \n",
       "12  Durgesh Nandan Jha  PM Hasina’s war on terror gets daughter India’...   \n",
       "\n",
       "                                          description  \\\n",
       "0   UN Secretary-General Antonio Guterres urged th...   \n",
       "3   Ecologists caution against the adverse effects...   \n",
       "6   India, the first non-Arab country to recognise...   \n",
       "7   India's largest airlines have ordered nearly 1...   \n",
       "12  India News: NEW DELHI: India preferred Banglad...   \n",
       "\n",
       "                                                  url  \\\n",
       "0   https://www.ibtimes.com/un-chief-urges-world-s...   \n",
       "3   https://indianexpress.com/article/opinion/edit...   \n",
       "6   https://www.aljazeera.com/news/2023/10/25/pro-...   \n",
       "7   https://indianexpress.com/article/business/avi...   \n",
       "12  https://timesofindia.indiatimes.com/india/pm-h...   \n",
       "\n",
       "                                         url_to_image  \\\n",
       "0   https://d.ibtimes.com/en/full/4496078/nepals-g...   \n",
       "3   https://images.indianexpress.com/2023/10/edit-...   \n",
       "6   https://www.aljazeera.com/wp-content/uploads/2...   \n",
       "7   https://images.indianexpress.com/2023/11/igiai...   \n",
       "12  https://static.toiimg.com/thumb/msid-47529300,...   \n",
       "\n",
       "                  published_at  \\\n",
       "0   2023-10-30 10:12:35.000000   \n",
       "3   2023-10-06 01:20:24.000000   \n",
       "6   2023-10-25 09:58:17.000000   \n",
       "7   2023-11-02 05:48:58.000000   \n",
       "12  2023-11-02 01:12:47.000000   \n",
       "\n",
       "                                              content category  \\\n",
       "0   UN Secretary-General Antonio Guterres urged th...    Nepal   \n",
       "3   At least 14 persons lost their lives and more ...    Nepal   \n",
       "6   New Delhi, India Israels relentless bombing of...    Nepal   \n",
       "7   No nation in the world is buying as many airpl...    Nepal   \n",
       "12  Ranked! Worlds most loved landmarks; Taj Mahal...    Nepal   \n",
       "\n",
       "                                         full_content  sentiment  \\\n",
       "0   UN Secretary-General Antonio Guterres urged th...   0.000000   \n",
       "3   At least 14 persons lost their lives and more ...   0.000000   \n",
       "6   India, the first non-Arab country to recognise...  -0.165909   \n",
       "7   Written by Alex Travelli and Hari Kumar No nat...   0.300000   \n",
       "12  NEW DELHI: India preferred Bangladesh over Nep...   0.400000   \n",
       "\n",
       "    positive_sentiment  neutral_sentiment  negative_sentiment  \n",
       "0                    0                  1                   0  \n",
       "3                    0                  1                   0  \n",
       "6                    0                  0                   1  \n",
       "7                    1                  0                   0  \n",
       "12                   1                  0                   0  "
      ],
      "text/html": [
       "\n",
       "  <div id=\"df-a3d1df3b-53c0-4d78-aa48-4834d9b1b41a\" class=\"colab-df-container\">\n",
       "    <div>\n",
       "<style scoped>\n",
       "    .dataframe tbody tr th:only-of-type {\n",
       "        vertical-align: middle;\n",
       "    }\n",
       "\n",
       "    .dataframe tbody tr th {\n",
       "        vertical-align: top;\n",
       "    }\n",
       "\n",
       "    .dataframe thead th {\n",
       "        text-align: right;\n",
       "    }\n",
       "</style>\n",
       "<table border=\"1\" class=\"dataframe\">\n",
       "  <thead>\n",
       "    <tr style=\"text-align: right;\">\n",
       "      <th></th>\n",
       "      <th>article_id</th>\n",
       "      <th>source_id</th>\n",
       "      <th>source_name</th>\n",
       "      <th>author</th>\n",
       "      <th>title</th>\n",
       "      <th>description</th>\n",
       "      <th>url</th>\n",
       "      <th>url_to_image</th>\n",
       "      <th>published_at</th>\n",
       "      <th>content</th>\n",
       "      <th>category</th>\n",
       "      <th>full_content</th>\n",
       "      <th>sentiment</th>\n",
       "      <th>positive_sentiment</th>\n",
       "      <th>neutral_sentiment</th>\n",
       "      <th>negative_sentiment</th>\n",
       "    </tr>\n",
       "  </thead>\n",
       "  <tbody>\n",
       "    <tr>\n",
       "      <th>0</th>\n",
       "      <td>89541</td>\n",
       "      <td>international-business-times</td>\n",
       "      <td>International Business Times</td>\n",
       "      <td>Paavan MATHEMA</td>\n",
       "      <td>UN Chief Urges World To 'Stop The Madness' Of ...</td>\n",
       "      <td>UN Secretary-General Antonio Guterres urged th...</td>\n",
       "      <td>https://www.ibtimes.com/un-chief-urges-world-s...</td>\n",
       "      <td>https://d.ibtimes.com/en/full/4496078/nepals-g...</td>\n",
       "      <td>2023-10-30 10:12:35.000000</td>\n",
       "      <td>UN Secretary-General Antonio Guterres urged th...</td>\n",
       "      <td>Nepal</td>\n",
       "      <td>UN Secretary-General Antonio Guterres urged th...</td>\n",
       "      <td>0.000000</td>\n",
       "      <td>0</td>\n",
       "      <td>1</td>\n",
       "      <td>0</td>\n",
       "    </tr>\n",
       "    <tr>\n",
       "      <th>3</th>\n",
       "      <td>89545</td>\n",
       "      <td>the-indian-express</td>\n",
       "      <td>The Indian Express</td>\n",
       "      <td>Editorial</td>\n",
       "      <td>Sikkim warning: Hydroelectricity push must be ...</td>\n",
       "      <td>Ecologists caution against the adverse effects...</td>\n",
       "      <td>https://indianexpress.com/article/opinion/edit...</td>\n",
       "      <td>https://images.indianexpress.com/2023/10/edit-...</td>\n",
       "      <td>2023-10-06 01:20:24.000000</td>\n",
       "      <td>At least 14 persons lost their lives and more ...</td>\n",
       "      <td>Nepal</td>\n",
       "      <td>At least 14 persons lost their lives and more ...</td>\n",
       "      <td>0.000000</td>\n",
       "      <td>0</td>\n",
       "      <td>1</td>\n",
       "      <td>0</td>\n",
       "    </tr>\n",
       "    <tr>\n",
       "      <th>6</th>\n",
       "      <td>89551</td>\n",
       "      <td>al-jazeera-english</td>\n",
       "      <td>Al Jazeera English</td>\n",
       "      <td>Kaushik Raj</td>\n",
       "      <td>Pro-Israel rallies allowed in India but Palest...</td>\n",
       "      <td>India, the first non-Arab country to recognise...</td>\n",
       "      <td>https://www.aljazeera.com/news/2023/10/25/pro-...</td>\n",
       "      <td>https://www.aljazeera.com/wp-content/uploads/2...</td>\n",
       "      <td>2023-10-25 09:58:17.000000</td>\n",
       "      <td>New Delhi, India Israels relentless bombing of...</td>\n",
       "      <td>Nepal</td>\n",
       "      <td>India, the first non-Arab country to recognise...</td>\n",
       "      <td>-0.165909</td>\n",
       "      <td>0</td>\n",
       "      <td>0</td>\n",
       "      <td>1</td>\n",
       "    </tr>\n",
       "    <tr>\n",
       "      <th>7</th>\n",
       "      <td>89555</td>\n",
       "      <td>the-indian-express</td>\n",
       "      <td>The Indian Express</td>\n",
       "      <td>New York Times</td>\n",
       "      <td>No nation in the world is buying more planes t...</td>\n",
       "      <td>India's largest airlines have ordered nearly 1...</td>\n",
       "      <td>https://indianexpress.com/article/business/avi...</td>\n",
       "      <td>https://images.indianexpress.com/2023/11/igiai...</td>\n",
       "      <td>2023-11-02 05:48:58.000000</td>\n",
       "      <td>No nation in the world is buying as many airpl...</td>\n",
       "      <td>Nepal</td>\n",
       "      <td>Written by Alex Travelli and Hari Kumar No nat...</td>\n",
       "      <td>0.300000</td>\n",
       "      <td>1</td>\n",
       "      <td>0</td>\n",
       "      <td>0</td>\n",
       "    </tr>\n",
       "    <tr>\n",
       "      <th>12</th>\n",
       "      <td>89563</td>\n",
       "      <td>the-times-of-india</td>\n",
       "      <td>The Times of India</td>\n",
       "      <td>Durgesh Nandan Jha</td>\n",
       "      <td>PM Hasina’s war on terror gets daughter India’...</td>\n",
       "      <td>India News: NEW DELHI: India preferred Banglad...</td>\n",
       "      <td>https://timesofindia.indiatimes.com/india/pm-h...</td>\n",
       "      <td>https://static.toiimg.com/thumb/msid-47529300,...</td>\n",
       "      <td>2023-11-02 01:12:47.000000</td>\n",
       "      <td>Ranked! Worlds most loved landmarks; Taj Mahal...</td>\n",
       "      <td>Nepal</td>\n",
       "      <td>NEW DELHI: India preferred Bangladesh over Nep...</td>\n",
       "      <td>0.400000</td>\n",
       "      <td>1</td>\n",
       "      <td>0</td>\n",
       "      <td>0</td>\n",
       "    </tr>\n",
       "  </tbody>\n",
       "</table>\n",
       "</div>\n",
       "    <div class=\"colab-df-buttons\">\n",
       "\n",
       "  <div class=\"colab-df-container\">\n",
       "    <button class=\"colab-df-convert\" onclick=\"convertToInteractive('df-a3d1df3b-53c0-4d78-aa48-4834d9b1b41a')\"\n",
       "            title=\"Convert this dataframe to an interactive table.\"\n",
       "            style=\"display:none;\">\n",
       "\n",
       "  <svg xmlns=\"http://www.w3.org/2000/svg\" height=\"24px\" viewBox=\"0 -960 960 960\">\n",
       "    <path d=\"M120-120v-720h720v720H120Zm60-500h600v-160H180v160Zm220 220h160v-160H400v160Zm0 220h160v-160H400v160ZM180-400h160v-160H180v160Zm440 0h160v-160H620v160ZM180-180h160v-160H180v160Zm440 0h160v-160H620v160Z\"/>\n",
       "  </svg>\n",
       "    </button>\n",
       "\n",
       "  <style>\n",
       "    .colab-df-container {\n",
       "      display:flex;\n",
       "      gap: 12px;\n",
       "    }\n",
       "\n",
       "    .colab-df-convert {\n",
       "      background-color: #E8F0FE;\n",
       "      border: none;\n",
       "      border-radius: 50%;\n",
       "      cursor: pointer;\n",
       "      display: none;\n",
       "      fill: #1967D2;\n",
       "      height: 32px;\n",
       "      padding: 0 0 0 0;\n",
       "      width: 32px;\n",
       "    }\n",
       "\n",
       "    .colab-df-convert:hover {\n",
       "      background-color: #E2EBFA;\n",
       "      box-shadow: 0px 1px 2px rgba(60, 64, 67, 0.3), 0px 1px 3px 1px rgba(60, 64, 67, 0.15);\n",
       "      fill: #174EA6;\n",
       "    }\n",
       "\n",
       "    .colab-df-buttons div {\n",
       "      margin-bottom: 4px;\n",
       "    }\n",
       "\n",
       "    [theme=dark] .colab-df-convert {\n",
       "      background-color: #3B4455;\n",
       "      fill: #D2E3FC;\n",
       "    }\n",
       "\n",
       "    [theme=dark] .colab-df-convert:hover {\n",
       "      background-color: #434B5C;\n",
       "      box-shadow: 0px 1px 3px 1px rgba(0, 0, 0, 0.15);\n",
       "      filter: drop-shadow(0px 1px 2px rgba(0, 0, 0, 0.3));\n",
       "      fill: #FFFFFF;\n",
       "    }\n",
       "  </style>\n",
       "\n",
       "    <script>\n",
       "      const buttonEl =\n",
       "        document.querySelector('#df-a3d1df3b-53c0-4d78-aa48-4834d9b1b41a button.colab-df-convert');\n",
       "      buttonEl.style.display =\n",
       "        google.colab.kernel.accessAllowed ? 'block' : 'none';\n",
       "\n",
       "      async function convertToInteractive(key) {\n",
       "        const element = document.querySelector('#df-a3d1df3b-53c0-4d78-aa48-4834d9b1b41a');\n",
       "        const dataTable =\n",
       "          await google.colab.kernel.invokeFunction('convertToInteractive',\n",
       "                                                    [key], {});\n",
       "        if (!dataTable) return;\n",
       "\n",
       "        const docLinkHtml = 'Like what you see? Visit the ' +\n",
       "          '<a target=\"_blank\" href=https://colab.research.google.com/notebooks/data_table.ipynb>data table notebook</a>'\n",
       "          + ' to learn more about interactive tables.';\n",
       "        element.innerHTML = '';\n",
       "        dataTable['output_type'] = 'display_data';\n",
       "        await google.colab.output.renderOutput(dataTable, element);\n",
       "        const docLink = document.createElement('div');\n",
       "        docLink.innerHTML = docLinkHtml;\n",
       "        element.appendChild(docLink);\n",
       "      }\n",
       "    </script>\n",
       "  </div>\n",
       "\n",
       "\n",
       "<div id=\"df-221e9849-481f-4711-a1dc-77138a6f13cd\">\n",
       "  <button class=\"colab-df-quickchart\" onclick=\"quickchart('df-221e9849-481f-4711-a1dc-77138a6f13cd')\"\n",
       "            title=\"Suggest charts\"\n",
       "            style=\"display:none;\">\n",
       "\n",
       "<svg xmlns=\"http://www.w3.org/2000/svg\" height=\"24px\"viewBox=\"0 0 24 24\"\n",
       "     width=\"24px\">\n",
       "    <g>\n",
       "        <path d=\"M19 3H5c-1.1 0-2 .9-2 2v14c0 1.1.9 2 2 2h14c1.1 0 2-.9 2-2V5c0-1.1-.9-2-2-2zM9 17H7v-7h2v7zm4 0h-2V7h2v10zm4 0h-2v-4h2v4z\"/>\n",
       "    </g>\n",
       "</svg>\n",
       "  </button>\n",
       "\n",
       "<style>\n",
       "  .colab-df-quickchart {\n",
       "      --bg-color: #E8F0FE;\n",
       "      --fill-color: #1967D2;\n",
       "      --hover-bg-color: #E2EBFA;\n",
       "      --hover-fill-color: #174EA6;\n",
       "      --disabled-fill-color: #AAA;\n",
       "      --disabled-bg-color: #DDD;\n",
       "  }\n",
       "\n",
       "  [theme=dark] .colab-df-quickchart {\n",
       "      --bg-color: #3B4455;\n",
       "      --fill-color: #D2E3FC;\n",
       "      --hover-bg-color: #434B5C;\n",
       "      --hover-fill-color: #FFFFFF;\n",
       "      --disabled-bg-color: #3B4455;\n",
       "      --disabled-fill-color: #666;\n",
       "  }\n",
       "\n",
       "  .colab-df-quickchart {\n",
       "    background-color: var(--bg-color);\n",
       "    border: none;\n",
       "    border-radius: 50%;\n",
       "    cursor: pointer;\n",
       "    display: none;\n",
       "    fill: var(--fill-color);\n",
       "    height: 32px;\n",
       "    padding: 0;\n",
       "    width: 32px;\n",
       "  }\n",
       "\n",
       "  .colab-df-quickchart:hover {\n",
       "    background-color: var(--hover-bg-color);\n",
       "    box-shadow: 0 1px 2px rgba(60, 64, 67, 0.3), 0 1px 3px 1px rgba(60, 64, 67, 0.15);\n",
       "    fill: var(--button-hover-fill-color);\n",
       "  }\n",
       "\n",
       "  .colab-df-quickchart-complete:disabled,\n",
       "  .colab-df-quickchart-complete:disabled:hover {\n",
       "    background-color: var(--disabled-bg-color);\n",
       "    fill: var(--disabled-fill-color);\n",
       "    box-shadow: none;\n",
       "  }\n",
       "\n",
       "  .colab-df-spinner {\n",
       "    border: 2px solid var(--fill-color);\n",
       "    border-color: transparent;\n",
       "    border-bottom-color: var(--fill-color);\n",
       "    animation:\n",
       "      spin 1s steps(1) infinite;\n",
       "  }\n",
       "\n",
       "  @keyframes spin {\n",
       "    0% {\n",
       "      border-color: transparent;\n",
       "      border-bottom-color: var(--fill-color);\n",
       "      border-left-color: var(--fill-color);\n",
       "    }\n",
       "    20% {\n",
       "      border-color: transparent;\n",
       "      border-left-color: var(--fill-color);\n",
       "      border-top-color: var(--fill-color);\n",
       "    }\n",
       "    30% {\n",
       "      border-color: transparent;\n",
       "      border-left-color: var(--fill-color);\n",
       "      border-top-color: var(--fill-color);\n",
       "      border-right-color: var(--fill-color);\n",
       "    }\n",
       "    40% {\n",
       "      border-color: transparent;\n",
       "      border-right-color: var(--fill-color);\n",
       "      border-top-color: var(--fill-color);\n",
       "    }\n",
       "    60% {\n",
       "      border-color: transparent;\n",
       "      border-right-color: var(--fill-color);\n",
       "    }\n",
       "    80% {\n",
       "      border-color: transparent;\n",
       "      border-right-color: var(--fill-color);\n",
       "      border-bottom-color: var(--fill-color);\n",
       "    }\n",
       "    90% {\n",
       "      border-color: transparent;\n",
       "      border-bottom-color: var(--fill-color);\n",
       "    }\n",
       "  }\n",
       "</style>\n",
       "\n",
       "  <script>\n",
       "    async function quickchart(key) {\n",
       "      const quickchartButtonEl =\n",
       "        document.querySelector('#' + key + ' button');\n",
       "      quickchartButtonEl.disabled = true;  // To prevent multiple clicks.\n",
       "      quickchartButtonEl.classList.add('colab-df-spinner');\n",
       "      try {\n",
       "        const charts = await google.colab.kernel.invokeFunction(\n",
       "            'suggestCharts', [key], {});\n",
       "      } catch (error) {\n",
       "        console.error('Error during call to suggestCharts:', error);\n",
       "      }\n",
       "      quickchartButtonEl.classList.remove('colab-df-spinner');\n",
       "      quickchartButtonEl.classList.add('colab-df-quickchart-complete');\n",
       "    }\n",
       "    (() => {\n",
       "      let quickchartButtonEl =\n",
       "        document.querySelector('#df-221e9849-481f-4711-a1dc-77138a6f13cd button');\n",
       "      quickchartButtonEl.style.display =\n",
       "        google.colab.kernel.accessAllowed ? 'block' : 'none';\n",
       "    })();\n",
       "  </script>\n",
       "</div>\n",
       "\n",
       "    </div>\n",
       "  </div>\n"
      ],
      "application/vnd.google.colaboratory.intrinsic+json": {
       "type": "dataframe",
       "variable_name": "news_data",
       "summary": "{\n  \"name\": \"news_data\",\n  \"rows\": 58432,\n  \"fields\": [\n    {\n      \"column\": \"article_id\",\n      \"properties\": {\n        \"dtype\": \"number\",\n        \"std\": 216012,\n        \"min\": 418,\n        \"max\": 781308,\n        \"num_unique_values\": 54889,\n        \"samples\": [\n          161163,\n          691599,\n          519463\n        ],\n        \"semantic_type\": \"\",\n        \"description\": \"\"\n      }\n    },\n    {\n      \"column\": \"source_id\",\n      \"properties\": {\n        \"dtype\": \"category\",\n        \"num_unique_values\": 29,\n        \"samples\": [\n          \"etf-daily-news\",\n          \"gizmodo.com\",\n          \"npr\"\n        ],\n        \"semantic_type\": \"\",\n        \"description\": \"\"\n      }\n    },\n    {\n      \"column\": \"source_name\",\n      \"properties\": {\n        \"dtype\": \"category\",\n        \"num_unique_values\": 29,\n        \"samples\": [\n          \"ETF Daily News\",\n          \"Gizmodo.com\",\n          \"NPR\"\n        ],\n        \"semantic_type\": \"\",\n        \"description\": \"\"\n      }\n    },\n    {\n      \"column\": \"author\",\n      \"properties\": {\n        \"dtype\": \"category\",\n        \"num_unique_values\": 7581,\n        \"samples\": [\n          \"Thomas Germain\",\n          \"Tim Casey, Senior Contributor, \\n Tim Casey, Senior Contributor\\n https://www.forbes.com/sites/timcasey/\",\n          \"Times Of India\"\n        ],\n        \"semantic_type\": \"\",\n        \"description\": \"\"\n      }\n    },\n    {\n      \"column\": \"title\",\n      \"properties\": {\n        \"dtype\": \"string\",\n        \"num_unique_values\": 53536,\n        \"samples\": [\n          \"Some student-loan borrowers with private debt are being forced to make payments they don't owe, a federal watchdog says\",\n          \"Metropolitan Life Insurance Co NY Sells 572 Shares of Public Service Enterprise Group Incorporated (NYSE:PEG)\",\n          \"Corteva (NYSE:CTVA) Lowered to Equal Weight at Barclays\"\n        ],\n        \"semantic_type\": \"\",\n        \"description\": \"\"\n      }\n    },\n    {\n      \"column\": \"description\",\n      \"properties\": {\n        \"dtype\": \"string\",\n        \"num_unique_values\": 53351,\n        \"samples\": [\n          \"AGF Management Ltd. lifted its stake in shares of Morgan Stanley (NYSE:MS \\u2013 Free Report) by 112.5% during the second quarter, according to the company in its most recent filing with the Securities & Exchange Commission. The institutional investor owned 363,18\\u2026\",\n          \"There's new information about the recent Bungie layoffs and the health of Destiny 2 headed into The Final Shape next year.\",\n          \"Machina Capital S.A.S. boosted its holdings in WillScot Mobile Mini Holdings Corp. (NASDAQ:WSC \\u2013 Free Report) by 89.5% in the second quarter, according to the company in its most recent Form 13F filing with the Securities and Exchange Commission. The institut\\u2026\"\n        ],\n        \"semantic_type\": \"\",\n        \"description\": \"\"\n      }\n    },\n    {\n      \"column\": \"url\",\n      \"properties\": {\n        \"dtype\": \"string\",\n        \"num_unique_values\": 54889,\n        \"samples\": [\n          \"https://www.etfdailynews.com/2023/11/05/analysts-set-pioneer-natural-resources-nysepxd-target-price-at-259-82/\",\n          \"https://economictimes.indiatimes.com/news/india/coal-based-power-plants-aggravating-air-pollution-in-delhi-ncr-report/articleshow/105506708.cms\",\n          \"https://www.globenewswire.com/news-release/2023/11/20/2783129/0/en/Yerba%C3%A9-Announces-Pricing-of-Private-Placement-of-Special-Warrants.html\"\n        ],\n        \"semantic_type\": \"\",\n        \"description\": \"\"\n      }\n    },\n    {\n      \"column\": \"url_to_image\",\n      \"properties\": {\n        \"dtype\": \"string\",\n        \"num_unique_values\": 34963,\n        \"samples\": [\n          \"https://imageio.forbes.com/specials-images/imageserve/652eb17a5768ad52aaa75e8c/0x0.jpg?format=jpg&height=900&width=1600&fit=bounds\",\n          \"https://www.digitaltrends.com/wp-content/uploads/2022/12/Keurig-coffee-maker-K-Mini-on-a-kitchen-counter-with-lemon-colored-cup-and-bowls.jpg?resize=1200%2C630&p=1\",\n          \"https://i.insider.com/653827a10487ff031cad39a8?width=1200&format=jpeg\"\n        ],\n        \"semantic_type\": \"\",\n        \"description\": \"\"\n      }\n    },\n    {\n      \"column\": \"published_at\",\n      \"properties\": {\n        \"dtype\": \"string\",\n        \"num_unique_values\": 41595,\n        \"samples\": [\n          \"2023-10-31 13:18:48.000000\",\n          \"2023-10-29 11:22:48.000000\",\n          \"2023-10-30 20:49:10.000000\"\n        ],\n        \"semantic_type\": \"\",\n        \"description\": \"\"\n      }\n    },\n    {\n      \"column\": \"content\",\n      \"properties\": {\n        \"dtype\": \"string\",\n        \"num_unique_values\": 52352,\n        \"samples\": [\n          \"Cibc World Markets Corp bought a new position in Blue Owl Capital Inc. (NYSE:OWL \\u2013 Free Report) in the second quarter, according to its most recent disclosure with the Securities and Exchange Commiss\\u2026 [+4310 chars]\",\n          \"WASHINGTON: A Dutchman who was the prime suspect in the 2005 disappearance of Natalee Holloway, an American woman vacationing in Aruba, has confessed to her murder, prosecutors and the victim's famil\\u2026 [+1927 chars]\",\n          \"Canada Pension Plan Investment Board boosted its stake in shares of Comcast Co. (NASDAQ:CMCSA \\u2013 Free Report) by 10.4% in the second quarter, HoldingsChannel reports. The firm owned 3,462,007 shares o\\u2026 [+5501 chars]\"\n        ],\n        \"semantic_type\": \"\",\n        \"description\": \"\"\n      }\n    },\n    {\n      \"column\": \"category\",\n      \"properties\": {\n        \"dtype\": \"category\",\n        \"num_unique_values\": 257,\n        \"samples\": [\n          \"Barbados\",\n          \"Algeria\",\n          \"Rwanda\"\n        ],\n        \"semantic_type\": \"\",\n        \"description\": \"\"\n      }\n    },\n    {\n      \"column\": \"full_content\",\n      \"properties\": {\n        \"dtype\": \"string\",\n        \"num_unique_values\": 54143,\n        \"samples\": [\n          \"Ukraine celebrated its first spectacular use of US-supplied ATACMS with a Neil Diamond song. Ukraine confirmed the news that the missiles had been deployed on Tuesday in a whimsical video posted by The Ukrainian Centre for Strategic Communications, accompanied by the voice of Neil Diamond singing his hit, \\\"Hello Again.\\\" \\\"It's good to need you so,\\\" sings Diamond in the romantic song over a montage of the ATACMS arriving in Ukraine and being fired. The video's message declares, \\\"They say good things come to those who wait. Buddy, they ain't kidding.\\\" It signs off the video with images of Russian helicopters silhouetted by flames and explosions, saying, \\\"Thank you, America.\\\" Britain's defense ministry said in a Fridayintelligence updatethat it is \\\"likely\\\" nine helicopters were destroyed at Berdyansk alone, alongside five more in Luhansk. Beyond the short-term win, it also may leavelasting damage on Russia's airpower,wrote Insider's Jake Epstein. TheMGM-140 Army Tactical Missile System is a tactical ballistic missilemanufactured by Lockheed Martin, a US defense company. The US discreetly delivered a limited number of long-range ballistic missiles to support the war-torn nation's defense efforts. Ukrainian President Volodymyr Zelenskyy confirmed this development in an evening address, thanking the US for the continued military support. Zelenskyy said the missiles had already been used on the battlefield and were executed \\\"very accurately,\\\" per AP. The covert delivery of these missiles follows a promise made by President Joe Biden last month. The high-precision missiles are seen as a game changer in the ongoing conflict, giving Ukrainian forces a critical edge and the ability to strike Russian targets at a considerable distance while keeping their troops safe, AP reports. Though the US government chose to keep the delivery under wraps, officials familiar with the operation confirmed it. Fewer than a dozen missiles were successfully transported to Ukraine within the past few days, per AP. The arrival of these advanced munitions on the war front will empower Ukrainian forces to engage Russian targets that were previously out of their reach. Insider's Jake Epstein reported thatUkraine struck Russian airfields and took out enemy helicopters with their new ATACMS. On Tuesday, Ukrainian forces launched attacks that damaged Russian airfields located well behind the frontline. A source familiar with the matter told Insider that the strikes involved the use of ATACMS. According to Ukraine's defense ministry, the attacks targeted airfields in Berdyansk and Luhansk, which are situated in Russian-occupied territory. Ukraine also posted avideo of ATACMS being fired at Russians on Telegram. The Pentagon responded to a request for comment from Insider but did not confirm the reporting on ATACMS. Foreign Minister Dmytro Kuleba said Ukraine is set to getmore ATACMS that have a range of about 190 miles.\",\n          \"ANI Karnataka\\u2019s new AVGC - XR Policy 3.0 (2023-28), unveiled on Wednesday, aims to add 30,000 high-quality jobs in five years. The policy seeks to foster growth of animation, visual effects, gaming, comics and extended reality sectors, and see that the sector earns four-fifths of its revenue from exports. Over the next five years, the government will set up an AVGC Venture Fund (Kitven AVGC Fund-4) to lend financial support to the AVGC firms.  Elevate Your Tech Prowess with High-Value Skill Courses Offering College Course Website IIM Kozhikode IIMK Advanced Data Science For Managers Visit Northwestern University Kellogg Post Graduate Certificate in Product Management Visit Indian School of Business ISB Digital Transformation Visit The policy moots a tiered incentives system based on contributions to sustainability and innovation. The policy also offers financial support like reimbursement for skill development and  job creation , early-stage startup support with cost coverage for marketing, infrastructure, and compliance; grants for production of animation films, series, VR/AR/VFX projects, and game development; And, R&D incentives for technological innovation. IT/BT Minister  Priyank Kharge  said Karnataka was the only state to launch its third edition of the AVGC policy. \\u201cThe AVGC-XR Policy is a landmark initiative to establish Karnataka as a powerhouse in the fields of Animation, Visual Effects, Gaming, and Comics, further enhancing our state's reputation as a hub of technological innovation and economic development.\\u201d The policy, the minister added, was rooted in the principles of sustainability and inclusivity. \\u201cSpecial emphasis has been placed on incentivizing  startups , MSMEs and SC/ST & Women Entrepreneurs in the AVGC-XR arena, with dedicated funds and support programs designed to nurture early-stage ventures and drive entrepreneurial success in Karnataka.\\u201d Discover the stories of your interest Blockchain 5 Stories Cyber-safety 7 Stories Fintech 9 Stories E-comm 9 Stories ML 8 Stories Edtech 6 Stories The policy's comprehensive approach, combining skill development, infrastructure enhancement, financial incentives, and focus on sustainability and inclusivity, lays a solid foundation for the sustained growth and global prominence of Karnataka's AVGC-XR industry, the policy draft said. Experience Your Economic Times Newspaper, The Digital Way! Thursday, 30 Nov, 2023 Read Complete ePaper \\u00a0\\u00bb Digital View Print View Wealth Edition Nifty Reclaims Mt 20k India\\u2019s stock benchmarks rose more than 1% on Wednesday with the Nifty closing above 20,000 for the first time since September 13 as receding concerns over further rate hikes in the US revived risk-on sentiment. ED Flags Failure to Submit Papers, Delays by Byju\\u2019s The Directorate of Enforcement (ED) has alleged a slew of violations under the foreign exchange law, including failure to submit crucial documents in time as well as realize export proceeds, by Byju\\u2019s parent Think & Learn, apart from holding founder Byju Raveendran responsible. HCL Inching Close to Chip Unit in K\\u2019taka The HCL Group is moving closer to setting up an Outsourced Semiconductor Assembly and Test (OSAT) facility \\u2014 also termed as a chip packaging unit \\u2014 in Karnataka, multiple people aware of the developments told ET.  Read More News on karnataka tech summit tech summit startups priyank kharge job creation Stay on top of  technology  and  startup news  that matters.  Subscribe  to our daily newsletter for the latest and must-read tech news, delivered straight to your inbox. ... more less Prime Exclusives Investment Ideas Stock Report Plus ePaper Wealth Edition Four signals from the OpenAI mess that the government, big tech, and you cannot ignore. Light at the end of the tunnel: Higher plant utilisation sending a current through power stocks How COP28 is set to facilitate syncing of corporate India\\u2019s green journey and business trajectory. Wings or Sting? Energy drinks market heats up as Red Bull, PepsiCo jostle to grab a cool share. 3 insights to kick-start your day, featuring Amazon\\u2019s India journey Stock Radar: IEX has given breakout from a descending triangle pattern; where is the stock headed? 1 2 3 View all Stories\",\n          \"A British aid worker who spent nine months being held in Afghanistan has told the BBC that at one point he thought he \\\"wasn't going home\\\". It comes as Mrs Cornwell,  from Fleetwood, Lancashire, graduated from the University of Cumbria after completing her mental health nursing degree. Mr Cornwell had been working for the UN Refugee Agency when he was detained for allegedly breaking the country's laws in January. Mrs Cornwell, despite being told not to talk to the media, chose to speak out in a bid to put pressure on the government to have her husband freed. Mr Cornwell had only six phone calls while detained, and was able to speak with his wife and the UK Foreign Office (FCDO). Mr Cornwell, whose health suffered, also developed kidney stones and will have an operation in December. Follow BBC Cumbria on\\u00a0Twitter, external,\\u00a0Facebook, external\\u00a0and\\u00a0Instagram, external. Send your story ideas to\\u00a0northeastandcumbria@bbc.co.uk, external. \"\n        ],\n        \"semantic_type\": \"\",\n        \"description\": \"\"\n      }\n    },\n    {\n      \"column\": \"sentiment\",\n      \"properties\": {\n        \"dtype\": \"number\",\n        \"std\": 0.1883596216591019,\n        \"min\": -1.0,\n        \"max\": 1.0,\n        \"num_unique_values\": 3815,\n        \"samples\": [\n          -0.012500000000000011,\n          0.49375,\n          -0.14500000000000002\n        ],\n        \"semantic_type\": \"\",\n        \"description\": \"\"\n      }\n    },\n    {\n      \"column\": \"positive_sentiment\",\n      \"properties\": {\n        \"dtype\": \"number\",\n        \"std\": 0,\n        \"min\": 0,\n        \"max\": 1,\n        \"num_unique_values\": 2,\n        \"samples\": [\n          1,\n          0\n        ],\n        \"semantic_type\": \"\",\n        \"description\": \"\"\n      }\n    },\n    {\n      \"column\": \"neutral_sentiment\",\n      \"properties\": {\n        \"dtype\": \"number\",\n        \"std\": 0,\n        \"min\": 0,\n        \"max\": 1,\n        \"num_unique_values\": 2,\n        \"samples\": [\n          0,\n          1\n        ],\n        \"semantic_type\": \"\",\n        \"description\": \"\"\n      }\n    },\n    {\n      \"column\": \"negative_sentiment\",\n      \"properties\": {\n        \"dtype\": \"number\",\n        \"std\": 0,\n        \"min\": 0,\n        \"max\": 1,\n        \"num_unique_values\": 2,\n        \"samples\": [\n          1,\n          0\n        ],\n        \"semantic_type\": \"\",\n        \"description\": \"\"\n      }\n    }\n  ]\n}"
      }
     },
     "metadata": {},
     "execution_count": 188
    }
   ]
  },
  {
   "cell_type": "code",
   "source": [
    "# Calculate sentiment statistics\n",
    "sentiment_stats = sentiment_statistics(news_data)\n",
    "\n",
    "# Sort the DataFrame by mean sentiment and get the top 10 and bottom 10 websites\n",
    "top_10_websites = sentiment_stats.sort_values(by='mean_sentiment', ascending=False).head(10)\n",
    "bottom_10_websites = sentiment_stats.sort_values(by='mean_sentiment', ascending=True).head(10)\n",
    "\n",
    "# Print the top 10 and bottom 10 websites\n",
    "print(\"Top 10 websites by mean sentiment:\")\n",
    "print(top_10_websites)\n",
    "print(\"\\nBottom 10 websites by mean sentiment:\")\n",
    "print(bottom_10_websites)"
   ],
   "metadata": {
    "colab": {
     "base_uri": "https://localhost:8080/"
    },
    "id": "_LLEL9oBMWGa",
    "outputId": "11a5f9d4-ed9d-459f-e23a-90dd5d587c18"
   },
   "execution_count": 186,
   "outputs": [
    {
     "output_type": "stream",
     "name": "stdout",
     "text": [
      "Top 10 websites by mean sentiment:\n",
      "                    mean_sentiment  median_sentiment  variance_sentiment  \\\n",
      "source_name                                                                \n",
      "ETF Daily News            0.192516          0.200000            0.011449   \n",
      "Digital Trends            0.181484          0.166667            0.045147   \n",
      "Android Central           0.169485          0.133333            0.044537   \n",
      "Wired                     0.114004          0.100000            0.056520   \n",
      "The Verge                 0.110896          0.068182            0.048206   \n",
      "The Times of India        0.099240          0.025000            0.053145   \n",
      "Forbes                    0.099031          0.056061            0.048592   \n",
      "Deadline                  0.098598          0.050000            0.035788   \n",
      "Gizmodo.com               0.096349          0.064782            0.034850   \n",
      "Euronews                  0.094749          0.045455            0.043854   \n",
      "\n",
      "                    positive_sentiment  neutral_sentiment  negative_sentiment  \n",
      "source_name                                                                    \n",
      "ETF Daily News                   16145                323                 163  \n",
      "Digital Trends                     608                 54                 125  \n",
      "Android Central                    375                 86                  62  \n",
      "Wired                              165                 35                  68  \n",
      "The Verge                          127                 55                  32  \n",
      "The Times of India                3950               2149                1480  \n",
      "Forbes                            1565                641                 561  \n",
      "Deadline                           530                244                 153  \n",
      "Gizmodo.com                        244                 60                  78  \n",
      "Euronews                           165                 54                  72  \n",
      "\n",
      "Bottom 10 websites by mean sentiment:\n",
      "                              mean_sentiment  median_sentiment  \\\n",
      "source_name                                                      \n",
      "RT                                  0.026044          0.000000   \n",
      "Globalsecurity.org                  0.033892          0.000000   \n",
      "BBC News                            0.037578          0.000000   \n",
      "Al Jazeera English                  0.039921          0.000000   \n",
      "Business Insider                    0.043224          0.000000   \n",
      "AllAfrica - Top Africa News         0.044007          0.000000   \n",
      "International Business Times        0.045693          0.000000   \n",
      "ABC News                            0.046896          0.000000   \n",
      "The Punch                           0.051415          0.000000   \n",
      "Time                                0.055081          0.010215   \n",
      "\n",
      "                              variance_sentiment  positive_sentiment  \\\n",
      "source_name                                                            \n",
      "RT                                      0.027827                 452   \n",
      "Globalsecurity.org                      0.038916                1052   \n",
      "BBC News                                0.043713                 999   \n",
      "Al Jazeera English                      0.034774                 700   \n",
      "Business Insider                        0.034142                 812   \n",
      "AllAfrica - Top Africa News             0.031372                   9   \n",
      "International Business Times            0.036001                 578   \n",
      "ABC News                                0.035010                1022   \n",
      "The Punch                               0.036175                 746   \n",
      "Time                                    0.042332                 304   \n",
      "\n",
      "                              neutral_sentiment  negative_sentiment  \n",
      "source_name                                                          \n",
      "RT                                          322                 350  \n",
      "Globalsecurity.org                         1199                 842  \n",
      "BBC News                                    460                 667  \n",
      "Al Jazeera English                          454                 488  \n",
      "Business Insider                            773                 443  \n",
      "AllAfrica - Top Africa News                   4                   6  \n",
      "International Business Times                270                 354  \n",
      "ABC News                                    479                 601  \n",
      "The Punch                                   650                 402  \n",
      "Time                                        119                 175  \n"
     ]
    }
   ]
  },
  {
   "cell_type": "markdown",
   "source": [
    "### Median sentiment, top and bottom 10"
   ],
   "metadata": {
    "id": "nzJv8SvyNLB7"
   }
  },
  {
   "cell_type": "code",
   "source": [
    "# Sort the DataFrame by median sentiment and get the top 10 and bottom 10 websites\n",
    "top_10_websites_median = sentiment_stats.sort_values(by='median_sentiment', ascending=False).head(10)\n",
    "bottom_10_websites_median = sentiment_stats.sort_values(by='median_sentiment', ascending=True).head(10)\n",
    "\n",
    "# Print the top 10 and bottom 10 websites by median sentiment\n",
    "print(\"\\nTop 10 websites by median sentiment:\")\n",
    "print(top_10_websites_median)\n",
    "print(\"\\nBottom 10 websites by median sentiment:\")\n",
    "print(bottom_10_websites_median)"
   ],
   "metadata": {
    "colab": {
     "base_uri": "https://localhost:8080/"
    },
    "id": "xcTrrawDMa9w",
    "outputId": "e85c1e40-14fe-4195-9250-f8b4fb7736bc"
   },
   "execution_count": 187,
   "outputs": [
    {
     "output_type": "stream",
     "name": "stdout",
     "text": [
      "\n",
      "Top 10 websites by median sentiment:\n",
      "                 mean_sentiment  median_sentiment  variance_sentiment  \\\n",
      "source_name                                                             \n",
      "ETF Daily News         0.192516          0.200000            0.011449   \n",
      "Digital Trends         0.181484          0.166667            0.045147   \n",
      "Android Central        0.169485          0.133333            0.044537   \n",
      "Wired                  0.114004          0.100000            0.056520   \n",
      "The Verge              0.110896          0.068182            0.048206   \n",
      "Boing Boing            0.094225          0.066667            0.056958   \n",
      "Gizmodo.com            0.096349          0.064782            0.034850   \n",
      "Forbes                 0.099031          0.056061            0.048592   \n",
      "ReadWrite              0.066033          0.050000            0.038543   \n",
      "Phys.Org               0.080538          0.050000            0.029850   \n",
      "\n",
      "                 positive_sentiment  neutral_sentiment  negative_sentiment  \n",
      "source_name                                                                 \n",
      "ETF Daily News                16145                323                 163  \n",
      "Digital Trends                  608                 54                 125  \n",
      "Android Central                 375                 86                  62  \n",
      "Wired                           165                 35                  68  \n",
      "The Verge                       127                 55                  32  \n",
      "Boing Boing                     433                109                 166  \n",
      "Gizmodo.com                     244                 60                  78  \n",
      "Forbes                         1565                641                 561  \n",
      "ReadWrite                       188                 51                  80  \n",
      "Phys.Org                        757                195                 301  \n",
      "\n",
      "Bottom 10 websites by median sentiment:\n",
      "                              mean_sentiment  median_sentiment  \\\n",
      "source_name                                                      \n",
      "ABC News                            0.046896               0.0   \n",
      "NPR                                 0.067513               0.0   \n",
      "Marketscreener.com                  0.060791               0.0   \n",
      "International Business Times        0.045693               0.0   \n",
      "GlobeNewswire                       0.068468               0.0   \n",
      "Globalsecurity.org                  0.033892               0.0   \n",
      "CNN                                 0.071763               0.0   \n",
      "RT                                  0.026044               0.0   \n",
      "Business Insider                    0.043224               0.0   \n",
      "The Punch                           0.051415               0.0   \n",
      "\n",
      "                              variance_sentiment  positive_sentiment  \\\n",
      "source_name                                                            \n",
      "ABC News                                0.035010                1022   \n",
      "NPR                                     0.041480                 456   \n",
      "Marketscreener.com                      0.025483                 631   \n",
      "International Business Times            0.036001                 578   \n",
      "GlobeNewswire                           0.026339                2388   \n",
      "Globalsecurity.org                      0.038916                1052   \n",
      "CNN                                     0.044865                 128   \n",
      "RT                                      0.027827                 452   \n",
      "Business Insider                        0.034142                 812   \n",
      "The Punch                               0.036175                 746   \n",
      "\n",
      "                              neutral_sentiment  negative_sentiment  \n",
      "source_name                                                          \n",
      "ABC News                                    479                 601  \n",
      "NPR                                         300                 224  \n",
      "Marketscreener.com                          584                 224  \n",
      "International Business Times                270                 354  \n",
      "GlobeNewswire                              2407                 685  \n",
      "Globalsecurity.org                         1199                 842  \n",
      "CNN                                          68                  66  \n",
      "RT                                          322                 350  \n",
      "Business Insider                            773                 443  \n",
      "The Punch                                   650                 402  \n"
     ]
    }
   ]
  },
  {
   "cell_type": "markdown",
   "source": [
    "# Compare metadata across sites"
   ],
   "metadata": {
    "id": "w_hycXZlN6O2"
   }
  },
  {
   "cell_type": "markdown",
   "source": [
    "## Compare similarity of raw message length across sites and their distribution\n",
    "\n"
   ],
   "metadata": {
    "id": "WizJEHF78nG5"
   }
  },
  {
   "cell_type": "code",
   "source": [
    "def calculate_message_length(news_data):\n",
    "    \"\"\"Calculate the length of raw messages for each article\"\"\"\n",
    "    news_data['message_length'] = news_data['content'].apply(len)\n",
    "    return news_data"
   ],
   "metadata": {
    "id": "NR-Imij_NI8R"
   },
   "execution_count": 232,
   "outputs": []
  },
  {
   "cell_type": "code",
   "source": [
    "# Calculate message length and title word count\n",
    "news_data = calculate_message_length(news_data)\n",
    "news_data = calculate_title_word_count(news_data)\n",
    "\n",
    "# Group by 'source_name' and calculate descriptive statistics for message length\n",
    "message_length_stats = news_data.groupby('source_name')['message_length'].describe()\n",
    "\n",
    "# Print the descriptive statistics\n",
    "print(\"Message length statistics:\")\n",
    "print(message_length_stats)"
   ],
   "metadata": {
    "id": "BZ0HenIVN_fl"
   },
   "execution_count": null,
   "outputs": []
  },
  {
   "cell_type": "markdown",
   "source": [
    "## Compare similarity of number of words in the title across sites and their distribution"
   ],
   "metadata": {
    "id": "8FVQF-f-9Eqz"
   }
  },
  {
   "cell_type": "code",
   "source": [
    "\n",
    "def calculate_title_word_count(news_data):\n",
    "    \"\"\"Calculate the number of words in the title for each article\"\"\"\n",
    "    news_data['title_word_count'] = news_data['title'].apply(lambda x: len(str(x).split()))\n",
    "    return news_data"
   ],
   "metadata": {
    "id": "wrtAf0lU9D9C"
   },
   "execution_count": 233,
   "outputs": []
  },
  {
   "cell_type": "code",
   "source": [
    "# Group by 'source_name' and calculate descriptive statistics title word count\n",
    "title_word_count_stats = news_data.groupby('source_name')['title_word_count'].describe()"
   ],
   "metadata": {
    "id": "63mnbaxF83gt"
   },
   "execution_count": 234,
   "outputs": []
  },
  {
   "cell_type": "code",
   "source": [
    "# Print the descriptive statistics\n",
    "print(\"\\nTitle word count statistics:\")\n",
    "print(title_word_count_stats)"
   ],
   "metadata": {
    "id": "xuIYxapd81B_",
    "outputId": "8272fe70-81b6-48e7-a251-750f434765f3",
    "colab": {
     "base_uri": "https://localhost:8080/"
    }
   },
   "execution_count": 235,
   "outputs": [
    {
     "output_type": "stream",
     "name": "stdout",
     "text": [
      "\n",
      "Title word count statistics:\n",
      "                                count       mean       std  min   25%   50%  \\\n",
      "source_name                                                                   \n",
      "ABC News                       2006.0  13.468594  2.619848  1.0  12.0  13.5   \n",
      "Al Jazeera English             1588.0  10.155542  1.875552  2.0   9.0  10.0   \n",
      "AllAfrica - Top Africa News      18.0  10.055556  2.071437  7.0   9.0  10.0   \n",
      "Android Central                 519.0  12.256262  2.912136  4.0  10.0  12.0   \n",
      "BBC News                       2039.0   9.330554  1.769495  3.0   8.0   9.0   \n",
      "Boing Boing                     696.0  12.149425  4.033040  3.0   9.0  12.0   \n",
      "Business Insider               1979.0  17.974735  5.189276  2.0  15.0  18.0   \n",
      "CNA                             710.0  10.914085  2.653937  5.0   9.0  11.0   \n",
      "CNN                             256.0  13.191406  3.707767  3.0  11.0  13.0   \n",
      "Deadline                        896.0  15.530134  4.976053  6.0  12.0  15.0   \n",
      "Digital Trends                  770.0  10.867532  2.130492  3.0  10.0  11.0   \n",
      "ETF Daily News                15039.0  10.754638  2.431569  5.0   9.0  11.0   \n",
      "Euronews                        291.0  11.642612  2.656697  4.0  10.0  12.0   \n",
      "Forbes                         2577.0  10.315483  2.739641  2.0   9.0  10.0   \n",
      "Gizmodo.com                     380.0  10.473684  2.433678  5.0   9.0  10.0   \n",
      "Globalsecurity.org             2904.0  12.132920  4.999163  2.0   9.0  11.0   \n",
      "GlobeNewswire                  5122.0  15.377392  6.209288  1.0  11.0  15.0   \n",
      "International Business Times   1155.0   9.685714  2.242823  4.0   8.0   9.0   \n",
      "Marketscreener.com             1439.0  11.380125  4.844672  2.0   8.0  10.0   \n",
      "NPR                             944.0  11.786017  2.922247  2.0  10.0  12.0   \n",
      "Phys.Org                       1238.0  11.290792  3.207121  3.0   9.0  11.0   \n",
      "RT                             1088.0   8.549632  2.363732  4.0   7.0   8.0   \n",
      "ReadWrite                       315.0   8.958730  2.019383  5.0   8.0   9.0   \n",
      "The Indian Express             1116.0  14.078853  4.164882  3.0  11.0  14.0   \n",
      "The Punch                      1750.0   8.200000  1.932834  2.0   7.0   8.0   \n",
      "The Times of India             7012.0  11.830719  3.432668  2.0   9.0  11.0   \n",
      "The Verge                       205.0  10.951220  2.903271  4.0   9.0  11.0   \n",
      "Time                            579.0  11.158895  2.808595  3.0   9.0  11.0   \n",
      "Wired                           258.0   9.891473  2.309649  4.0   8.0  10.0   \n",
      "\n",
      "                                75%   max  \n",
      "source_name                                \n",
      "ABC News                      15.00  21.0  \n",
      "Al Jazeera English            11.00  16.0  \n",
      "AllAfrica - Top Africa News   11.75  13.0  \n",
      "Android Central               14.00  22.0  \n",
      "BBC News                      10.00  16.0  \n",
      "Boing Boing                   15.00  28.0  \n",
      "Business Insider              21.00  35.0  \n",
      "CNA                           12.00  23.0  \n",
      "CNN                           16.00  33.0  \n",
      "Deadline                      19.00  37.0  \n",
      "Digital Trends                12.00  19.0  \n",
      "ETF Daily News                12.00  27.0  \n",
      "Euronews                      14.00  19.0  \n",
      "Forbes                        12.00  27.0  \n",
      "Gizmodo.com                   12.00  18.0  \n",
      "Globalsecurity.org            14.00  53.0  \n",
      "GlobeNewswire                 19.00  42.0  \n",
      "International Business Times  11.00  20.0  \n",
      "Marketscreener.com            13.00  39.0  \n",
      "NPR                           14.00  19.0  \n",
      "Phys.Org                      13.75  21.0  \n",
      "RT                            10.00  22.0  \n",
      "ReadWrite                     10.00  17.0  \n",
      "The Indian Express            17.00  30.0  \n",
      "The Punch                      9.00  20.0  \n",
      "The Times of India            14.00  30.0  \n",
      "The Verge                     13.00  20.0  \n",
      "Time                          13.00  21.0  \n",
      "Wired                         11.00  17.0  \n"
     ]
    }
   ]
  },
  {
   "cell_type": "markdown",
   "source": [
    "#### Manually create dictionary mapping for news websites with source names to their domains"
   ],
   "metadata": {
    "id": "k5VBz1i_7Zdj"
   }
  },
  {
   "cell_type": "code",
   "source": [
    "# Manually create a dictionary mapping source names to their domains\n",
    "source_domain_mapping = {\n",
    "    'ETF Daily News': 'etfdailynews.com',\n",
    "    'The Times of India': 'timesofindia.indiatimes.com',\n",
    "    'GlobeNewswire': 'globenewswire.com',\n",
    "    'Globalsecurity.org': 'globalsecurity.org',\n",
    "    'Forbes': 'forbes.com',\n",
    "    'BBC News': 'bbc.co.uk',\n",
    "    'ABC News': 'abcnews.go.com',\n",
    "    'Business Insider': 'businessinsider.com',\n",
    "    'The Punch': 'punchng.com',\n",
    "    'Al Jazeera English': 'aljazeera.com',\n",
    "    'Marketscreener.com': 'marketscreener.com',\n",
    "    'Phys.Org': 'phys.org',\n",
    "    'International Business Times': 'ibtimes.com',\n",
    "    'The Indian Express': 'indianexpress.com',\n",
    "    'RT': 'rt.com',\n",
    "    'NPR': 'npr.org',\n",
    "    'Deadline': 'deadline.com',\n",
    "    'Digital Trends': 'digitaltrends.com',\n",
    "    'CNA': 'channelnewsasia.com',\n",
    "    'Boing Boing': 'boingboing.net',\n",
    "    'Time': 'time.com',\n",
    "    'Android Central': 'androidcentral.com',\n",
    "    'Gizmodo.com': 'gizmodo.com',\n",
    "    'ReadWrite': 'readwrite.com',\n",
    "    'Euronews': 'euronews.com',\n",
    "    'Wired': 'wired.com',\n",
    "    'CNN': 'cnn.com',\n",
    "    'The Verge': 'theverge.com',\n",
    "    'AllAfrica - Top Africa News': 'allafrica.com'\n",
    "}"
   ],
   "metadata": {
    "id": "RPv0gs4w1i8X"
   },
   "execution_count": 228,
   "outputs": []
  },
  {
   "cell_type": "code",
   "source": [
    "# Add a new column 'url' to the DataFrame\n",
    "news_data['url'] = news_data['source_name'].map(source_domain_mapping)"
   ],
   "metadata": {
    "id": "uCGs56dLvmeF"
   },
   "execution_count": 229,
   "outputs": []
  },
  {
   "cell_type": "code",
   "source": [
    "import matplotlib.pyplot as plt\n",
    "import seaborn as sns\n",
    "\n",
    "# Step 1: Calculate total number of reports by each website\n",
    "total_reports = news_data['source_name'].value_counts().reset_index()\n",
    "total_reports.columns = ['source_name', 'total_reports']\n",
    "\n",
    "# Step 2: Add a new column 'url' to the DataFrame\n",
    "total_reports['url'] = total_reports['source_name'].map(source_domain_mapping)"
   ],
   "metadata": {
    "id": "Zr2lApMrw4Gx"
   },
   "execution_count": 230,
   "outputs": []
  },
  {
   "cell_type": "markdown",
   "source": [
    "# Impact of frequent news reporting and sentiment to the website’s global ranking. 2D Scatter plot graph"
   ],
   "metadata": {
    "id": "Ns39cKKd4AtE"
   }
  },
  {
   "cell_type": "code",
   "source": [
    "import matplotlib.pyplot as plt\n",
    "import seaborn as sns\n",
    "\n",
    "# Merge total_reports with traffic_data on 'url'\n",
    "merged_data = pd.merge(total_reports, traffic_data, left_on='url', right_on='Domain')\n",
    "\n",
    "# Merge merged_data with sentiment_stats on 'source_name'\n",
    "final_data = pd.merge(merged_data, sentiment_stats, on='source_name')\n",
    "\n",
    "# Create a scatter plot\n",
    "plt.figure(figsize=(10, 8))\n",
    "scatter = sns.scatterplot(data=final_data, x='total_reports', y='GlobalRank', hue='mean_sentiment', palette='coolwarm')\n",
    "plt.title('Impact of Frequent News Reporting and Sentiment on Website\\'s Global Ranking')\n",
    "plt.xlabel('Total Number of Reports')\n",
    "plt.ylabel('Global Ranking')\n",
    "plt.show()"
   ],
   "metadata": {
    "colab": {
     "base_uri": "https://localhost:8080/",
     "height": 707
    },
    "id": "QKmpIYdaUaXD",
    "outputId": "cb21e9c7-f92a-42a1-b74d-2cb4320d101d"
   },
   "execution_count": 231,
   "outputs": [
    {
     "output_type": "display_data",
     "data": {
      "text/plain": [
       "<Figure size 1000x800 with 1 Axes>"
      ],
      "image/png": "[encoded data removed]"
     },
     "metadata": {}
    }
   ]
  },
  {
   "cell_type": "code",
   "source": [],
   "metadata": {
    "id": "i7xflJGb4MHp"
   },
   "execution_count": null,
   "outputs": []
  }
 ]
}

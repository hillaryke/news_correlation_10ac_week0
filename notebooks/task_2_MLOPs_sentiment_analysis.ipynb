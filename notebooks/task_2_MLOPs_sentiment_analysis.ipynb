{
 "cells": [
  {
   "cell_type": "markdown",
   "metadata": {
    "id": "EHJZmNu79yo1"
   },
   "source": [
    "# **Initialization**"
   ]
  },
  {
   "cell_type": "code",
   "execution_count": 101,
   "metadata": {
    "id": "CwF9-uPxqq9H"
   },
   "outputs": [],
   "source": [
    "import pandas as pd\n",
    "import re\n",
    "import spacy\n",
    "from collections import Counter\n",
    "from textblob import TextBlob\n",
    "# from google.colab import drive\n",
    "\n",
    "from sklearn.feature_extraction.text import CountVectorizer\n",
    "from numpy import array, log\n",
    "from sklearn.feature_extraction.text import TfidfVectorizer\n",
    "from sklearn.metrics.pairwise import cosine_similarity\n",
    "from sklearn.feature_extraction.text import CountVectorizer\n",
    "from sklearn.feature_extraction import text"
   ]
  },
  {
   "cell_type": "markdown",
   "metadata": {
    "id": "V1-noCOLGrM-"
   },
   "source": [
    "#### Mount google drive where the csv files are stored"
   ]
  },
  {
   "cell_type": "code",
   "execution_count": 30,
   "metadata": {
    "colab": {
     "base_uri": "https://localhost:8080/"
    },
    "id": "ufJgt1IKGp-R",
    "outputId": "637928ad-31b2-49bc-93ed-df4c4d713503"
   },
   "outputs": [],
   "source": [
    "# Mount Google Drive\n",
    "# drive.mount('/content/drive', force_remount=True)"
   ]
  },
  {
   "cell_type": "markdown",
   "metadata": {
    "id": "SNwiOsie-Rwj"
   },
   "source": [
    "### Confirm if drive is mounted by listing the drive contents"
   ]
  },
  {
   "cell_type": "code",
   "execution_count": 31,
   "metadata": {
    "id": "-kDJtseNLTkv"
   },
   "outputs": [],
   "source": [
    "# !ls \"/content/drive/My Drive\""
   ]
  },
  {
   "cell_type": "code",
   "execution_count": 32,
   "metadata": {
    "id": "J8ulL16loykm"
   },
   "outputs": [],
   "source": [
    "# news_data = pd.read_csv('/content/drive/My Drive/all_news_data/data.csv')\n",
    "# traffic_data = pd.read_csv('/content/drive/My Drive/all_news_data/traffic.csv')\n",
    "# domains_location_data = pd.read_csv('/content/drive/My Drive/all_news_data/domains_location.csv')"
   ]
  },
  {
   "cell_type": "code",
   "execution_count": 33,
   "metadata": {
    "id": "J8ulL16loykm"
   },
   "outputs": [],
   "source": [
    "news_data = pd.read_csv('../data/data.csv')\n",
    "traffic_data = pd.read_csv('../data/traffic.csv')\n",
    "domains_location_data = pd.read_csv('../data/domains_location.csv')"
   ]
  },
  {
   "cell_type": "code",
   "execution_count": 34,
   "metadata": {
    "colab": {
     "base_uri": "https://localhost:8080/"
    },
    "id": "JKg5Fb43MThF",
    "outputId": "170a9835-24ef-414e-9301-78e0e83128d9"
   },
   "outputs": [
    {
     "data": {
      "text/plain": [
       "Index(['article_id', 'source_id', 'source_name', 'author', 'title',\n",
       "       'description', 'url', 'url_to_image', 'published_at', 'content',\n",
       "       'category', 'full_content'],\n",
       "      dtype='object')"
      ]
     },
     "execution_count": 34,
     "metadata": {},
     "output_type": "execute_result"
    }
   ],
   "source": [
    "news_data.columns"
   ]
  },
  {
   "cell_type": "code",
   "execution_count": 35,
   "metadata": {
    "colab": {
     "base_uri": "https://localhost:8080/",
     "height": 538
    },
    "id": "r2ns2ieqR7eM",
    "outputId": "4ae4d56e-1b12-4351-f952-a16c0c199428"
   },
   "outputs": [
    {
     "data": {
      "text/html": [
       "<div>\n",
       "<style scoped>\n",
       "    .dataframe tbody tr th:only-of-type {\n",
       "        vertical-align: middle;\n",
       "    }\n",
       "\n",
       "    .dataframe tbody tr th {\n",
       "        vertical-align: top;\n",
       "    }\n",
       "\n",
       "    .dataframe thead th {\n",
       "        text-align: right;\n",
       "    }\n",
       "</style>\n",
       "<table border=\"1\" class=\"dataframe\">\n",
       "  <thead>\n",
       "    <tr style=\"text-align: right;\">\n",
       "      <th></th>\n",
       "      <th>article_id</th>\n",
       "      <th>source_id</th>\n",
       "      <th>source_name</th>\n",
       "      <th>author</th>\n",
       "      <th>title</th>\n",
       "      <th>description</th>\n",
       "      <th>url</th>\n",
       "      <th>url_to_image</th>\n",
       "      <th>published_at</th>\n",
       "      <th>content</th>\n",
       "      <th>category</th>\n",
       "      <th>full_content</th>\n",
       "    </tr>\n",
       "  </thead>\n",
       "  <tbody>\n",
       "    <tr>\n",
       "      <th>0</th>\n",
       "      <td>89541</td>\n",
       "      <td>NaN</td>\n",
       "      <td>International Business Times</td>\n",
       "      <td>Paavan MATHEMA</td>\n",
       "      <td>UN Chief Urges World To 'Stop The Madness' Of ...</td>\n",
       "      <td>UN Secretary-General Antonio Guterres urged th...</td>\n",
       "      <td>https://www.ibtimes.com/un-chief-urges-world-s...</td>\n",
       "      <td>https://d.ibtimes.com/en/full/4496078/nepals-g...</td>\n",
       "      <td>2023-10-30 10:12:35.000000</td>\n",
       "      <td>UN Secretary-General Antonio Guterres urged th...</td>\n",
       "      <td>Nepal</td>\n",
       "      <td>UN Secretary-General Antonio Guterres urged th...</td>\n",
       "    </tr>\n",
       "    <tr>\n",
       "      <th>1</th>\n",
       "      <td>89542</td>\n",
       "      <td>NaN</td>\n",
       "      <td>Prtimes.jp</td>\n",
       "      <td>NaN</td>\n",
       "      <td>RANDEBOOよりワンランク上の大人っぽさが漂うニットとベストが新登場。</td>\n",
       "      <td>[株式会社Ainer]\\nRANDEBOO（ランデブー）では2023年7月18日(火)より公...</td>\n",
       "      <td>https://prtimes.jp/main/html/rd/p/000000147.00...</td>\n",
       "      <td>https://prtimes.jp/i/32220/147/ogp/d32220-147-...</td>\n",
       "      <td>2023-10-06 04:40:02.000000</td>\n",
       "      <td>RANDEBOO2023718()WEB2023 Autumn Winter \\n\"Nepa...</td>\n",
       "      <td>Nepal</td>\n",
       "      <td>NaN</td>\n",
       "    </tr>\n",
       "    <tr>\n",
       "      <th>2</th>\n",
       "      <td>89543</td>\n",
       "      <td>NaN</td>\n",
       "      <td>VOA News</td>\n",
       "      <td>webdesk@voanews.com (Agence France-Presse)</td>\n",
       "      <td>UN Chief Urges World to 'Stop the Madness' of ...</td>\n",
       "      <td>UN Secretary-General Antonio Guterres urged th...</td>\n",
       "      <td>https://www.voanews.com/a/un-chief-urges-world...</td>\n",
       "      <td>https://gdb.voanews.com/01000000-0a00-0242-60f...</td>\n",
       "      <td>2023-10-30 10:53:30.000000</td>\n",
       "      <td>Kathmandu, Nepal  UN Secretary-General Antonio...</td>\n",
       "      <td>Nepal</td>\n",
       "      <td>NaN</td>\n",
       "    </tr>\n",
       "    <tr>\n",
       "      <th>3</th>\n",
       "      <td>89545</td>\n",
       "      <td>NaN</td>\n",
       "      <td>The Indian Express</td>\n",
       "      <td>Editorial</td>\n",
       "      <td>Sikkim warning: Hydroelectricity push must be ...</td>\n",
       "      <td>Ecologists caution against the adverse effects...</td>\n",
       "      <td>https://indianexpress.com/article/opinion/edit...</td>\n",
       "      <td>https://images.indianexpress.com/2023/10/edit-...</td>\n",
       "      <td>2023-10-06 01:20:24.000000</td>\n",
       "      <td>At least 14 persons lost their lives and more ...</td>\n",
       "      <td>Nepal</td>\n",
       "      <td>At least 14 persons lost their lives and more ...</td>\n",
       "    </tr>\n",
       "    <tr>\n",
       "      <th>4</th>\n",
       "      <td>89547</td>\n",
       "      <td>NaN</td>\n",
       "      <td>The Times of Israel</td>\n",
       "      <td>Jacob Magid</td>\n",
       "      <td>200 foreigners, dual nationals cut down in Ham...</td>\n",
       "      <td>France lost 35 citizens, Thailand 33, US 31, U...</td>\n",
       "      <td>https://www.timesofisrael.com/200-foreigners-d...</td>\n",
       "      <td>https://static.timesofisrael.com/www/uploads/2...</td>\n",
       "      <td>2023-10-27 01:08:34.000000</td>\n",
       "      <td>Scores of foreign citizens were killed, taken ...</td>\n",
       "      <td>Nepal</td>\n",
       "      <td>NaN</td>\n",
       "    </tr>\n",
       "  </tbody>\n",
       "</table>\n",
       "</div>"
      ],
      "text/plain": [
       "   article_id source_id                   source_name  \\\n",
       "0       89541       NaN  International Business Times   \n",
       "1       89542       NaN                    Prtimes.jp   \n",
       "2       89543       NaN                      VOA News   \n",
       "3       89545       NaN            The Indian Express   \n",
       "4       89547       NaN           The Times of Israel   \n",
       "\n",
       "                                       author  \\\n",
       "0                              Paavan MATHEMA   \n",
       "1                                         NaN   \n",
       "2  webdesk@voanews.com (Agence France-Presse)   \n",
       "3                                   Editorial   \n",
       "4                                 Jacob Magid   \n",
       "\n",
       "                                               title  \\\n",
       "0  UN Chief Urges World To 'Stop The Madness' Of ...   \n",
       "1              RANDEBOOよりワンランク上の大人っぽさが漂うニットとベストが新登場。   \n",
       "2  UN Chief Urges World to 'Stop the Madness' of ...   \n",
       "3  Sikkim warning: Hydroelectricity push must be ...   \n",
       "4  200 foreigners, dual nationals cut down in Ham...   \n",
       "\n",
       "                                         description  \\\n",
       "0  UN Secretary-General Antonio Guterres urged th...   \n",
       "1  [株式会社Ainer]\\nRANDEBOO（ランデブー）では2023年7月18日(火)より公...   \n",
       "2  UN Secretary-General Antonio Guterres urged th...   \n",
       "3  Ecologists caution against the adverse effects...   \n",
       "4  France lost 35 citizens, Thailand 33, US 31, U...   \n",
       "\n",
       "                                                 url  \\\n",
       "0  https://www.ibtimes.com/un-chief-urges-world-s...   \n",
       "1  https://prtimes.jp/main/html/rd/p/000000147.00...   \n",
       "2  https://www.voanews.com/a/un-chief-urges-world...   \n",
       "3  https://indianexpress.com/article/opinion/edit...   \n",
       "4  https://www.timesofisrael.com/200-foreigners-d...   \n",
       "\n",
       "                                        url_to_image  \\\n",
       "0  https://d.ibtimes.com/en/full/4496078/nepals-g...   \n",
       "1  https://prtimes.jp/i/32220/147/ogp/d32220-147-...   \n",
       "2  https://gdb.voanews.com/01000000-0a00-0242-60f...   \n",
       "3  https://images.indianexpress.com/2023/10/edit-...   \n",
       "4  https://static.timesofisrael.com/www/uploads/2...   \n",
       "\n",
       "                 published_at  \\\n",
       "0  2023-10-30 10:12:35.000000   \n",
       "1  2023-10-06 04:40:02.000000   \n",
       "2  2023-10-30 10:53:30.000000   \n",
       "3  2023-10-06 01:20:24.000000   \n",
       "4  2023-10-27 01:08:34.000000   \n",
       "\n",
       "                                             content category  \\\n",
       "0  UN Secretary-General Antonio Guterres urged th...    Nepal   \n",
       "1  RANDEBOO2023718()WEB2023 Autumn Winter \\n\"Nepa...    Nepal   \n",
       "2  Kathmandu, Nepal  UN Secretary-General Antonio...    Nepal   \n",
       "3  At least 14 persons lost their lives and more ...    Nepal   \n",
       "4  Scores of foreign citizens were killed, taken ...    Nepal   \n",
       "\n",
       "                                        full_content  \n",
       "0  UN Secretary-General Antonio Guterres urged th...  \n",
       "1                                                NaN  \n",
       "2                                                NaN  \n",
       "3  At least 14 persons lost their lives and more ...  \n",
       "4                                                NaN  "
      ]
     },
     "execution_count": 35,
     "metadata": {},
     "output_type": "execute_result"
    }
   ],
   "source": [
    "news_data.head()"
   ]
  },
  {
   "cell_type": "markdown",
   "metadata": {
    "id": "Bs1lhMGJOWSr"
   },
   "source": [
    "# **Data preprocessing**"
   ]
  },
  {
   "cell_type": "code",
   "execution_count": 36,
   "metadata": {
    "id": "3hVEzuAdmIWZ"
   },
   "outputs": [],
   "source": [
    "# Function to preprocess source_name into source_id\n",
    "def preprocess_source_id(source_name):\n",
    "    # Convert to lowercase\n",
    "    source_id = source_name.lower()\n",
    "    # Replace spaces with hyphens\n",
    "    source_id = source_id.replace(\" \", \"-\")\n",
    "    # Keep only alphanumeric characters, hyphens, brackets and full stops\n",
    "    source_id = re.sub(r'[^\\w\\-.()]+', '', source_id)\n",
    "    return source_id\n",
    "\n",
    "# Apply the function to the source_name column to create the source_id column\n",
    "news_data['source_id'] = news_data['source_name'].apply(preprocess_source_id)"
   ]
  },
  {
   "cell_type": "code",
   "execution_count": 37,
   "metadata": {
    "id": "joe7r84GnkXa"
   },
   "outputs": [],
   "source": [
    "# Preprocessing for author column missing values\n",
    "news_data['author'].fillna('Unknown', inplace=True)\n",
    "\n",
    "# Deal with full_content\n",
    "news_data.dropna(subset=['full_content'], inplace=True)\n",
    "\n",
    "# Since url_to_image is not important we can fill with placeholder\n",
    "news_data['url_to_image'].fillna('http://example.com/placeholder.jpg', inplace=True)\n",
    "\n",
    "# same with description column, use placeholder, unless otherwise important\n",
    "news_data['description'].fillna('No description provided', inplace=True)\n",
    "\n",
    "# Replace missing values in 'category' with 'Unknown'\n",
    "news_data['category'].fillna('Unknown', inplace=True)\n",
    "\n",
    "# Replace missing values in 'title' with 'No title provided'\n",
    "news_data['title'].fillna('No title provided', inplace=True)"
   ]
  },
  {
   "cell_type": "code",
   "execution_count": 38,
   "metadata": {
    "id": "ulw2ymm0qT-4"
   },
   "outputs": [],
   "source": [
    "# Perform preprocessing and clean missing values on the domains_info dataset\n",
    "domains_location_data.dropna(subset=['Country'], inplace=True)"
   ]
  },
  {
   "cell_type": "markdown",
   "metadata": {
    "id": "I_jAlpZm3rqr"
   },
   "source": [
    "### More Preprocessing, on date fields"
   ]
  },
  {
   "cell_type": "code",
   "execution_count": 39,
   "metadata": {
    "id": "NwIWpCawiG0S"
   },
   "outputs": [
    {
     "ename": "ValueError",
     "evalue": "time data '2023-10-30 10:12:35.000000' does not match format 'ISO8601' (match)",
     "output_type": "error",
     "traceback": [
      "\u001b[0;31m---------------------------------------------------------------------------\u001b[0m",
      "\u001b[0;31mValueError\u001b[0m                                Traceback (most recent call last)",
      "Cell \u001b[0;32mIn[39], line 13\u001b[0m\n\u001b[1;32m     10\u001b[0m news_data\u001b[38;5;241m.\u001b[39mdrop_duplicates(inplace\u001b[38;5;241m=\u001b[39m\u001b[38;5;28;01mTrue\u001b[39;00m)\n\u001b[1;32m     12\u001b[0m \u001b[38;5;66;03m# Convert the 'published_at' column to datetime format\u001b[39;00m\n\u001b[0;32m---> 13\u001b[0m news_data[\u001b[38;5;124m'\u001b[39m\u001b[38;5;124mpublished_at\u001b[39m\u001b[38;5;124m'\u001b[39m] \u001b[38;5;241m=\u001b[39m pd\u001b[38;5;241m.\u001b[39mto_datetime(news_data[\u001b[38;5;124m'\u001b[39m\u001b[38;5;124mpublished_at\u001b[39m\u001b[38;5;124m'\u001b[39m], \u001b[38;5;28mformat\u001b[39m\u001b[38;5;241m=\u001b[39m\u001b[38;5;124m'\u001b[39m\u001b[38;5;124mISO8601\u001b[39m\u001b[38;5;124m'\u001b[39m)\n\u001b[1;32m     14\u001b[0m \u001b[38;5;66;03m# news_data['published_at'] = pd.to_datetime(news_data['published_at'])\u001b[39;00m\n\u001b[1;32m     15\u001b[0m \n\u001b[1;32m     16\u001b[0m \u001b[38;5;66;03m# Extract the year from the 'published_at' column\u001b[39;00m\n\u001b[1;32m     17\u001b[0m news_data[\u001b[38;5;124m'\u001b[39m\u001b[38;5;124myear\u001b[39m\u001b[38;5;124m'\u001b[39m] \u001b[38;5;241m=\u001b[39m news_data[\u001b[38;5;124m'\u001b[39m\u001b[38;5;124mpublished_at\u001b[39m\u001b[38;5;124m'\u001b[39m]\u001b[38;5;241m.\u001b[39mdt\u001b[38;5;241m.\u001b[39myear\n",
      "File \u001b[0;32m~/anaconda3/envs/10academyw0/lib/python3.12/site-packages/pandas/core/tools/datetimes.py:1068\u001b[0m, in \u001b[0;36mto_datetime\u001b[0;34m(arg, errors, dayfirst, yearfirst, utc, format, exact, unit, infer_datetime_format, origin, cache)\u001b[0m\n\u001b[1;32m   1066\u001b[0m         result \u001b[38;5;241m=\u001b[39m arg\u001b[38;5;241m.\u001b[39mmap(cache_array)\n\u001b[1;32m   1067\u001b[0m     \u001b[38;5;28;01melse\u001b[39;00m:\n\u001b[0;32m-> 1068\u001b[0m         values \u001b[38;5;241m=\u001b[39m convert_listlike(arg\u001b[38;5;241m.\u001b[39m_values, \u001b[38;5;28mformat\u001b[39m)\n\u001b[1;32m   1069\u001b[0m         result \u001b[38;5;241m=\u001b[39m arg\u001b[38;5;241m.\u001b[39m_constructor(values, index\u001b[38;5;241m=\u001b[39marg\u001b[38;5;241m.\u001b[39mindex, name\u001b[38;5;241m=\u001b[39marg\u001b[38;5;241m.\u001b[39mname)\n\u001b[1;32m   1070\u001b[0m \u001b[38;5;28;01melif\u001b[39;00m \u001b[38;5;28misinstance\u001b[39m(arg, (ABCDataFrame, abc\u001b[38;5;241m.\u001b[39mMutableMapping)):\n",
      "File \u001b[0;32m~/anaconda3/envs/10academyw0/lib/python3.12/site-packages/pandas/core/tools/datetimes.py:430\u001b[0m, in \u001b[0;36m_convert_listlike_datetimes\u001b[0;34m(arg, format, name, tz, unit, errors, infer_datetime_format, dayfirst, yearfirst, exact)\u001b[0m\n\u001b[1;32m    427\u001b[0m         \u001b[38;5;28mformat\u001b[39m \u001b[38;5;241m=\u001b[39m \u001b[38;5;28;01mNone\u001b[39;00m\n\u001b[1;32m    429\u001b[0m \u001b[38;5;28;01mif\u001b[39;00m \u001b[38;5;28mformat\u001b[39m \u001b[38;5;129;01mis\u001b[39;00m \u001b[38;5;129;01mnot\u001b[39;00m \u001b[38;5;28;01mNone\u001b[39;00m:\n\u001b[0;32m--> 430\u001b[0m     res \u001b[38;5;241m=\u001b[39m _to_datetime_with_format(\n\u001b[1;32m    431\u001b[0m         arg, orig_arg, name, tz, \u001b[38;5;28mformat\u001b[39m, exact, errors, infer_datetime_format\n\u001b[1;32m    432\u001b[0m     )\n\u001b[1;32m    433\u001b[0m     \u001b[38;5;28;01mif\u001b[39;00m res \u001b[38;5;129;01mis\u001b[39;00m \u001b[38;5;129;01mnot\u001b[39;00m \u001b[38;5;28;01mNone\u001b[39;00m:\n\u001b[1;32m    434\u001b[0m         \u001b[38;5;28;01mreturn\u001b[39;00m res\n",
      "File \u001b[0;32m~/anaconda3/envs/10academyw0/lib/python3.12/site-packages/pandas/core/tools/datetimes.py:538\u001b[0m, in \u001b[0;36m_to_datetime_with_format\u001b[0;34m(arg, orig_arg, name, tz, fmt, exact, errors, infer_datetime_format)\u001b[0m\n\u001b[1;32m    535\u001b[0m         \u001b[38;5;28;01mreturn\u001b[39;00m _box_as_indexlike(result, utc\u001b[38;5;241m=\u001b[39mutc, name\u001b[38;5;241m=\u001b[39mname)\n\u001b[1;32m    537\u001b[0m \u001b[38;5;66;03m# fallback\u001b[39;00m\n\u001b[0;32m--> 538\u001b[0m res \u001b[38;5;241m=\u001b[39m _array_strptime_with_fallback(\n\u001b[1;32m    539\u001b[0m     arg, name, tz, fmt, exact, errors, infer_datetime_format\n\u001b[1;32m    540\u001b[0m )\n\u001b[1;32m    541\u001b[0m \u001b[38;5;28;01mreturn\u001b[39;00m res\n",
      "File \u001b[0;32m~/anaconda3/envs/10academyw0/lib/python3.12/site-packages/pandas/core/tools/datetimes.py:473\u001b[0m, in \u001b[0;36m_array_strptime_with_fallback\u001b[0;34m(arg, name, tz, fmt, exact, errors, infer_datetime_format)\u001b[0m\n\u001b[1;32m    470\u001b[0m utc \u001b[38;5;241m=\u001b[39m tz \u001b[38;5;241m==\u001b[39m \u001b[38;5;124m\"\u001b[39m\u001b[38;5;124mutc\u001b[39m\u001b[38;5;124m\"\u001b[39m\n\u001b[1;32m    472\u001b[0m \u001b[38;5;28;01mtry\u001b[39;00m:\n\u001b[0;32m--> 473\u001b[0m     result, timezones \u001b[38;5;241m=\u001b[39m array_strptime(arg, fmt, exact\u001b[38;5;241m=\u001b[39mexact, errors\u001b[38;5;241m=\u001b[39merrors)\n\u001b[1;32m    474\u001b[0m \u001b[38;5;28;01mexcept\u001b[39;00m OutOfBoundsDatetime:\n\u001b[1;32m    475\u001b[0m     \u001b[38;5;28;01mif\u001b[39;00m errors \u001b[38;5;241m==\u001b[39m \u001b[38;5;124m\"\u001b[39m\u001b[38;5;124mraise\u001b[39m\u001b[38;5;124m\"\u001b[39m:\n",
      "File \u001b[0;32m~/anaconda3/envs/10academyw0/lib/python3.12/site-packages/pandas/_libs/tslibs/strptime.pyx:150\u001b[0m, in \u001b[0;36mpandas._libs.tslibs.strptime.array_strptime\u001b[0;34m()\u001b[0m\n",
      "\u001b[0;31mValueError\u001b[0m: time data '2023-10-30 10:12:35.000000' does not match format 'ISO8601' (match)"
     ]
    }
   ],
   "source": [
    "# prompt: Using dataframe news_data: perform data preprocessing and cleaning\n",
    "\n",
    "# Check for missing values\n",
    "news_data.isnull().sum()\n",
    "\n",
    "# Drop rows with missing values\n",
    "news_data.dropna(inplace=True)\n",
    "\n",
    "# Remove duplicate rows\n",
    "news_data.drop_duplicates(inplace=True)\n",
    "\n",
    "# Convert the 'published_at' column to datetime format\n",
    "news_data['published_at'] = pd.to_datetime(news_data['published_at'], format='ISO8601')\n",
    "# news_data['published_at'] = pd.to_datetime(news_data['published_at'])\n",
    "\n",
    "# Extract the year from the 'published_at' column\n",
    "news_data['year'] = news_data['published_at'].dt.year\n",
    "\n",
    "# Group the data by year and calculate"
   ]
  },
  {
   "cell_type": "code",
   "execution_count": null,
   "metadata": {
    "colab": {
     "base_uri": "https://localhost:8080/",
     "height": 643
    },
    "id": "SlHyrPjRmTdm",
    "outputId": "fa2023b0-47c3-4516-d8c4-6dd9b0713e6f"
   },
   "outputs": [],
   "source": [
    "news_data.head()"
   ]
  },
  {
   "cell_type": "code",
   "execution_count": 40,
   "metadata": {
    "colab": {
     "base_uri": "https://localhost:8080/"
    },
    "id": "CqYRkuRMPI0j",
    "outputId": "00b24761-79b1-4721-a9b3-5c0a98edd3a1"
   },
   "outputs": [
    {
     "name": "stdout",
     "output_type": "stream",
     "text": [
      "article_id      0\n",
      "source_id       0\n",
      "source_name     0\n",
      "author          0\n",
      "title           0\n",
      "description     0\n",
      "url             0\n",
      "url_to_image    0\n",
      "published_at    0\n",
      "content         0\n",
      "category        0\n",
      "full_content    0\n",
      "dtype: int64\n"
     ]
    }
   ],
   "source": [
    "missing_values_news_data = news_data.isnull().sum()\n",
    "print(missing_values_news_data)"
   ]
  },
  {
   "cell_type": "code",
   "execution_count": 41,
   "metadata": {
    "colab": {
     "base_uri": "https://localhost:8080/"
    },
    "id": "x5UAEg61QeDm",
    "outputId": "4740c3fa-6487-4c61-fa05-db3793c49c85"
   },
   "outputs": [
    {
     "name": "stdout",
     "output_type": "stream",
     "text": [
      "SourceCommonName    0\n",
      "location            0\n",
      "Country             0\n",
      "dtype: int64\n"
     ]
    }
   ],
   "source": [
    "missing_values_domains_location_data = domains_location_data.isnull().sum()\n",
    "print(missing_values_domains_location_data)\n",
    "\n"
   ]
  },
  {
   "cell_type": "code",
   "execution_count": 42,
   "metadata": {
    "colab": {
     "base_uri": "https://localhost:8080/"
    },
    "id": "f-23hlE5Qkir",
    "outputId": "eaf56a0d-1b5f-468a-84b7-c501ca98f578"
   },
   "outputs": [
    {
     "name": "stdout",
     "output_type": "stream",
     "text": [
      "GlobalRank        0\n",
      "TldRank           0\n",
      "Domain            0\n",
      "TLD               0\n",
      "RefSubNets        0\n",
      "RefIPs            0\n",
      "IDN_Domain        0\n",
      "IDN_TLD           0\n",
      "PrevGlobalRank    0\n",
      "PrevTldRank       0\n",
      "PrevRefSubNets    0\n",
      "PrevRefIPs        0\n",
      "dtype: int64\n"
     ]
    }
   ],
   "source": [
    "missing_values_traffic_data = traffic_data.isnull().sum()\n",
    "print(missing_values_traffic_data)"
   ]
  },
  {
   "cell_type": "code",
   "execution_count": 43,
   "metadata": {
    "colab": {
     "base_uri": "https://localhost:8080/"
    },
    "id": "TAERvg3tOFQi",
    "outputId": "5c307a90-8eeb-4ab2-c441-847133a30af3"
   },
   "outputs": [
    {
     "data": {
      "text/plain": [
       "Index(['SourceCommonName', 'location', 'Country'], dtype='object')"
      ]
     },
     "execution_count": 43,
     "metadata": {},
     "output_type": "execute_result"
    }
   ],
   "source": [
    "domains_location_data.columns"
   ]
  },
  {
   "cell_type": "markdown",
   "metadata": {
    "id": "dpXwKG8EQ1nv"
   },
   "source": [
    "### Fix missing values"
   ]
  },
  {
   "cell_type": "code",
   "execution_count": 44,
   "metadata": {
    "colab": {
     "base_uri": "https://localhost:8080/"
    },
    "id": "Ajb41xNgOCXI",
    "outputId": "d3d6c08d-d8be-4f2f-ee39-c8a309c8acf8"
   },
   "outputs": [
    {
     "data": {
      "text/plain": [
       "Index(['GlobalRank', 'TldRank', 'Domain', 'TLD', 'RefSubNets', 'RefIPs',\n",
       "       'IDN_Domain', 'IDN_TLD', 'PrevGlobalRank', 'PrevTldRank',\n",
       "       'PrevRefSubNets', 'PrevRefIPs'],\n",
       "      dtype='object')"
      ]
     },
     "execution_count": 44,
     "metadata": {},
     "output_type": "execute_result"
    }
   ],
   "source": [
    "traffic_data.columns"
   ]
  },
  {
   "cell_type": "code",
   "execution_count": 45,
   "metadata": {
    "colab": {
     "base_uri": "https://localhost:8080/"
    },
    "id": "6B-6yWtuQ1J8",
    "outputId": "24822425-09d8-464f-cf79-7f5a230fd447"
   },
   "outputs": [
    {
     "name": "stdout",
     "output_type": "stream",
     "text": [
      "article_id      0\n",
      "source_id       0\n",
      "source_name     0\n",
      "author          0\n",
      "title           0\n",
      "description     0\n",
      "url             0\n",
      "url_to_image    0\n",
      "published_at    0\n",
      "content         0\n",
      "category        0\n",
      "full_content    0\n",
      "dtype: int64\n"
     ]
    }
   ],
   "source": [
    "news_data = news_data.dropna()\n",
    "missing_values_news_data = news_data.isnull().sum()\n",
    "print(missing_values_news_data)"
   ]
  },
  {
   "cell_type": "markdown",
   "metadata": {
    "id": "TMAjSrk-PnT6"
   },
   "source": [
    "### Check outliers"
   ]
  },
  {
   "cell_type": "code",
   "execution_count": 46,
   "metadata": {
    "colab": {
     "base_uri": "https://localhost:8080/"
    },
    "id": "JabKCySD2Wxt",
    "outputId": "4d951df1-1de4-4a6e-a0e0-f4f1ffb9692d"
   },
   "outputs": [
    {
     "data": {
      "text/plain": [
       "article_id      False\n",
       "source_id       False\n",
       "source_name     False\n",
       "author          False\n",
       "title           False\n",
       "description     False\n",
       "url             False\n",
       "url_to_image    False\n",
       "published_at    False\n",
       "content         False\n",
       "category        False\n",
       "full_content    False\n",
       "dtype: bool"
      ]
     },
     "execution_count": 46,
     "metadata": {},
     "output_type": "execute_result"
    }
   ],
   "source": [
    "# Check for missing values\n",
    "news_data.isnull().all()"
   ]
  },
  {
   "cell_type": "code",
   "execution_count": 47,
   "metadata": {
    "colab": {
     "base_uri": "https://localhost:8080/"
    },
    "id": "zz_uLmTG2Au3",
    "outputId": "8ad4140c-f6a8-4378-dab3-e8455aa12673"
   },
   "outputs": [
    {
     "data": {
      "text/plain": [
       "54889"
      ]
     },
     "execution_count": 47,
     "metadata": {},
     "output_type": "execute_result"
    }
   ],
   "source": [
    "len(news_data)"
   ]
  },
  {
   "cell_type": "code",
   "execution_count": 48,
   "metadata": {
    "colab": {
     "base_uri": "https://localhost:8080/"
    },
    "id": "TEcWLyWp2i8Z",
    "outputId": "edc96835-1bf7-4980-87c5-b16cd1d37cde"
   },
   "outputs": [
    {
     "data": {
      "text/plain": [
       "SourceCommonName    False\n",
       "location            False\n",
       "Country             False\n",
       "dtype: bool"
      ]
     },
     "execution_count": 48,
     "metadata": {},
     "output_type": "execute_result"
    }
   ],
   "source": [
    "domains_location_data.isnull().all()"
   ]
  },
  {
   "cell_type": "code",
   "execution_count": 49,
   "metadata": {
    "colab": {
     "base_uri": "https://localhost:8080/"
    },
    "id": "H-gE94WN2oCm",
    "outputId": "35b448c8-5500-4149-c148-b4cca514aa2f"
   },
   "outputs": [
    {
     "data": {
      "text/plain": [
       "False"
      ]
     },
     "execution_count": 49,
     "metadata": {},
     "output_type": "execute_result"
    }
   ],
   "source": [
    "domains_location_data.empty"
   ]
  },
  {
   "cell_type": "code",
   "execution_count": 50,
   "metadata": {
    "colab": {
     "base_uri": "https://localhost:8080/"
    },
    "id": "yLRUkzgn9ro_",
    "outputId": "326130c5-767b-4544-f7ca-d1f49e825d84"
   },
   "outputs": [
    {
     "data": {
      "text/plain": [
       "Index(['article_id', 'source_id', 'source_name', 'author', 'title',\n",
       "       'description', 'url', 'url_to_image', 'published_at', 'content',\n",
       "       'category', 'full_content'],\n",
       "      dtype='object')"
      ]
     },
     "execution_count": 50,
     "metadata": {},
     "output_type": "execute_result"
    }
   ],
   "source": [
    "news_data.columns"
   ]
  },
  {
   "cell_type": "code",
   "execution_count": 51,
   "metadata": {
    "colab": {
     "base_uri": "https://localhost:8080/"
    },
    "id": "cBw8UILY94f4",
    "outputId": "82d810cf-9438-421e-d479-4bee3db97a85"
   },
   "outputs": [
    {
     "name": "stdout",
     "output_type": "stream",
     "text": [
      "<class 'pandas.core.frame.DataFrame'>\n",
      "Int64Index: 54889 entries, 0 to 105374\n",
      "Data columns (total 12 columns):\n",
      " #   Column        Non-Null Count  Dtype \n",
      "---  ------        --------------  ----- \n",
      " 0   article_id    54889 non-null  int64 \n",
      " 1   source_id     54889 non-null  object\n",
      " 2   source_name   54889 non-null  object\n",
      " 3   author        54889 non-null  object\n",
      " 4   title         54889 non-null  object\n",
      " 5   description   54889 non-null  object\n",
      " 6   url           54889 non-null  object\n",
      " 7   url_to_image  54889 non-null  object\n",
      " 8   published_at  54889 non-null  object\n",
      " 9   content       54889 non-null  object\n",
      " 10  category      54889 non-null  object\n",
      " 11  full_content  54889 non-null  object\n",
      "dtypes: int64(1), object(11)\n",
      "memory usage: 5.4+ MB\n"
     ]
    }
   ],
   "source": [
    "news_data.info()"
   ]
  },
  {
   "cell_type": "code",
   "execution_count": 52,
   "metadata": {
    "colab": {
     "base_uri": "https://localhost:8080/",
     "height": 300
    },
    "id": "c4uoVetA99Aw",
    "outputId": "ef936e63-8559-482f-ff9a-30e1579a4270"
   },
   "outputs": [
    {
     "data": {
      "text/html": [
       "<div>\n",
       "<style scoped>\n",
       "    .dataframe tbody tr th:only-of-type {\n",
       "        vertical-align: middle;\n",
       "    }\n",
       "\n",
       "    .dataframe tbody tr th {\n",
       "        vertical-align: top;\n",
       "    }\n",
       "\n",
       "    .dataframe thead th {\n",
       "        text-align: right;\n",
       "    }\n",
       "</style>\n",
       "<table border=\"1\" class=\"dataframe\">\n",
       "  <thead>\n",
       "    <tr style=\"text-align: right;\">\n",
       "      <th></th>\n",
       "      <th>article_id</th>\n",
       "    </tr>\n",
       "  </thead>\n",
       "  <tbody>\n",
       "    <tr>\n",
       "      <th>count</th>\n",
       "      <td>54889.000000</td>\n",
       "    </tr>\n",
       "    <tr>\n",
       "      <th>mean</th>\n",
       "      <td>305940.568019</td>\n",
       "    </tr>\n",
       "    <tr>\n",
       "      <th>std</th>\n",
       "      <td>220864.360813</td>\n",
       "    </tr>\n",
       "    <tr>\n",
       "      <th>min</th>\n",
       "      <td>418.000000</td>\n",
       "    </tr>\n",
       "    <tr>\n",
       "      <th>25%</th>\n",
       "      <td>105821.000000</td>\n",
       "    </tr>\n",
       "    <tr>\n",
       "      <th>50%</th>\n",
       "      <td>271035.000000</td>\n",
       "    </tr>\n",
       "    <tr>\n",
       "      <th>75%</th>\n",
       "      <td>469868.000000</td>\n",
       "    </tr>\n",
       "    <tr>\n",
       "      <th>max</th>\n",
       "      <td>781308.000000</td>\n",
       "    </tr>\n",
       "  </tbody>\n",
       "</table>\n",
       "</div>"
      ],
      "text/plain": [
       "          article_id\n",
       "count   54889.000000\n",
       "mean   305940.568019\n",
       "std    220864.360813\n",
       "min       418.000000\n",
       "25%    105821.000000\n",
       "50%    271035.000000\n",
       "75%    469868.000000\n",
       "max    781308.000000"
      ]
     },
     "execution_count": 52,
     "metadata": {},
     "output_type": "execute_result"
    }
   ],
   "source": [
    "news_data.describe()"
   ]
  },
  {
   "cell_type": "code",
   "execution_count": null,
   "metadata": {
    "id": "yb02ddpOWSgZ"
   },
   "outputs": [],
   "source": []
  },
  {
   "cell_type": "markdown",
   "metadata": {
    "id": "9g7hgzhqWcBZ"
   },
   "source": [
    "# **NLP**"
   ]
  },
  {
   "cell_type": "markdown",
   "metadata": {
    "id": "kbf8QaIaWmKi"
   },
   "source": [
    "## Keyword Extraction with TF-IDF"
   ]
  },
  {
   "cell_type": "code",
   "execution_count": 108,
   "metadata": {
    "id": "HY56te74WfzB"
   },
   "outputs": [],
   "source": [
    "def extract_keywords_custom_tfidf(text_data, max_features=10):\n",
    "    # Use the 'article' column as the text data\n",
    "    array_text = text_data.dropna().tolist()\n",
    "\n",
    "     # Extend the stop words used by CountVectorizer\n",
    "    stop_words = text.ENGLISH_STOP_WORDS.union(['said', 'new'])\n",
    "\n",
    "    # Convert the set of stop words to a list\n",
    "    stop_words = list(stop_words)\n",
    "\n",
    "    # Initialize the CountVectorizer with stop_words set to 'english'\n",
    "    vectorizer = CountVectorizer(max_features=max_features, stop_words=stop_words)\n",
    "    \n",
    "    # Fit the vectorizer on the text data\n",
    "    tf = vectorizer.fit_transform([x.lower() for x in array_text])\n",
    "    tf = tf.toarray()\n",
    "    tf = log(tf + 1)\n",
    "\n",
    "    # Compute IDF values\n",
    "    df = pd.DataFrame(tf, columns=vectorizer.get_feature_names_out())\n",
    "    # calculates the Inverse Document Frequency (IDF) for each word in the text data.\n",
    "    idf = (len(array_text) / (df > 0).sum()).apply(log)\n",
    "\n",
    "    # We are ready to multiply the TF and IDF values to get the TF-IDF values.\n",
    "    tfidf = tf.copy()\n",
    "    words = array(vectorizer.get_feature_names_out())\n",
    "\n",
    "    for word in words:\n",
    "        tfidf[:, words == word] = tfidf[:, words == word] * idf[word]\n",
    "\n",
    "    keywords = []\n",
    "    for j in range(tfidf.shape[0]):\n",
    "        # Get the top 5 words with the highest TF-IDF values\n",
    "        top_words = [words[i] for i in tfidf[j].argsort()[-5:][::-1]]\n",
    "        keywords.append(top_words)\n",
    "\n",
    "    return keywords"
   ]
  },
  {
   "cell_type": "markdown",
   "metadata": {},
   "source": [
    "### Extract keywords for the first 10 and last 10 articles' title and content\n"
   ]
  },
  {
   "cell_type": "code",
   "execution_count": 109,
   "metadata": {},
   "outputs": [],
   "source": [
    "# Extract keywords for the first 10 and last 10 articles' title and content\n",
    "limited_news_data = pd.concat([news_data.head(10), news_data.tail(10)])\n",
    "limited_news_data['title_keywords'] = extract_keywords_custom_tfidf(limited_news_data['title'])\n",
    "limited_news_data['content_keywords'] = extract_keywords_custom_tfidf(limited_news_data['full_content'])"
   ]
  },
  {
   "cell_type": "markdown",
   "metadata": {},
   "source": [
    "#### Check the added columns of keywords"
   ]
  },
  {
   "cell_type": "code",
   "execution_count": 112,
   "metadata": {},
   "outputs": [
    {
     "data": {
      "text/html": [
       "<div>\n",
       "<style scoped>\n",
       "    .dataframe tbody tr th:only-of-type {\n",
       "        vertical-align: middle;\n",
       "    }\n",
       "\n",
       "    .dataframe tbody tr th {\n",
       "        vertical-align: top;\n",
       "    }\n",
       "\n",
       "    .dataframe thead th {\n",
       "        text-align: right;\n",
       "    }\n",
       "</style>\n",
       "<table border=\"1\" class=\"dataframe\">\n",
       "  <thead>\n",
       "    <tr style=\"text-align: right;\">\n",
       "      <th></th>\n",
       "      <th>article_id</th>\n",
       "      <th>source_id</th>\n",
       "      <th>source_name</th>\n",
       "      <th>author</th>\n",
       "      <th>title</th>\n",
       "      <th>description</th>\n",
       "      <th>url</th>\n",
       "      <th>url_to_image</th>\n",
       "      <th>published_at</th>\n",
       "      <th>content</th>\n",
       "      <th>category</th>\n",
       "      <th>full_content</th>\n",
       "      <th>title_keywords</th>\n",
       "      <th>content_keywords</th>\n",
       "    </tr>\n",
       "  </thead>\n",
       "  <tbody>\n",
       "    <tr>\n",
       "      <th>0</th>\n",
       "      <td>89541</td>\n",
       "      <td>international-business-times</td>\n",
       "      <td>International Business Times</td>\n",
       "      <td>Paavan MATHEMA</td>\n",
       "      <td>UN Chief Urges World To 'Stop The Madness' Of ...</td>\n",
       "      <td>UN Secretary-General Antonio Guterres urged th...</td>\n",
       "      <td>https://www.ibtimes.com/un-chief-urges-world-s...</td>\n",
       "      <td>https://d.ibtimes.com/en/full/4496078/nepals-g...</td>\n",
       "      <td>2023-10-30 10:12:35.000000</td>\n",
       "      <td>UN Secretary-General Antonio Guterres urged th...</td>\n",
       "      <td>Nepal</td>\n",
       "      <td>UN Secretary-General Antonio Guterres urged th...</td>\n",
       "      <td>[world, climate, chief, change, pay]</td>\n",
       "      <td>[world, people, million, state, israel]</td>\n",
       "    </tr>\n",
       "    <tr>\n",
       "      <th>3</th>\n",
       "      <td>89545</td>\n",
       "      <td>the-indian-express</td>\n",
       "      <td>The Indian Express</td>\n",
       "      <td>Editorial</td>\n",
       "      <td>Sikkim warning: Hydroelectricity push must be ...</td>\n",
       "      <td>Ecologists caution against the adverse effects...</td>\n",
       "      <td>https://indianexpress.com/article/opinion/edit...</td>\n",
       "      <td>https://images.indianexpress.com/2023/10/edit-...</td>\n",
       "      <td>2023-10-06 01:20:24.000000</td>\n",
       "      <td>At least 14 persons lost their lives and more ...</td>\n",
       "      <td>Nepal</td>\n",
       "      <td>At least 14 persons lost their lives and more ...</td>\n",
       "      <td>[world, pay, party, palestine, india]</td>\n",
       "      <td>[state, indian, government, people, world]</td>\n",
       "    </tr>\n",
       "    <tr>\n",
       "      <th>6</th>\n",
       "      <td>89551</td>\n",
       "      <td>al-jazeera-english</td>\n",
       "      <td>Al Jazeera English</td>\n",
       "      <td>Kaushik Raj</td>\n",
       "      <td>Pro-Israel rallies allowed in India but Palest...</td>\n",
       "      <td>India, the first non-Arab country to recognise...</td>\n",
       "      <td>https://www.aljazeera.com/news/2023/10/25/pro-...</td>\n",
       "      <td>https://www.aljazeera.com/wp-content/uploads/2...</td>\n",
       "      <td>2023-10-25 09:58:17.000000</td>\n",
       "      <td>New Delhi, India Israels relentless bombing of...</td>\n",
       "      <td>Nepal</td>\n",
       "      <td>India, the first non-Arab country to recognise...</td>\n",
       "      <td>[palestine, india, world, pay, party]</td>\n",
       "      <td>[israel, india, state, government, indian]</td>\n",
       "    </tr>\n",
       "    <tr>\n",
       "      <th>7</th>\n",
       "      <td>89555</td>\n",
       "      <td>the-indian-express</td>\n",
       "      <td>The Indian Express</td>\n",
       "      <td>New York Times</td>\n",
       "      <td>No nation in the world is buying more planes t...</td>\n",
       "      <td>India's largest airlines have ordered nearly 1...</td>\n",
       "      <td>https://indianexpress.com/article/business/avi...</td>\n",
       "      <td>https://images.indianexpress.com/2023/11/igiai...</td>\n",
       "      <td>2023-11-02 05:48:58.000000</td>\n",
       "      <td>No nation in the world is buying as many airpl...</td>\n",
       "      <td>Nepal</td>\n",
       "      <td>Written by Alex Travelli and Hari Kumar No nat...</td>\n",
       "      <td>[world, india, pay, party, palestine]</td>\n",
       "      <td>[india, million, indian, 000, world]</td>\n",
       "    </tr>\n",
       "    <tr>\n",
       "      <th>12</th>\n",
       "      <td>89563</td>\n",
       "      <td>the-times-of-india</td>\n",
       "      <td>The Times of India</td>\n",
       "      <td>Durgesh Nandan Jha</td>\n",
       "      <td>PM Hasina’s war on terror gets daughter India’...</td>\n",
       "      <td>India News: NEW DELHI: India preferred Banglad...</td>\n",
       "      <td>https://timesofindia.indiatimes.com/india/pm-h...</td>\n",
       "      <td>https://static.toiimg.com/thumb/msid-47529300,...</td>\n",
       "      <td>2023-11-02 01:12:47.000000</td>\n",
       "      <td>Ranked! Worlds most loved landmarks; Taj Mahal...</td>\n",
       "      <td>Nepal</td>\n",
       "      <td>NEW DELHI: India preferred Bangladesh over Nep...</td>\n",
       "      <td>[india, world, pay, party, palestine]</td>\n",
       "      <td>[india, world, state, people, million]</td>\n",
       "    </tr>\n",
       "  </tbody>\n",
       "</table>\n",
       "</div>"
      ],
      "text/plain": [
       "    article_id                     source_id                   source_name  \\\n",
       "0        89541  international-business-times  International Business Times   \n",
       "3        89545            the-indian-express            The Indian Express   \n",
       "6        89551            al-jazeera-english            Al Jazeera English   \n",
       "7        89555            the-indian-express            The Indian Express   \n",
       "12       89563            the-times-of-india            The Times of India   \n",
       "\n",
       "                author                                              title  \\\n",
       "0       Paavan MATHEMA  UN Chief Urges World To 'Stop The Madness' Of ...   \n",
       "3            Editorial  Sikkim warning: Hydroelectricity push must be ...   \n",
       "6          Kaushik Raj  Pro-Israel rallies allowed in India but Palest...   \n",
       "7       New York Times  No nation in the world is buying more planes t...   \n",
       "12  Durgesh Nandan Jha  PM Hasina’s war on terror gets daughter India’...   \n",
       "\n",
       "                                          description  \\\n",
       "0   UN Secretary-General Antonio Guterres urged th...   \n",
       "3   Ecologists caution against the adverse effects...   \n",
       "6   India, the first non-Arab country to recognise...   \n",
       "7   India's largest airlines have ordered nearly 1...   \n",
       "12  India News: NEW DELHI: India preferred Banglad...   \n",
       "\n",
       "                                                  url  \\\n",
       "0   https://www.ibtimes.com/un-chief-urges-world-s...   \n",
       "3   https://indianexpress.com/article/opinion/edit...   \n",
       "6   https://www.aljazeera.com/news/2023/10/25/pro-...   \n",
       "7   https://indianexpress.com/article/business/avi...   \n",
       "12  https://timesofindia.indiatimes.com/india/pm-h...   \n",
       "\n",
       "                                         url_to_image  \\\n",
       "0   https://d.ibtimes.com/en/full/4496078/nepals-g...   \n",
       "3   https://images.indianexpress.com/2023/10/edit-...   \n",
       "6   https://www.aljazeera.com/wp-content/uploads/2...   \n",
       "7   https://images.indianexpress.com/2023/11/igiai...   \n",
       "12  https://static.toiimg.com/thumb/msid-47529300,...   \n",
       "\n",
       "                  published_at  \\\n",
       "0   2023-10-30 10:12:35.000000   \n",
       "3   2023-10-06 01:20:24.000000   \n",
       "6   2023-10-25 09:58:17.000000   \n",
       "7   2023-11-02 05:48:58.000000   \n",
       "12  2023-11-02 01:12:47.000000   \n",
       "\n",
       "                                              content category  \\\n",
       "0   UN Secretary-General Antonio Guterres urged th...    Nepal   \n",
       "3   At least 14 persons lost their lives and more ...    Nepal   \n",
       "6   New Delhi, India Israels relentless bombing of...    Nepal   \n",
       "7   No nation in the world is buying as many airpl...    Nepal   \n",
       "12  Ranked! Worlds most loved landmarks; Taj Mahal...    Nepal   \n",
       "\n",
       "                                         full_content  \\\n",
       "0   UN Secretary-General Antonio Guterres urged th...   \n",
       "3   At least 14 persons lost their lives and more ...   \n",
       "6   India, the first non-Arab country to recognise...   \n",
       "7   Written by Alex Travelli and Hari Kumar No nat...   \n",
       "12  NEW DELHI: India preferred Bangladesh over Nep...   \n",
       "\n",
       "                           title_keywords  \\\n",
       "0    [world, climate, chief, change, pay]   \n",
       "3   [world, pay, party, palestine, india]   \n",
       "6   [palestine, india, world, pay, party]   \n",
       "7   [world, india, pay, party, palestine]   \n",
       "12  [india, world, pay, party, palestine]   \n",
       "\n",
       "                              content_keywords  \n",
       "0      [world, people, million, state, israel]  \n",
       "3   [state, indian, government, people, world]  \n",
       "6   [israel, india, state, government, indian]  \n",
       "7         [india, million, indian, 000, world]  \n",
       "12      [india, world, state, people, million]  "
      ]
     },
     "execution_count": 112,
     "metadata": {},
     "output_type": "execute_result"
    }
   ],
   "source": [
    "limited_news_data.head()"
   ]
  },
  {
   "cell_type": "markdown",
   "metadata": {},
   "source": [
    "### Similarity of keywords between title and keywords in the news"
   ]
  },
  {
   "cell_type": "code",
   "execution_count": null,
   "metadata": {},
   "outputs": [],
   "source": []
  },
  {
   "cell_type": "code",
   "execution_count": 125,
   "metadata": {
    "colab": {
     "base_uri": "https://localhost:8080/",
     "height": 220
    },
    "id": "quw05pg6Wp4K",
    "outputId": "6e9197fb-78c0-46c2-8666-35b728804646"
   },
   "outputs": [
    {
     "name": "stdout",
     "output_type": "stream",
     "text": [
      "The similarity score between keywords in the title and content of the articles is as follows:\n",
      "article 1: 0.18886369489717672\n",
      "article 2: 0.41171810764997363\n",
      "article 3: 0.41171810764997363\n",
      "article 4: 0.41171810764997363\n",
      "article 5: 0.41171810764997363\n",
      "article 6: 0.22109649138855314\n",
      "article 7: 0.41171810764997363\n",
      "article 8: 0.41171810764997363\n",
      "article 9: 0.25158568922967073\n",
      "article 10: 0.41171810764997363\n",
      "article 11: 0.2761797570583058\n",
      "article 12: 0.41171810764997363\n",
      "article 13: 0.41171810764997363\n",
      "article 14: 0.41171810764997363\n",
      "article 15: 0.41171810764997363\n",
      "article 16: 0.41171810764997363\n",
      "article 17: 0.41171810764997363\n",
      "article 18: 0.41171810764997363\n",
      "article 19: 0.2526691720356441\n",
      "article 20: 0.41171810764997363\n"
     ]
    }
   ],
   "source": [
    "# Convert the list of keywords for each article into a string\n",
    "limited_news_data['title_keywords_str'] = limited_news_data['title_keywords'].apply(' '.join)\n",
    "limited_news_data['content_keywords_str'] = limited_news_data['content_keywords'].apply(' '.join)\n",
    "\n",
    "# Initialize the TfidfVectorizer\n",
    "vectorizer = TfidfVectorizer()\n",
    "\n",
    "# Convert the keywords into TF-IDF vectors\n",
    "title_tfidf = vectorizer.fit_transform(limited_news_data['title_keywords_str'])\n",
    "content_tfidf = vectorizer.transform(limited_news_data['content_keywords_str'])\n",
    "\n",
    "# Calculate the cosine similarity between the title and content keywords for each article\n",
    "similarity_scores = cosine_similarity(title_tfidf, content_tfidf)\n",
    "\n",
    "# Print the similarity scores\n",
    "print(\"The similarity score between keywords in the title and content of the articles is as follows:\")\n",
    "for i, score in enumerate(similarity_scores):\n",
    "    print(f\"article {i+1}: {score[0]}\")"
   ]
  },
  {
   "cell_type": "markdown",
   "metadata": {
    "id": "-087zxdCXDE8"
   },
   "source": [
    "## Categorize the title/content into known set of topic categories"
   ]
  },
  {
   "cell_type": "code",
   "execution_count": 126,
   "metadata": {},
   "outputs": [
    {
     "ename": "ModuleNotFoundError",
     "evalue": "No module named 'bertopic'",
     "output_type": "error",
     "traceback": [
      "\u001b[0;31m---------------------------------------------------------------------------\u001b[0m",
      "\u001b[0;31mModuleNotFoundError\u001b[0m                       Traceback (most recent call last)",
      "Cell \u001b[0;32mIn[126], line 2\u001b[0m\n\u001b[1;32m      1\u001b[0m \u001b[38;5;66;03m# Import the necessary libraries\u001b[39;00m\n\u001b[0;32m----> 2\u001b[0m \u001b[38;5;28;01mfrom\u001b[39;00m \u001b[38;5;21;01mbertopic\u001b[39;00m \u001b[38;5;28;01mimport\u001b[39;00m BERTopic\n\u001b[1;32m      4\u001b[0m \u001b[38;5;66;03m# Assume news_data is your DataFrame and 'content' is the column with text data\u001b[39;00m\n\u001b[1;32m      5\u001b[0m docs \u001b[38;5;241m=\u001b[39m news_data[\u001b[38;5;124m'\u001b[39m\u001b[38;5;124mcontent\u001b[39m\u001b[38;5;124m'\u001b[39m]\u001b[38;5;241m.\u001b[39mvalues\u001b[38;5;241m.\u001b[39mtolist()\n",
      "\u001b[0;31mModuleNotFoundError\u001b[0m: No module named 'bertopic'"
     ]
    }
   ],
   "source": [
    "# Import the necessary libraries\n",
    "from bertopic import BERTopic\n",
    "\n",
    "# Assume news_data is your DataFrame and 'content' is the column with text data\n",
    "docs = news_data['content'].values.tolist()\n",
    "\n",
    "# Create an instance of BERTopic\n",
    "topic_model = BERTopic()\n",
    "\n",
    "# Fit BERTopic to your documents and transform the documents into topics\n",
    "topics, probs = topic_model.fit_transform(docs)\n",
    "\n",
    "# Get an overview of the topics\n",
    "topic_overview = topic_model.get_topic_info()\n",
    "\n",
    "# Print the overview\n",
    "print(topic_overview)"
   ]
  },
  {
   "cell_type": "code",
   "execution_count": null,
   "metadata": {},
   "outputs": [],
   "source": []
  }
 ],
 "metadata": {
  "colab": {
   "provenance": []
  },
  "kernelspec": {
   "display_name": "Python (10academyw0)",
   "language": "python",
   "name": "10academyw0"
  },
  "language_info": {
   "codemirror_mode": {
    "name": "ipython",
    "version": 3
   },
   "file_extension": ".py",
   "mimetype": "text/x-python",
   "name": "python",
   "nbconvert_exporter": "python",
   "pygments_lexer": "ipython3",
   "version": "3.12.2"
  }
 },
 "nbformat": 4,
 "nbformat_minor": 4
}

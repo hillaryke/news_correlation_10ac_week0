{
 "cells": [
  {
   "cell_type": "code",
   "execution_count": null,
   "id": "initial_id",
   "metadata": {
    "collapsed": true,
    "jupyter": {
     "outputs_hidden": true
    }
   },
   "outputs": [],
   "source": []
  },
  {
   "cell_type": "code",
   "execution_count": 1,
   "id": "e45b358c191e396b",
   "metadata": {
    "ExecuteTime": {
     "end_time": "2024-04-12T08:32:07.426864Z",
     "start_time": "2024-04-12T08:32:07.424667Z"
    },
    "collapsed": false,
    "jupyter": {
     "outputs_hidden": false
    }
   },
   "outputs": [],
   "source": [
    "import sqlalchemy\n",
    "import psycopg2"
   ]
  },
  {
   "cell_type": "code",
   "execution_count": 2,
   "id": "d84095405e8c54fc",
   "metadata": {
    "ExecuteTime": {
     "end_time": "2024-04-12T08:32:08.157549Z",
     "start_time": "2024-04-12T08:32:08.153538Z"
    },
    "collapsed": false,
    "jupyter": {
     "outputs_hidden": false
    }
   },
   "outputs": [],
   "source": [
    "# Database connection parameters\n",
    "dbname = 'postgres'\n",
    "user = 'news_admin'\n",
    "password = 'pass123'\n",
    "host = 'localhost'"
   ]
  },
  {
   "cell_type": "code",
   "execution_count": 3,
   "id": "e004b4d826af588e",
   "metadata": {
    "ExecuteTime": {
     "end_time": "2024-04-12T08:32:11.653566Z",
     "start_time": "2024-04-12T08:32:11.651014Z"
    },
    "collapsed": false,
    "jupyter": {
     "outputs_hidden": false
    }
   },
   "outputs": [],
   "source": [
    "# Create the connection string\n",
    "connection_string = f'postgresql://{user}:{password}@{host}/{dbname}'\n"
   ]
  },
  {
   "cell_type": "code",
   "execution_count": 4,
   "id": "b8750178ccadfc2b",
   "metadata": {
    "ExecuteTime": {
     "end_time": "2024-04-12T08:32:13.518933Z",
     "start_time": "2024-04-12T08:32:13.257186Z"
    },
    "collapsed": false,
    "jupyter": {
     "outputs_hidden": false
    }
   },
   "outputs": [],
   "source": [
    "# Create the database engine\n",
    "engine = sqlalchemy.create_engine(connection_string)"
   ]
  },
  {
   "cell_type": "code",
   "execution_count": null,
   "id": "76af8abf07c3bc38",
   "metadata": {
    "collapsed": false,
    "is_executing": true,
    "jupyter": {
     "outputs_hidden": false
    }
   },
   "outputs": [],
   "source": [
    "# Create a connection to the database\n",
    "connection = engine.connect()\n"
   ]
  },
  {
   "cell_type": "code",
   "execution_count": null,
   "id": "12145a4d1974078",
   "metadata": {
    "collapsed": false,
    "jupyter": {
     "outputs_hidden": false
    }
   },
   "outputs": [],
   "source": []
  }
 ],
 "metadata": {
  "kernelspec": {
   "display_name": "Python (10academyw0)",
   "language": "python",
   "name": "10academyw0"
  },
  "language_info": {
   "codemirror_mode": {
    "name": "ipython",
    "version": 3
   },
   "file_extension": ".py",
   "mimetype": "text/x-python",
   "name": "python",
   "nbconvert_exporter": "python",
   "pygments_lexer": "ipython3",
   "version": "3.12.2"
  }
 },
 "nbformat": 4,
 "nbformat_minor": 5
}
